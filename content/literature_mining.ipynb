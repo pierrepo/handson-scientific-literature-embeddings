{
 "cells": [
  {
   "cell_type": "markdown",
   "id": "d1db4466",
   "metadata": {},
   "source": [
    "# Scientific literature mining\n",
    "\n",
    "Embeddings are vector representations that capture semantic meaning, allowing us to measure similarity between documents in a high-dimensional space. Using embeddings, we will mine the scientific litterature to identify relationships between papers and find similar papers to a target query.\n",
    "\n",
    "Since embeddings are high-dimensional vectors, they cannot be easily visualized. We will use non-linear dimensionality reduction techniques like UMPA to project these vectors into a 2D space, allowing us to visualize the relationships between papers.\n",
    "\n",
    "We already have extracted title and abstract for several preprints from arXiv. These papers are taken from multiple topics:\n",
    "- *nanoporous materials*\n",
    "- *many-body*\n",
    "- *machine learning*\n",
    "- *quantum computing*\n",
    "- *biomolecular modeling*\n",
    "\n",
    "## Load required libraries"
   ]
  },
  {
   "cell_type": "code",
   "execution_count": 18,
   "id": "3d1e7bf4",
   "metadata": {},
   "outputs": [],
   "source": [
    "from itertools import cycle\n",
    "import json\n",
    "from pprint import pprint\n",
    "\n",
    "from fastembed import TextEmbedding\n",
    "import numpy as np\n",
    "import pandas as pd\n",
    "import plotly.express as px\n",
    "import plotly.graph_objs as go\n",
    "from sklearn.metrics.pairwise import cosine_similarity\n",
    "from tqdm.auto import tqdm\n",
    "import umap.umap_ as umap\n",
    "\n",
    "tqdm.pandas()"
   ]
  },
  {
   "cell_type": "markdown",
   "id": "c8ecfa1e",
   "metadata": {},
   "source": [
    "## Load the model\n",
    "\n",
    "See [sentence_embeddings.ipynb](sentence_embeddings.ipynb) for details about the model.\n",
    "\n",
    "Loading the model can take a few minutes, so be patient."
   ]
  },
  {
   "cell_type": "code",
   "execution_count": 19,
   "id": "e303b26f",
   "metadata": {},
   "outputs": [
    {
     "data": {
      "application/vnd.jupyter.widget-view+json": {
       "model_id": "c6829514962943bda7c9c20a22bb77aa",
       "version_major": 2,
       "version_minor": 0
      },
      "text/plain": [
       "Fetching 5 files:   0%|          | 0/5 [00:00<?, ?it/s]"
      ]
     },
     "metadata": {},
     "output_type": "display_data"
    }
   ],
   "source": [
    "model = TextEmbedding(\"nomic-ai/nomic-embed-text-v1.5-Q\")"
   ]
  },
  {
   "cell_type": "markdown",
   "id": "5448abc5",
   "metadata": {},
   "source": [
    "## Load the data\n",
    "\n",
    "The file `arxiv_preprints.csv` contains the metadata of the preprints, including title, abstract, publication date, arXiv id and search category. The file has been generated following a procedure described in [extract_arxiv.ipynb](extract_arxiv.ipynb). You don't need to run this notebook. The file is already available in the `content` folder."
   ]
  },
  {
   "cell_type": "code",
   "execution_count": 20,
   "id": "421f60a1",
   "metadata": {},
   "outputs": [],
   "source": [
    "f_in = open(\"arxiv_papers.json\")\n",
    "data = json.load(f_in)  ## Load the JSON data\n",
    "papers = pd.json_normalize(data) ## Convert to Pandas DataFrame"
   ]
  },
  {
   "cell_type": "markdown",
   "id": "25b39488",
   "metadata": {},
   "source": [
    "Display number of papers and the first paper:"
   ]
  },
  {
   "cell_type": "code",
   "execution_count": 21,
   "id": "cd5ca085",
   "metadata": {},
   "outputs": [
    {
     "name": "stdout",
     "output_type": "stream",
     "text": [
      "Dimensions of papers dataframe: (400, 5)\n",
      "First paper:\n",
      "id                          http://arxiv.org/abs/2402.01321v1\n",
      "date                                     2024-02-02T11:17:55Z\n",
      "title       Ionic Current Rectification in Nanopores: Effe...\n",
      "abstract    Ionic Current Rectification (ICR) can appear i...\n",
      "category                                 nanoporous materials\n",
      "Name: 0, dtype: object\n"
     ]
    }
   ],
   "source": [
    "print(f\"Dimensions of papers dataframe: {papers.shape}\")\n",
    "print(\"First paper:\")\n",
    "print(papers.iloc[0])"
   ]
  },
  {
   "cell_type": "markdown",
   "id": "96c44ada",
   "metadata": {},
   "source": [
    "## Generate embeddings\n",
    "\n",
    "Compute embedding for an example text:"
   ]
  },
  {
   "cell_type": "code",
   "execution_count": 22,
   "id": "cec28955",
   "metadata": {},
   "outputs": [
    {
     "name": "stdout",
     "output_type": "stream",
     "text": [
      "Dimensions of embedding: 768\n",
      "Embedding:\n",
      " [ 6.85422361e-01  4.58688557e-01 -3.03724766e+00 -1.82744217e+00\n",
      "  6.51969671e-01 -1.29643595e+00  4.81724292e-01  1.07385135e+00\n",
      " -1.17998578e-01 -7.65763342e-01 -8.64521801e-01  1.75569341e-01\n",
      "  1.18530381e+00  1.41094482e+00 -1.63788497e+00  5.00717998e-01\n",
      "  1.13027537e+00 -1.26548994e+00 -3.73842865e-01  9.51564729e-01\n",
      " -8.08863118e-02 -7.42730260e-01 -4.02823269e-01  3.35277945e-01\n",
      "  2.52884483e+00 -6.13623746e-02  3.61596733e-01  2.89210647e-01\n",
      " -9.97816205e-01 -7.75394812e-02  1.63237587e-01 -9.55110788e-02\n",
      " -6.27715170e-01 -1.04973698e+00  3.31976026e-01 -2.75149763e-01\n",
      " -5.32612741e-01  7.78294563e-01 -1.19025135e+00  1.85220286e-01\n",
      "  1.06071424e+00  2.93117553e-01 -7.58224964e-01 -3.90468806e-01\n",
      "  5.27690351e-01 -1.20820570e+00  3.43614668e-01 -5.94544113e-02\n",
      "  9.78886843e-01 -1.47128510e+00  7.82864809e-01 -3.54484141e-01\n",
      "  1.63565308e-01 -1.43609643e+00  2.02690530e+00 -3.45402271e-01\n",
      " -2.20752686e-01 -1.56293499e+00  8.58447477e-02 -6.40913844e-03\n",
      "  6.41104341e-01  1.56724977e+00 -2.25502992e+00  2.01006532e+00\n",
      "  6.93764627e-01  2.17209876e-01 -2.13824853e-01  1.28840327e+00\n",
      "  1.03904164e+00 -4.77821618e-01  9.70931172e-01  1.49480617e+00\n",
      "  2.33064651e-01 -2.12352164e-02 -4.42728251e-01 -1.07997203e+00\n",
      " -7.77042508e-01  4.55978245e-01  4.15452659e-01  1.05250430e+00\n",
      "  1.33770990e+00  5.14925599e-01  1.23866117e+00 -2.72830456e-01\n",
      "  1.93774569e+00  1.65746603e-02  2.84308136e-01 -4.84387010e-01\n",
      " -1.50714219e+00  1.20287836e+00  1.32060364e-01  7.28886798e-02\n",
      " -2.13242695e-01  1.36905682e+00 -5.36364436e-01 -3.73274349e-02\n",
      " -1.93283141e-01  7.25998878e-01  5.28881192e-01 -7.04280853e-01\n",
      " -1.18693590e+00  7.66988993e-02  3.46881777e-01 -9.11093578e-02\n",
      " -2.64481679e-02  8.02865863e-01  8.32276523e-01  3.52755278e-01\n",
      " -5.87646484e-01 -4.97319967e-01  5.92571869e-02  3.06556761e-01\n",
      " -6.32516563e-01  4.14868474e-01  3.37332636e-01  3.69979858e-01\n",
      "  5.92600703e-01 -2.41727263e-01 -1.28646955e-01  3.20657343e-01\n",
      "  1.17204785e-01  1.41261533e-01  2.20677555e-01 -3.79247591e-02\n",
      " -5.35753548e-01  1.81966230e-01 -4.44655478e-01 -8.98307711e-02\n",
      " -1.02207100e+00 -4.14301634e-01  2.52309620e-01 -5.72790921e-01\n",
      " -1.49515688e-01 -8.01634848e-01  7.43937373e-01  9.94275391e-01\n",
      " -1.05748868e+00 -2.35549212e-01 -8.59050512e-01  1.19000721e+00\n",
      "  1.78406179e-01  1.68921113e-01  6.43422186e-01  3.92297894e-01\n",
      " -3.05817485e-01 -1.08624184e+00  1.77633569e-01 -5.34543753e-01\n",
      "  8.33220780e-01  4.76226985e-01 -3.14006358e-01  1.07915234e-02\n",
      "  8.25628698e-01  3.79549533e-01  1.31533670e+00  4.42030102e-01\n",
      "  8.80696237e-01 -2.53831565e-01 -4.38971400e-01  1.44133306e+00\n",
      "  9.08055902e-01 -1.37363568e-01 -9.72283006e-01  1.05334938e+00\n",
      "  2.86318690e-01 -8.12940657e-01 -8.17464530e-01  1.50801528e+00\n",
      "  9.32897985e-01  5.82138777e-01 -4.19858038e-01 -5.28267145e-01\n",
      " -4.24899101e-01 -2.63397306e-01 -5.37536681e-01 -6.17307067e-01\n",
      "  4.95818794e-01 -1.71275175e+00  1.31688464e+00 -1.75552070e-01\n",
      "  2.87936330e-01 -5.12722731e-02  6.53398871e-01 -3.30278069e-01\n",
      " -7.25122452e-01 -5.00256658e-01 -4.64469731e-01 -7.64279187e-01\n",
      " -7.05035269e-01  4.52945828e-01 -1.46243751e+00 -1.93106651e-01\n",
      " -8.43847394e-01 -2.41742119e-01 -9.94119167e-01 -9.84171331e-02\n",
      "  1.66828883e+00 -3.36876631e-01  1.11903802e-01  6.49813890e-01\n",
      " -1.84372172e-01  6.71569049e-01 -8.26255202e-01  1.35847658e-01\n",
      " -1.24882185e+00 -7.17031956e-02 -9.51654375e-01 -3.59062970e-01\n",
      " -1.05494070e+00  1.09708130e+00  1.39726329e+00  3.95096987e-01\n",
      " -2.90820897e-01 -1.11070022e-01 -9.73682925e-02  3.46012264e-01\n",
      "  7.01005816e-01 -2.97182262e-01 -9.16794837e-01  6.84569895e-01\n",
      "  4.25537527e-01  7.85955191e-01  5.27702272e-01 -1.00728559e+00\n",
      "  9.09001529e-02  5.43449640e-01  1.68686718e-01  9.65604663e-01\n",
      " -8.00144732e-01 -3.79249066e-01 -5.65801740e-01 -1.88558137e+00\n",
      "  5.97928107e-01  3.52506042e-01 -4.59689461e-02 -2.79079795e-01\n",
      " -7.27856219e-01  1.49800515e+00 -1.62741566e+00  2.72395313e-02\n",
      "  4.66881782e-01  3.48092884e-01  9.88436103e-01  3.85589432e-03\n",
      " -2.87695646e-01  4.69883382e-01  1.14181805e+00 -1.08822024e+00\n",
      "  5.89026034e-01  8.72328222e-01 -1.88636467e-01 -2.60747969e-01\n",
      "  4.45511281e-01  6.16282940e-01  8.74552488e-01 -1.66064954e+00\n",
      " -5.64158931e-02 -1.39118218e+00  4.88462299e-03 -3.63242924e-01\n",
      "  3.93946707e-01 -4.04589474e-01 -2.92085946e-01  2.36650221e-02\n",
      " -8.47441733e-01 -1.14928854e+00  7.52653301e-01 -2.17658207e-01\n",
      "  1.08304524e+00  3.27901810e-01 -8.72190595e-01 -2.96063304e-01\n",
      "  1.14893597e-02  4.13310707e-01  2.48604774e-01  1.38898283e-01\n",
      "  3.17789882e-01  1.00207523e-01 -7.74433494e-01  5.39132953e-01\n",
      " -1.76361489e+00 -1.71546414e-01  4.11161929e-02  1.49817482e-01\n",
      " -8.76259863e-01 -3.21001440e-01  2.57505655e-01 -8.00989807e-01\n",
      "  1.35046512e-01  3.94126326e-01  9.54598606e-01 -3.29789102e-01\n",
      " -8.15158248e-01  8.08570385e-01  2.50144899e-01  2.35884473e-01\n",
      "  3.83920521e-01  4.57921743e-01  3.95798504e-01 -5.20491481e-01\n",
      "  5.20367682e-01  9.40263033e-01  1.56322932e+00  1.44377565e+00\n",
      " -1.21309030e+00 -2.22885445e-01  1.75176978e+00 -8.09094012e-01\n",
      "  1.39469206e+00 -3.43734175e-01 -1.17072356e+00 -1.04936600e+00\n",
      " -2.82500647e-02  6.89444542e-01 -1.43748856e+00  2.12715340e+00\n",
      "  4.34473336e-01 -6.02667153e-01  5.70150673e-01 -5.96629024e-01\n",
      "  1.30492568e-01 -9.72361326e-01  1.20489824e+00 -3.63330394e-01\n",
      " -1.82956964e-01  6.44172549e-01  6.33533478e-01 -1.09190859e-01\n",
      "  6.36716485e-02  2.19097689e-01 -8.83848488e-01  7.67780185e-01\n",
      "  2.16586471e-01  3.55958752e-02  2.83271194e-01  3.78344834e-01\n",
      " -5.86569548e-01  8.34333748e-02  1.88141257e-01  2.06846729e-01\n",
      "  1.34474480e+00  2.45865390e-01  9.47388411e-01 -1.03259063e+00\n",
      "  4.41076517e-01 -2.57627547e-01  4.96106625e-01  1.29069105e-01\n",
      "  4.58198339e-01  8.33191395e-01 -5.18111944e-01 -3.07183176e-01\n",
      "  1.27466321e-01 -7.63912797e-01  2.91231871e-01  7.52059340e-01\n",
      "  1.32967067e+00  6.77033305e-01  2.82328695e-01 -2.40322739e-01\n",
      "  1.35049069e+00 -1.10954478e-01  5.79680264e-01 -1.43916810e+00\n",
      "  4.50924307e-01  5.38080633e-01  6.97862148e-01  1.05835056e+00\n",
      "  9.87236083e-01  1.03817225e+00  2.08349571e-01 -2.15498954e-01\n",
      " -1.48863286e-01  7.30947971e-01  4.97635573e-01  1.66501343e-01\n",
      " -9.31831658e-01  4.44379449e-01  9.81168032e-01 -8.14798713e-01\n",
      " -1.38317615e-01  8.91348839e-01  2.90593833e-01  1.37362227e-01\n",
      "  5.53250134e-01 -9.25619841e-01  3.24720502e-01  1.98264569e-01\n",
      "  8.63173008e-02  2.76509076e-01 -1.57667607e-01 -8.25161278e-01\n",
      " -1.36931467e+00 -2.39754826e-01 -6.08652055e-01 -1.26943219e+00\n",
      "  5.70528269e-01  4.97720689e-02 -6.12385571e-01  6.03978336e-01\n",
      " -4.77268726e-01 -1.08942139e+00  7.40223154e-02  1.28435150e-01\n",
      " -7.68468320e-01 -2.00580750e-02  5.05392075e-01 -1.18844998e+00\n",
      "  6.09749496e-01 -6.46802634e-02 -3.60253975e-02  9.61004347e-02\n",
      " -1.58536971e-01 -4.15086061e-01 -7.16474414e-01 -2.03033730e-01\n",
      "  1.12098503e+00  4.28350508e-01  5.75374328e-02  5.86294591e-01\n",
      " -1.06637394e+00  1.03429103e+00 -5.27816415e-01  4.25608575e-01\n",
      "  4.97513235e-01 -1.03430599e-01 -5.54350913e-01  1.04703403e+00\n",
      "  3.98843169e-01 -1.63283026e+00 -9.39352930e-01  4.09616560e-01\n",
      "  3.73758376e-05  3.53938825e-02 -6.59670075e-03 -2.84948677e-01\n",
      " -2.25522399e-01  2.55357832e-01  2.02378377e-01 -2.21191585e-01\n",
      " -2.10376292e-01 -5.13443291e-01 -1.37137696e-01  6.49560690e-02\n",
      " -9.72172469e-02  2.81041026e+00  9.26894069e-01 -2.12110609e-01\n",
      " -2.84036160e-01  3.73013198e-01  4.89384413e-01  7.45294690e-02\n",
      "  8.11147690e-01  7.30063796e-01  1.51633251e+00 -9.03706789e-01\n",
      "  2.73169547e-01 -1.35268283e+00  2.71000504e-01  5.02319694e-01\n",
      "  8.64828348e-01  7.65739441e-01 -6.14230871e-01  7.60033071e-01\n",
      " -2.02207699e-01 -6.59283757e-01 -5.72646447e-02 -7.57787883e-01\n",
      "  8.95980954e-01  1.40558910e+00 -1.63836217e+00  3.86875331e-01\n",
      "  8.86295915e-01 -3.54329348e-01  1.71952021e+00  5.85670054e-01\n",
      " -1.29451370e+00 -3.18002582e-01 -8.43868926e-02  2.33249426e-01\n",
      " -6.37758598e-02 -1.15284967e+00 -5.14401138e-01 -6.48843169e-01\n",
      "  7.62607872e-01 -5.97814620e-02  4.55869675e-01  4.01339710e-01\n",
      "  7.78420985e-01 -9.78347361e-02  8.15414369e-01 -4.68548238e-02\n",
      "  7.70083189e-01  5.14088929e-01 -9.52909648e-01 -1.34859610e+00\n",
      " -5.97701788e-01 -2.01657161e-01  7.41533279e-01 -3.90218228e-01\n",
      "  5.58676422e-01  1.02366638e+00 -8.21442246e-01  2.20055521e-01\n",
      "  3.30014139e-01 -7.58915424e-01 -8.38105828e-02 -4.07272488e-01\n",
      " -2.23542142e+00  9.13333893e-02 -3.83475751e-01  3.83926451e-01\n",
      " -9.39765692e-01 -1.80304602e-01  1.24814749e+00 -1.99025422e-01\n",
      "  9.07816514e-02  9.65018213e-01 -2.14630270e+00  4.73404735e-01\n",
      "  4.38668318e-02 -9.86810207e-01  1.19766584e-02  1.28135276e+00\n",
      "  2.14961469e-01  3.95978987e-01  1.29285443e+00 -1.53583169e+00\n",
      "  2.65749186e-01 -6.94985688e-01  3.63959968e-01  1.40541065e+00\n",
      " -2.06338152e-01 -3.83683771e-01  7.60950804e-01 -9.74474847e-01\n",
      " -5.33958972e-01  4.80360806e-01  5.34910381e-01  6.58765852e-01\n",
      " -1.55378252e-01  1.30912051e-01  2.61493772e-01  2.98844904e-01\n",
      "  8.06641877e-01  2.03040272e-01 -7.77029991e-01  2.63766438e-01\n",
      "  3.23838703e-02 -6.49236679e-01  4.46252495e-01 -2.13938904e+00\n",
      " -6.10316932e-01 -3.52617204e-01  1.83731079e-01 -4.66567367e-01\n",
      " -1.05294037e+00 -8.57886314e-01  8.12508523e-01 -8.21730256e-01\n",
      " -2.01399535e-01  1.76488440e-02  5.39013088e-01  5.67288637e-01\n",
      " -1.58906445e-01  4.36590642e-01  1.00869775e+00  1.11808598e-01\n",
      " -4.29451972e-01 -1.30793229e-01  2.75674880e-01 -1.38038123e+00\n",
      "  1.05231017e-01 -1.10246189e-01 -7.11128861e-02 -6.12908840e-01\n",
      "  1.04050231e+00  1.30868107e-02 -1.22725797e+00 -5.61117649e-01\n",
      " -6.29267395e-01 -1.11812437e+00  2.47143462e-01  1.15144002e+00\n",
      " -5.51083505e-01  5.65799594e-01 -3.68974715e-01 -1.26382619e-01\n",
      "  3.13677013e-01 -7.15020180e-01 -2.77800441e-01 -9.07544047e-02\n",
      "  5.32927930e-01  8.97018135e-01  7.77404785e-01 -3.13502461e-01\n",
      "  3.22985321e-01 -1.87839717e-02 -6.84098065e-01 -3.74109179e-01\n",
      " -7.98242018e-02  1.19261824e-01  1.75748169e+00 -2.18243241e+00\n",
      "  1.29845011e+00  3.78523618e-01  7.15146065e-01  9.85180616e-01\n",
      " -2.12198853e-01 -1.21042180e+00  2.25501031e-01 -4.44792986e-01\n",
      " -1.09114552e+00 -1.00796558e-01 -1.67806700e-01 -5.80267906e-01\n",
      " -1.80633038e-01 -5.25506020e-01 -1.09558236e-02  4.80940014e-01\n",
      "  9.41854157e-03 -6.38894141e-01  1.31742549e+00 -5.72630703e-01\n",
      "  1.06782824e-01  3.29196721e-01 -1.32000339e+00  4.30757493e-01\n",
      " -4.02752578e-01  2.18670815e-02  6.23238906e-02  1.51435614e-01\n",
      " -1.70000613e+00 -8.43664646e-01 -7.53357053e-01  7.48415649e-01\n",
      "  6.44834816e-01  1.13578784e+00  2.10033491e-01  1.58697283e+00\n",
      " -1.01323617e+00 -7.90418029e-01 -1.25784457e-01  4.32168245e-01\n",
      " -9.01871175e-02  1.37332892e+00  1.01740658e+00  7.69813180e-01\n",
      "  6.00124836e-01 -6.57272995e-01  9.00583208e-01  2.07740927e+00\n",
      "  4.76172417e-01 -1.25385833e+00  8.21550786e-01  1.42544782e+00\n",
      "  7.64893770e-01 -3.59867364e-02 -8.66886020e-01 -2.10700810e-01\n",
      " -3.05179775e-01 -1.67063579e-01 -4.34628278e-01 -8.59418929e-01\n",
      "  6.84538126e-01 -1.71537295e-01  3.14141691e-01 -1.17939150e+00\n",
      "  2.57527471e-01 -9.91513252e-01  1.57808557e-01 -1.46028083e-02\n",
      "  1.16871262e+00 -6.25094473e-01 -6.42449319e-01  3.37800831e-01\n",
      "  1.01171148e+00  1.27402699e+00 -5.57163596e-01 -7.36788750e-01\n",
      " -3.04703154e-02  4.33276445e-01  6.47985101e-01  2.65108734e-01\n",
      " -4.87675726e-01 -2.40509892e+00  4.77514714e-01 -4.07331705e-01\n",
      " -8.84264469e-01 -1.28973186e+00 -1.85593694e-01 -3.85906905e-01\n",
      " -5.18812835e-01 -1.32259829e-02 -1.57152899e-02 -3.33000213e-01\n",
      "  1.14423007e-01 -7.02021480e-01 -1.72170833e-01  9.07363653e-01\n",
      " -1.21420920e+00  5.01149833e-01  5.87513328e-01  4.90298748e-01\n",
      " -8.59707713e-01 -4.63380337e-01  6.66258156e-01 -1.30832601e+00\n",
      " -5.28425276e-01 -2.16595674e+00 -4.02633071e-01 -7.25385100e-02\n",
      " -6.62483722e-02  6.46337390e-01  2.12262481e-01  9.78830457e-01\n",
      " -5.84915698e-01 -5.08833349e-01  1.08890854e-01  2.38883018e-01\n",
      "  4.05964136e-01 -3.75088483e-01 -8.79754663e-01 -1.44063604e+00\n",
      "  3.21233720e-01 -1.30394340e+00  9.71690238e-01 -4.32823181e-01\n",
      "  8.04322302e-01 -9.00929034e-01  3.85119200e-01 -5.37344992e-01\n",
      " -6.44860148e-01  8.53914082e-01 -4.43606794e-01  2.57113799e-02\n",
      " -1.01945019e+00 -3.69448721e-01 -2.96371132e-01 -6.57551825e-01\n",
      " -1.07656586e+00  6.20628238e-01  1.72763795e-01  3.23205948e-01\n",
      " -2.30910972e-01  1.00957900e-02 -1.51138079e+00 -3.60944241e-01\n",
      "  2.50588626e-01 -1.26465157e-01  5.78120828e-01 -2.48104858e+00\n",
      "  1.21694252e-01 -5.13036370e-01  7.31267214e-01 -5.49377024e-01\n",
      "  4.42835763e-02  1.92238808e-01  2.10550904e+00  3.64823878e-01\n",
      "  8.44554678e-02 -1.25042534e+00 -4.23768193e-01  5.74148595e-01\n",
      " -6.36417091e-01 -2.77486295e-01  3.58679295e-01 -5.10052860e-01]\n"
     ]
    }
   ],
   "source": [
    "example=\"Sample text to embed.\"\n",
    "embedding = list(model.embed(example))[0]\n",
    "print(f\"Dimensions of embedding: {len(embedding)}\")\n",
    "print(\"Embedding:\\n\", embedding)"
   ]
  },
  {
   "cell_type": "markdown",
   "id": "18bb1be4",
   "metadata": {},
   "source": [
    "We obtained a vector of 768 dimensions, which is the size of the embedding space for this model.\n",
    "\n",
    "We will now compute embeddings for each paper using the model we loaded earlier. The input text to compute embeddings from is the concatenation of the title and abstract of each paper because they both convey important semantic meaning.\n",
    "\n",
    "This step can take a few minutes, so be patient. We will store the embeddings in a new column of the dataframe."
   ]
  },
  {
   "cell_type": "code",
   "execution_count": 23,
   "id": "0b852da1",
   "metadata": {},
   "outputs": [
    {
     "data": {
      "application/vnd.jupyter.widget-view+json": {
       "model_id": "dc74a47472854e55a46d38bdbf7a2b6d",
       "version_major": 2,
       "version_minor": 0
      },
      "text/plain": [
       "  0%|          | 0/400 [00:00<?, ?it/s]"
      ]
     },
     "metadata": {},
     "output_type": "display_data"
    }
   ],
   "source": [
    "def get_embedding(row: pd.Series) -> np.ndarray:\n",
    "    \"\"\"Get the embedding for a paper's title and abstract (merged).\"\"\"\n",
    "    text_to_embed = row[\"title\"] + \" \" + row[\"abstract\"]\n",
    "    return list(model.embed(text_to_embed))[0]\n",
    "\n",
    "papers[\"embedding\"] = papers.progress_apply(get_embedding, axis=\"columns\")"
   ]
  },
  {
   "cell_type": "markdown",
   "id": "ca852074",
   "metadata": {},
   "source": [
    "Let's display the first paper with its embedding:"
   ]
  },
  {
   "cell_type": "code",
   "execution_count": 24,
   "id": "0d6c9680",
   "metadata": {},
   "outputs": [
    {
     "name": "stdout",
     "output_type": "stream",
     "text": [
      "id                           http://arxiv.org/abs/2402.01321v1\n",
      "date                                      2024-02-02T11:17:55Z\n",
      "title        Ionic Current Rectification in Nanopores: Effe...\n",
      "abstract     Ionic Current Rectification (ICR) can appear i...\n",
      "category                                  nanoporous materials\n",
      "embedding    [1.384288, 1.9946833, -3.2957623, -0.6682733, ...\n",
      "Name: 0, dtype: object\n"
     ]
    }
   ],
   "source": [
    "print(papers.iloc[0])"
   ]
  },
  {
   "cell_type": "markdown",
   "id": "80b19d78",
   "metadata": {},
   "source": [
    "## Embeddings visualization\n",
    "\n",
    "Embeddings are high-dimensional vectors, and visualizing them directly is not feasible. Instead, we will reduce their dimensionality to 2D using UMAP. UMAP is a non-linear dimensionality reduction technique, particularly well-suited for visualizing high-dimensional data like embeddings."
   ]
  },
  {
   "cell_type": "code",
   "execution_count": 25,
   "id": "41d7564a",
   "metadata": {},
   "outputs": [
    {
     "name": "stdout",
     "output_type": "stream",
     "text": [
      "Shape of embeddings array: (400, 768)\n"
     ]
    },
    {
     "name": "stderr",
     "output_type": "stream",
     "text": [
      "/home/pierre/workp/misc/events/2025-05-26_CECAM_summer_school/handson-scientific-literature-embeddings/.venv/lib/python3.12/site-packages/sklearn/utils/deprecation.py:151: FutureWarning:\n",
      "\n",
      "'force_all_finite' was renamed to 'ensure_all_finite' in 1.6 and will be removed in 1.8.\n",
      "\n",
      "/home/pierre/workp/misc/events/2025-05-26_CECAM_summer_school/handson-scientific-literature-embeddings/.venv/lib/python3.12/site-packages/umap/umap_.py:1952: UserWarning:\n",
      "\n",
      "n_jobs value 1 overridden to 1 by setting random_state. Use no seed for parallelism.\n",
      "\n"
     ]
    }
   ],
   "source": [
    "# Extract the embeddings into a 2D array for UMAP.\n",
    "embeddings_array = np.vstack(papers[\"embedding\"].values)\n",
    "print(f\"Shape of embeddings array: {embeddings_array.shape}\")\n",
    "# Create a UMAP reducer and fit-transform the embeddings.\n",
    "umap_reducer = umap.UMAP(metric=\"cosine\", n_components=2, random_state=42)\n",
    "reduce_embeddings = umap_reducer.fit_transform(embeddings_array)\n",
    "# Add the UMAP coordinates to the DataFrame as two new columns.\n",
    "papers[[\"umap_x\", \"umap_y\"]] = reduce_embeddings"
   ]
  },
  {
   "cell_type": "markdown",
   "id": "10c6bf8a",
   "metadata": {},
   "source": [
    "Let's display the first paper with its new columns:"
   ]
  },
  {
   "cell_type": "code",
   "execution_count": 26,
   "id": "2f8fd39e",
   "metadata": {},
   "outputs": [
    {
     "name": "stdout",
     "output_type": "stream",
     "text": [
      "id                           http://arxiv.org/abs/2402.01321v1\n",
      "date                                      2024-02-02T11:17:55Z\n",
      "title        Ionic Current Rectification in Nanopores: Effe...\n",
      "abstract     Ionic Current Rectification (ICR) can appear i...\n",
      "category                                  nanoporous materials\n",
      "embedding    [1.384288, 1.9946833, -3.2957623, -0.6682733, ...\n",
      "umap_x                                               -6.604837\n",
      "umap_y                                                6.002138\n",
      "Name: 0, dtype: object\n"
     ]
    }
   ],
   "source": [
    "print(papers.iloc[0])"
   ]
  },
  {
   "cell_type": "markdown",
   "id": "4fe39772",
   "metadata": {},
   "source": [
    "We now define a helper functions to prepare the content of the tooltip that will be displayed when hovering over a point in the plot. "
   ]
  },
  {
   "cell_type": "code",
   "execution_count": 27,
   "id": "6c55a703",
   "metadata": {},
   "outputs": [],
   "source": [
    "def set_tooltip(row: pd.Series) -> str:\n",
    "    \"\"\"Create a tooltip for each paper.\"\"\"\n",
    "    label = (\n",
    "        f\"<b>Title:</b> {row[\"title\"]}<br>\"\n",
    "        f\"<b>Category:</b> {row[\"category\"]}<br>\"\n",
    "    )\n",
    "    return label\n",
    "\n",
    "# We apply the tooltip function to each row (= paper) of the DataFrame.\n",
    "papers[\"tooltip\"] = papers.apply(set_tooltip, axis=\"columns\")"
   ]
  },
  {
   "cell_type": "markdown",
   "id": "01737504",
   "metadata": {},
   "source": [
    "Display the figure. Each point represents a paper. The points are colored by their category."
   ]
  },
  {
   "cell_type": "code",
   "execution_count": 28,
   "id": "2014b6fc",
   "metadata": {},
   "outputs": [
    {
     "data": {
      "application/vnd.plotly.v1+json": {
       "config": {
        "plotlyServerURL": "https://plot.ly"
       },
       "data": [
        {
         "marker": {
          "color": "#636EFA",
          "line": {
           "width": 0.5
          },
          "opacity": 0.75,
          "size": 8
         },
         "mode": "markers",
         "name": "nanoporous materials",
         "text": [
          "<b>Title:</b> Ionic Current Rectification in Nanopores: Effects of Nanopore Material, Electrolyte and Surface Treatment<br><b>Category:</b> nanoporous materials<br>",
          "<b>Title:</b> EnumerWating Stable Nanopores in Graphene and their Geometrical Properties Using the Combinatorics of Hexagonal Lattices<br><b>Category:</b> nanoporous materials<br>",
          "<b>Title:</b> Effect of anodization conditions on the synthesis of TiO2 nanopores<br><b>Category:</b> nanoporous materials<br>",
          "<b>Title:</b> Water Assisted Proton Transport in Confined Nanochannels<br><b>Category:</b> nanoporous materials<br>",
          "<b>Title:</b> Atomic Engineering of Triangular Nanopores in Monolayer hBN: A Decoupled Seeding and Growth Approach<br><b>Category:</b> nanoporous materials<br>",
          "<b>Title:</b> Electrochemical reaction in single layer MoS2: nanopores opened atom by atom<br><b>Category:</b> nanoporous materials<br>",
          "<b>Title:</b> Nanoporous Copper-Nickel - Macroscopic bodies of a strong and deformable nanoporous base metal by dealloying<br><b>Category:</b> nanoporous materials<br>",
          "<b>Title:</b> Optical Properties of Nanoporous Al2O3 Matrices with Ammonium Dihydrogen Phosphate Crystals in Nanopores<br><b>Category:</b> nanoporous materials<br>",
          "<b>Title:</b> A New Class of Materials Based on Nanoporous High Entropy Alloys with Outstanding Properties<br><b>Category:</b> nanoporous materials<br>",
          "<b>Title:</b> Pore and Ligament Size Control, Thermal Stability and Mechanical Properties of Nanoporous Single Crystals of Gold<br><b>Category:</b> nanoporous materials<br>",
          "<b>Title:</b> Surface Engineering of Synthetic Nanopores by Atomic Layer Deposition and Their Applications<br><b>Category:</b> nanoporous materials<br>",
          "<b>Title:</b> A zero-depth nanopore capillary for the analysis of translocating biomolecules<br><b>Category:</b> nanoporous materials<br>",
          "<b>Title:</b> Stiffening of nanoporous Au as a result of dislocation density increase upon characteristic length reduction<br><b>Category:</b> nanoporous materials<br>",
          "<b>Title:</b> Enhanced current rectification in graphene nanoribbons: Effects of geometries and orientations of nanopores<br><b>Category:</b> nanoporous materials<br>",
          "<b>Title:</b> Nanopore creation in graphene at the nanoscale for water desalination<br><b>Category:</b> nanoporous materials<br>",
          "<b>Title:</b> Three-Dimensional Nanoporous Graphene Substrate for Surface-Enhanced Raman Scattering<br><b>Category:</b> nanoporous materials<br>",
          "<b>Title:</b> What keeps nanopores boiling<br><b>Category:</b> nanoporous materials<br>",
          "<b>Title:</b> Fabrication and characterization of plasmonic nanopores for Raman detection of biomolecules<br><b>Category:</b> nanoporous materials<br>",
          "<b>Title:</b> Characterization of ion track etched conical nanopores in thermal and PECVD SiO$_{2}$ using small angle X-ray scattering<br><b>Category:</b> nanoporous materials<br>",
          "<b>Title:</b> Facile and Ultraclean Graphene-on-Glass Nanopores by Controlled Electrochemical Etching<br><b>Category:</b> nanoporous materials<br>",
          "<b>Title:</b> High-throughput computational screening of nanoporous materials in targeted applications<br><b>Category:</b> nanoporous materials<br>",
          "<b>Title:</b> Biohybrid membrane formation by directed insertion of Aquaporin into a solid-state nanopore<br><b>Category:</b> nanoporous materials<br>",
          "<b>Title:</b> Diffusion controlled oriented growth of a nano porous material by the Kirkendall effect<br><b>Category:</b> nanoporous materials<br>",
          "<b>Title:</b> Molecular Dynamics Simulation of Nanoporous Tungsten<br><b>Category:</b> nanoporous materials<br>",
          "<b>Title:</b> Enhancement of charged macromolecule capture by nanopores in a salt gradient<br><b>Category:</b> nanoporous materials<br>",
          "<b>Title:</b> Atomistic Simulation of Compression Wave Propagation in Nanoporous Materials<br><b>Category:</b> nanoporous materials<br>",
          "<b>Title:</b> Thermoelectric Studies of Nanoporous Thin Films with Adjusted Pore-Edge Charges<br><b>Category:</b> nanoporous materials<br>",
          "<b>Title:</b> Ion and water transport in charge-modified graphene nanopores<br><b>Category:</b> nanoporous materials<br>",
          "<b>Title:</b> Deep Reinforcement Learning Optimizes Graphene Nanopores for Efficient Desalination<br><b>Category:</b> nanoporous materials<br>",
          "<b>Title:</b> Molecular Dynamics Simulations of Water Anchored in Multi-Layered Nanoporous MoS$_2$ Membranes: Implications for Desalination<br><b>Category:</b> nanoporous materials<br>",
          "<b>Title:</b> Topological changes and deformation mechanisms of nanoporous Ta under compression<br><b>Category:</b> nanoporous materials<br>",
          "<b>Title:</b> Boosting infrared energy transfer in 3D nanoporous gold antennas<br><b>Category:</b> nanoporous materials<br>",
          "<b>Title:</b> Coupled electrokinetic transport through a nanoporous membrane: effects of pore interactions<br><b>Category:</b> nanoporous materials<br>",
          "<b>Title:</b> Control of particle trapping in a magnetoplasmonic nanopore<br><b>Category:</b> nanoporous materials<br>",
          "<b>Title:</b> How Grain Boundaries and Interfacial Electrostatic Interactions Modulate Water Desalination Via Nanoporous Hexagonal Boron Nitride<br><b>Category:</b> nanoporous materials<br>",
          "<b>Title:</b> Temperature-dependent thermal conductivity in nanoporous materials studied by the Boltzmann Transport Equation<br><b>Category:</b> nanoporous materials<br>",
          "<b>Title:</b> Thermal Anisotropy Enhanced by Phonon Size Effects in Nanoporous Materials<br><b>Category:</b> nanoporous materials<br>",
          "<b>Title:</b> Quantum fluids in nanoporous media - effects of the confinement and fractal geometry<br><b>Category:</b> nanoporous materials<br>",
          "<b>Title:</b> Embedding a carbon nanotube across the diameter of a solid state nanopore<br><b>Category:</b> nanoporous materials<br>",
          "<b>Title:</b> Inelastic electron tunneling spectroscopy of nanoporous gold films<br><b>Category:</b> nanoporous materials<br>",
          "<b>Title:</b> Tuning electrical properties of silicon dioxide through intrinsic nano-patterns<br><b>Category:</b> nanoporous materials<br>",
          "<b>Title:</b> Gassmann Theory Applies to Nanoporous Media<br><b>Category:</b> nanoporous materials<br>",
          "<b>Title:</b> Nanoporous alumina microtubes for metamaterial and plasmonic applications<br><b>Category:</b> nanoporous materials<br>",
          "<b>Title:</b> Nanopore fabrication and characterization by helium ion microscopy<br><b>Category:</b> nanoporous materials<br>",
          "<b>Title:</b> First principles investigation of nanopore sequencing using variable voltage bias on graphene-based nanoribbons<br><b>Category:</b> nanoporous materials<br>",
          "<b>Title:</b> Controlled healing of graphene nanopores<br><b>Category:</b> nanoporous materials<br>",
          "<b>Title:</b> Detection of Nanopores with the Scanning Ion Conductance Microscopy: A Simulation Study<br><b>Category:</b> nanoporous materials<br>",
          "<b>Title:</b> Soft matter in hard confinement: phase transition thermodynamics, structure, texture, diffusion and flow in nanoporous media - topical review<br><b>Category:</b> nanoporous materials<br>",
          "<b>Title:</b> Hybrid plasmonic nanostructures based on controlled integration of MoS2 flakes on metallic nanoholes<br><b>Category:</b> nanoporous materials<br>",
          "<b>Title:</b> Water permeability in nanopores: when size, shape, and charge matter<br><b>Category:</b> nanoporous materials<br>",
          "<b>Title:</b> On the origin of the anomalous compliance of dealloying-derived nanoporous gold<br><b>Category:</b> nanoporous materials<br>",
          "<b>Title:</b> Thermomechanical Insight into the Stability of Nanoporous Graphene Membranes<br><b>Category:</b> nanoporous materials<br>",
          "<b>Title:</b> Confining Eutectic Gallium Indium (eGaIn) in Expired Artificial Kidneys to Unveil Nanoporous Conductive Wires<br><b>Category:</b> nanoporous materials<br>",
          "<b>Title:</b> A Method for Fabricating CMOS Back-End-of-Line-Compatible Solid-State Nanopore Devices<br><b>Category:</b> nanoporous materials<br>",
          "<b>Title:</b> Nanoporous ionic organic networks: from synthesis to materials applications<br><b>Category:</b> nanoporous materials<br>",
          "<b>Title:</b> 3D Nanoporous Antennas for high sensitivity IR plasmonic sensing<br><b>Category:</b> nanoporous materials<br>",
          "<b>Title:</b> Size dependent photoemission study by electrochemical coarsening of nanoporous gold<br><b>Category:</b> nanoporous materials<br>",
          "<b>Title:</b> Large-scale molecular dynamics investigation of geometrical features in nanoporous Si<br><b>Category:</b> nanoporous materials<br>",
          "<b>Title:</b> Quantum Physisorption of Methane and Carbon Dioxide within Nanoporous Materials<br><b>Category:</b> nanoporous materials<br>",
          "<b>Title:</b> High-throughput nanopore fabrication and classification using FIB irradiation and automated pore edge analysis<br><b>Category:</b> nanoporous materials<br>",
          "<b>Title:</b> Ultrasonic Study of Water Adsorbed in Nanoporous Glasses<br><b>Category:</b> nanoporous materials<br>",
          "<b>Title:</b> Toward phonon-boundary engineering in nanoporous materials<br><b>Category:</b> nanoporous materials<br>",
          "<b>Title:</b> Fabrication of Atomically Precise Nanopores in Hexagonal Boron Nitride<br><b>Category:</b> nanoporous materials<br>",
          "<b>Title:</b> Probing Patchy Saturation of Fluids in Nanoporous Media by Ultrasound<br><b>Category:</b> nanoporous materials<br>",
          "<b>Title:</b> Heat current anticorrelation effects leading to thermal conductivity reduction in nanoporous Si<br><b>Category:</b> nanoporous materials<br>",
          "<b>Title:</b> Influence of the microstructure on the mechanical behavior of nanoporous materials under large strains<br><b>Category:</b> nanoporous materials<br>",
          "<b>Title:</b> Revealing Correlation of Valence State with Nanoporous Structure in Cobalt Catalyst Nanoparticles by in Situ Environmental TEM<br><b>Category:</b> nanoporous materials<br>",
          "<b>Title:</b> Nanoporous monolithic microsphere arrays have anti-adhesive properties independent of humidity<br><b>Category:</b> nanoporous materials<br>",
          "<b>Title:</b> Confining Metal-Halide Perovskites in Nanoporous Thin Films<br><b>Category:</b> nanoporous materials<br>",
          "<b>Title:</b> Nanoporous compound materials for optical applications - microlasers and microresonators<br><b>Category:</b> nanoporous materials<br>",
          "<b>Title:</b> DNA Base Detection Using Two-Dimensional Materials Beyond Graphene<br><b>Category:</b> nanoporous materials<br>",
          "<b>Title:</b> Anisotropic coalescence criterion for nanoporous materials<br><b>Category:</b> nanoporous materials<br>",
          "<b>Title:</b> Edge currents and nanopore arrays in zigzag and chiral graphene nanoribbons as a route toward high-$ZT$ thermoelectrics<br><b>Category:</b> nanoporous materials<br>",
          "<b>Title:</b> Switchable Imbibition in Nanoporous Gold<br><b>Category:</b> nanoporous materials<br>",
          "<b>Title:</b> Hydraulic Transport Across Hydrophilic and Hydrophobic Nanopores: Flow Experiments with Water and n-Hexane<br><b>Category:</b> nanoporous materials<br>",
          "<b>Title:</b> Confinement Effects on an Electron Transfer Reaction in Nanoporous Carbon Electrodes<br><b>Category:</b> nanoporous materials<br>",
          "<b>Title:</b> Pump-probe Spectroscopy Study of Ultrafast Temperature Dynamics in Nanoporous Gold<br><b>Category:</b> nanoporous materials<br>",
          "<b>Title:</b> First-principles study on controlling energy gap of graphene using hybrid armchair-zigzag nanostructures<br><b>Category:</b> nanoporous materials<br>",
          "<b>Title:</b> Identification of DNA Bases Using Nanopores Created in Finite-Size Nanoribbons from Graphene, Phosphorene, and Silicene<br><b>Category:</b> nanoporous materials<br>",
          "<b>Title:</b> Neutral but Impactful: Gallium Cluster-Induced Nanopores from Beam-Blanked Gallium Ion Sources<br><b>Category:</b> nanoporous materials<br>",
          "<b>Title:</b> How nanoporous silicon-polypyrrole hybrids flex their muscles in aqueous electrolytes: In operando high-resolution x-ray diffraction and electron tomography-based micromechanical computer simulations<br><b>Category:</b> nanoporous materials<br>",
          "<b>Title:</b> A template method for carbon nanotube production from sugar water<br><b>Category:</b> nanoporous materials<br>",
          "<b>Title:</b> Nanoporous Metals: From Plasmonic Properties to Applications in Enhanced Spectroscopy and Photocatalysis<br><b>Category:</b> nanoporous materials<br>",
          "<b>Title:</b> Quantum Capacitance Modifies Interionic Interactions in Semiconducting Nanopores<br><b>Category:</b> nanoporous materials<br>",
          "<b>Title:</b> Monte Carlo simulations for phonon transport in silicon nanomaterials<br><b>Category:</b> nanoporous materials<br>",
          "<b>Title:</b> Controlled fabrication of freestanding monolayer SiC by electron irradiation<br><b>Category:</b> nanoporous materials<br>",
          "<b>Title:</b> Synthesis and Stability Kinetics of Nanoporous TaC Derived from Ta Precursors<br><b>Category:</b> nanoporous materials<br>",
          "<b>Title:</b> Charge Transport in one Dimension:Dissipative and Non-Dissipative Space-Charge Limited Currents<br><b>Category:</b> nanoporous materials<br>",
          "<b>Title:</b> Ultra-Thin, High-Lifetime Silicon Nitride Membranes for Nanopore Sensing<br><b>Category:</b> nanoporous materials<br>",
          "<b>Title:</b> Evaporation-driven electrokinetic energy conversion: critical review, parametric analysis and perspectives<br><b>Category:</b> nanoporous materials<br>",
          "<b>Title:</b> Dry synthesis of bi-layer nanoporous metal films as plasmonic metamaterial<br><b>Category:</b> nanoporous materials<br>",
          "<b>Title:</b> Theory and Modeling of Transport for Simple Fluids in Nanoporous Materials: From Microscopic to Coarse-Grained Descriptions<br><b>Category:</b> nanoporous materials<br>",
          "<b>Title:</b> Wetting of nanopores probed with pressure<br><b>Category:</b> nanoporous materials<br>",
          "<b>Title:</b> Galvanic Replacement Reaction to prepare nanoporous Aluminum for UV plasmonics<br><b>Category:</b> nanoporous materials<br>",
          "<b>Title:</b> Modeling of Self-Healing Polymer Composites Reinforced with Nanoporous Glass Fibers<br><b>Category:</b> nanoporous materials<br>",
          "<b>Title:</b> DNA translocation through nanopores with salt gradients: The role of osmotic flow<br><b>Category:</b> nanoporous materials<br>",
          "<b>Title:</b> Electronic Structures of Porous Nanocarbons<br><b>Category:</b> nanoporous materials<br>",
          "<b>Title:</b> Electric Properties of Dirac Fermions Captured into 3D Nanoporous Graphene Networks<br><b>Category:</b> nanoporous materials<br>",
          "<b>Title:</b> Wafer-Scale Electroactive Nanoporous Silicon: Large and Fully Reversible Electrochemo-Mechanical Actuation in Aqueous Electrolytes<br><b>Category:</b> nanoporous materials<br>",
          "<b>Title:</b> Transferable and extensible machine learning derived atomic charges for modeling hybrid nanoporous materials<br><b>Category:</b> nanoporous materials<br>"
         ],
         "type": "scattergl",
         "x": {
          "bdata": "1FrTwMC/4cA+Xs7AO43FwLs028ASN9jAS7ykwJrMuMC1rqLAlGyiwBMX1sBfJMvATEifwMn94cAMHdzALV7gwPfhv8AyB8TAnrPYwCRl48DrRbvA5yfPwPsyrcCQuKXADKHJwMUAqMCEZ7DAj3HSwOix1cBPvsjAPziiwJv5tcCFCMXAzATJwMNMysCBDKjAbcCnwBvIssCIrdPAE/ypwDs3ssDOdbDAkqK7wJRV28DSFufApXrgwKt01cDnjrLAsrbJwFKBxsBatp3AGd6rwAfIu8DV7dPAmte9wL5VusDSoKnAXX2rwNgsucDqFdnATCmywOKNqcAp39XA90auwPYYqMAlkJ/AWvrMwPqEHT/fnLzAtFO1wI5U5cCnpZ/AapbiwOorwsAoOr7AqWbNwETbp8BqqOPANL7lwCi538ADdqXA1lu/wJx5s8Cyh9PAueSnwLTi4MBjxaPAgBrGwPhu1sD5d8TATh+1wFdgu8AHxcbA7om4wEMhocAX/M3ASOPfwONS4sCLtrfAbqDCwA==",
          "dtype": "f4"
         },
         "y": {
          "bdata": "gxHAQIxsyEAgxtZA6lTEQHMn4ECPgNxANC/SQOqW6kCZZ8pA31vUQAfZ4EAPJ9ZA11POQCIwvUD+uMZAYv7CQA0AzUD5WehAx2XdQKNaykAxoMpAbAPRQJo7zkApAcZAPTm3QCo7w0A9natAAgW7QCpixUADzMZA7VDHQMRm6kCvorZAla3lQMZIxUDSHaVAGTOkQM4KwkCwAeJAF+zfQNJetECVH75AuX7mQCkv30BB1sJAuT7JQKkd2kBGpMNA8WzmQDCWyEChIc9ApS7IQG2O2UDRk+BArFjJQD3G7EArb99AI4WtQDBrt0A6w+FAJkLAQJaEpkBdvN1AQ5i/QJxnpEAoSclA6+PVQA+Pn0DYl+NA1PHnQBrLx0ABGMpABKO3QNAxt0AfwsRAhEK3QHyA20B3O75ADovEQKHD3EAVP8JAs7XXQJbt7ED7oLdAK/CkQPMe1UDdYsBA3l+yQKKZ4EDdnrZA/5DtQJHCt0CiasBAn9jrQJC+x0BFYrVAvHm7QGc4ukCsirdACDfEQA==",
          "dtype": "f4"
         }
        },
        {
         "marker": {
          "color": "#EF553B",
          "line": {
           "width": 0.5
          },
          "opacity": 0.75,
          "size": 8
         },
         "mode": "markers",
         "name": "machine learning",
         "text": [
          "<b>Title:</b> Lecture Notes: Optimization for Machine Learning<br><b>Category:</b> machine learning<br>",
          "<b>Title:</b> An Optimal Control View of Adversarial Machine Learning<br><b>Category:</b> machine learning<br>",
          "<b>Title:</b> Minimax deviation strategies for machine learning and recognition with short learning samples<br><b>Category:</b> machine learning<br>",
          "<b>Title:</b> Machine Learning for Clinical Predictive Analytics<br><b>Category:</b> machine learning<br>",
          "<b>Title:</b> Towards Modular Machine Learning Solution Development: Benefits and Trade-offs<br><b>Category:</b> machine learning<br>",
          "<b>Title:</b> Introduction to Machine Learning: Class Notes 67577<br><b>Category:</b> machine learning<br>",
          "<b>Title:</b> The Tribes of Machine Learning and the Realm of Computer Architecture<br><b>Category:</b> machine learning<br>",
          "<b>Title:</b> A Machine Learning Tutorial for Operational Meteorology, Part I: Traditional Machine Learning<br><b>Category:</b> machine learning<br>",
          "<b>Title:</b> Position Paper: Towards Transparent Machine Learning<br><b>Category:</b> machine learning<br>",
          "<b>Title:</b> Understanding Bias in Machine Learning<br><b>Category:</b> machine learning<br>",
          "<b>Title:</b> A Unified Analytical Framework for Trustable Machine Learning and Automation Running with Blockchain<br><b>Category:</b> machine learning<br>",
          "<b>Title:</b> MLBench: How Good Are Machine Learning Clouds for Binary Classification Tasks on Structured Data?<br><b>Category:</b> machine learning<br>",
          "<b>Title:</b> Data Pricing in Machine Learning Pipelines<br><b>Category:</b> machine learning<br>",
          "<b>Title:</b> Techniques for Automated Machine Learning<br><b>Category:</b> machine learning<br>",
          "<b>Title:</b> The Landscape of Modern Machine Learning: A Review of Machine, Distributed and Federated Learning<br><b>Category:</b> machine learning<br>",
          "<b>Title:</b> Parallelization of Machine Learning Algorithms Respectively on Single Machine and Spark<br><b>Category:</b> machine learning<br>",
          "<b>Title:</b> AutoCompete: A Framework for Machine Learning Competition<br><b>Category:</b> machine learning<br>",
          "<b>Title:</b> Joint Training of Deep Boltzmann Machines<br><b>Category:</b> machine learning<br>",
          "<b>Title:</b> Proceedings of the 2016 ICML Workshop on #Data4Good: Machine Learning in Social Good Applications<br><b>Category:</b> machine learning<br>",
          "<b>Title:</b> Mathematical Perspective of Machine Learning<br><b>Category:</b> machine learning<br>",
          "<b>Title:</b> Private Machine Learning via Randomised Response<br><b>Category:</b> machine learning<br>",
          "<b>Title:</b> Ten-year Survival Prediction for Breast Cancer Patients<br><b>Category:</b> machine learning<br>",
          "<b>Title:</b> A Survey of Optimization Methods from a Machine Learning Perspective<br><b>Category:</b> machine learning<br>",
          "<b>Title:</b> Tuning Learning Rates with the Cumulative-Learning Constant<br><b>Category:</b> machine learning<br>",
          "<b>Title:</b> When Machine Learning Meets Privacy: A Survey and Outlook<br><b>Category:</b> machine learning<br>",
          "<b>Title:</b> Augmented Q Imitation Learning (AQIL)<br><b>Category:</b> machine learning<br>",
          "<b>Title:</b> Probabilistic Machine Learning for Healthcare<br><b>Category:</b> machine learning<br>",
          "<b>Title:</b> Evaluation Challenges for Geospatial ML<br><b>Category:</b> machine learning<br>",
          "<b>Title:</b> A comprehensive review of Quantum Machine Learning: from NISQ to Fault Tolerance<br><b>Category:</b> machine learning<br>",
          "<b>Title:</b> Towards CRISP-ML(Q): A Machine Learning Process Model with Quality Assurance Methodology<br><b>Category:</b> machine learning<br>",
          "<b>Title:</b> Temporal-related Convolutional-Restricted-Boltzmann-Machine capable of learning relational order via reinforcement learning procedure?<br><b>Category:</b> machine learning<br>",
          "<b>Title:</b> Spatial Transfer Learning with Simple MLP<br><b>Category:</b> machine learning<br>",
          "<b>Title:</b> Proceedings of the 29th International Conference on Machine Learning (ICML-12)<br><b>Category:</b> machine learning<br>",
          "<b>Title:</b> Distributed Multi-Task Learning with Shared Representation<br><b>Category:</b> machine learning<br>",
          "<b>Title:</b> Components of Machine Learning: Binding Bits and FLOPS<br><b>Category:</b> machine learning<br>",
          "<b>Title:</b> Impact of Legal Requirements on Explainability in Machine Learning<br><b>Category:</b> machine learning<br>",
          "<b>Title:</b> Machine Learning Potential Repository<br><b>Category:</b> machine learning<br>",
          "<b>Title:</b> Quantum memristors for neuromorphic quantum machine learning<br><b>Category:</b> machine learning<br>",
          "<b>Title:</b> metric-learn: Metric Learning Algorithms in Python<br><b>Category:</b> machine learning<br>",
          "<b>Title:</b> Theoretical Models of Learning to Learn<br><b>Category:</b> machine learning<br>",
          "<b>Title:</b> On-the-Fly Learning in a Perpetual Learning Machine<br><b>Category:</b> machine learning<br>",
          "<b>Title:</b> An Aggregate and Iterative Disaggregate Algorithm with Proven Optimality in Machine Learning<br><b>Category:</b> machine learning<br>",
          "<b>Title:</b> Human-in-the-loop Machine Learning: A Macro-Micro Perspective<br><b>Category:</b> machine learning<br>",
          "<b>Title:</b> Can Machines Learn the True Probabilities?<br><b>Category:</b> machine learning<br>",
          "<b>Title:</b> Scientific Machine Learning Benchmarks<br><b>Category:</b> machine learning<br>",
          "<b>Title:</b> Some Insights into Lifelong Reinforcement Learning Systems<br><b>Category:</b> machine learning<br>",
          "<b>Title:</b> Bayesian Optimization for Machine Learning : A Practical Guidebook<br><b>Category:</b> machine learning<br>",
          "<b>Title:</b> Towards A Rigorous Science of Interpretable Machine Learning<br><b>Category:</b> machine learning<br>",
          "<b>Title:</b> Infrastructure for Usable Machine Learning: The Stanford DAWN Project<br><b>Category:</b> machine learning<br>",
          "<b>Title:</b> Techniques for Interpretable Machine Learning<br><b>Category:</b> machine learning<br>",
          "<b>Title:</b> Solving machine learning optimization problems using quantum computers<br><b>Category:</b> machine learning<br>",
          "<b>Title:</b> Lale: Consistent Automated Machine Learning<br><b>Category:</b> machine learning<br>",
          "<b>Title:</b> Differential Replication in Machine Learning<br><b>Category:</b> machine learning<br>",
          "<b>Title:</b> Teaching Uncertainty Quantification in Machine Learning through Use Cases<br><b>Category:</b> machine learning<br>",
          "<b>Title:</b> mlr3proba: An R Package for Machine Learning in Survival Analysis<br><b>Category:</b> machine learning<br>",
          "<b>Title:</b> Introduction to Machine Learning for Physicians: A Survival Guide for Data Deluge<br><b>Category:</b> machine learning<br>",
          "<b>Title:</b> Machine learning-assisted close-set X-ray diffraction phase identification of transition metals<br><b>Category:</b> machine learning<br>",
          "<b>Title:</b> Insights From Insurance for Fair Machine Learning<br><b>Category:</b> machine learning<br>",
          "<b>Title:</b> Quantum Dynamics of Machine Learning<br><b>Category:</b> machine learning<br>",
          "<b>Title:</b> On the Conditions for Domain Stability for Machine Learning: a Mathematical Approach<br><b>Category:</b> machine learning<br>",
          "<b>Title:</b> Distributed Multitask Learning<br><b>Category:</b> machine learning<br>",
          "<b>Title:</b> Distributed Stochastic Multi-Task Learning with Graph Regularization<br><b>Category:</b> machine learning<br>",
          "<b>Title:</b> Category Theory in Machine Learning<br><b>Category:</b> machine learning<br>",
          "<b>Title:</b> Energy-Harvesting Distributed Machine Learning<br><b>Category:</b> machine learning<br>",
          "<b>Title:</b> Representation Learning for Electronic Health Records<br><b>Category:</b> machine learning<br>",
          "<b>Title:</b> Meta-Learning: A Survey<br><b>Category:</b> machine learning<br>",
          "<b>Title:</b> Introduction to intelligent computing unit 1<br><b>Category:</b> machine learning<br>",
          "<b>Title:</b> In-Machine-Learning Database: Reimagining Deep Learning with Old-School SQL<br><b>Category:</b> machine learning<br>",
          "<b>Title:</b> Machine Learning Interpretability: A Science rather than a tool<br><b>Category:</b> machine learning<br>",
          "<b>Title:</b> Automated Machine Learning on Graphs: A Survey<br><b>Category:</b> machine learning<br>",
          "<b>Title:</b> Can Machine Learning be Moral?<br><b>Category:</b> machine learning<br>",
          "<b>Title:</b> Compressive Classification (Machine Learning without learning)<br><b>Category:</b> machine learning<br>",
          "<b>Title:</b> A Survey on Resilient Machine Learning<br><b>Category:</b> machine learning<br>",
          "<b>Title:</b> An Introduction to MM Algorithms for Machine Learning and Statistical<br><b>Category:</b> machine learning<br>",
          "<b>Title:</b> Some Requests for Machine Learning Research from the East African Tech Scene<br><b>Category:</b> machine learning<br>",
          "<b>Title:</b> Machine learning and deep learning<br><b>Category:</b> machine learning<br>",
          "<b>Title:</b> Application of Machine Learning Techniques in Aquaculture<br><b>Category:</b> machine learning<br>",
          "<b>Title:</b> TF.Learn: TensorFlow's High-level Module for Distributed Machine Learning<br><b>Category:</b> machine learning<br>",
          "<b>Title:</b> Machine Learning as Ecology<br><b>Category:</b> machine learning<br>",
          "<b>Title:</b> Using Deep Learning and Machine Learning to Detect Epileptic Seizure with Electroencephalography (EEG) Data<br><b>Category:</b> machine learning<br>",
          "<b>Title:</b> SELM: Software Engineering of Machine Learning Models<br><b>Category:</b> machine learning<br>",
          "<b>Title:</b> Machine Learning in Network Security Using KNIME Analytics<br><b>Category:</b> machine learning<br>",
          "<b>Title:</b> Challenges and Opportunities in Quantum Machine Learning<br><b>Category:</b> machine learning<br>",
          "<b>Title:</b> A Theory of Machine Learning<br><b>Category:</b> machine learning<br>",
          "<b>Title:</b> Learning Moore Machines from Input-Output Traces<br><b>Category:</b> machine learning<br>",
          "<b>Title:</b> How Developers Iterate on Machine Learning Workflows -- A Survey of the Applied Machine Learning Literature<br><b>Category:</b> machine learning<br>",
          "<b>Title:</b> Practical Solutions for Machine Learning Safety in Autonomous Vehicles<br><b>Category:</b> machine learning<br>",
          "<b>Title:</b> Julia Language in Machine Learning: Algorithms, Applications, and Open Issues<br><b>Category:</b> machine learning<br>",
          "<b>Title:</b> Modeling Generalization in Machine Learning: A Methodological and Computational Study<br><b>Category:</b> machine learning<br>",
          "<b>Title:</b> Mental Models of Adversarial Machine Learning<br><b>Category:</b> machine learning<br>",
          "<b>Title:</b> Applying Machine Learning to Life Insurance: some knowledge sharing to master it<br><b>Category:</b> machine learning<br>",
          "<b>Title:</b> Machine learning and domain decomposition methods -- a survey<br><b>Category:</b> machine learning<br>",
          "<b>Title:</b> Beyond Model Interpretability: Socio-Structural Explanations in Machine Learning<br><b>Category:</b> machine learning<br>",
          "<b>Title:</b> Aspects of Artificial Intelligence: Transforming Machine Learning Systems Naturally<br><b>Category:</b> machine learning<br>",
          "<b>Title:</b> Learning Theory and Support Vector Machines - a primer<br><b>Category:</b> machine learning<br>",
          "<b>Title:</b> Financial Time Series Data Processing for Machine Learning<br><b>Category:</b> machine learning<br>",
          "<b>Title:</b> Machine Learning using Stata/Python<br><b>Category:</b> machine learning<br>",
          "<b>Title:</b> Pen and Paper Exercises in Machine Learning<br><b>Category:</b> machine learning<br>",
          "<b>Title:</b> Classic machine learning methods<br><b>Category:</b> machine learning<br>",
          "<b>Title:</b> Information Theory and its Relation to Machine Learning<br><b>Category:</b> machine learning<br>"
         ],
         "type": "scattergl",
         "x": {
          "bdata": "ONVGQcAxPkGnckpBufg6QWJJPEH1oEdBG/g9QTS1R0HEUjZBxs8/QTKUNkGQrTlBI9w5QQpESUGaZ0BBomg3QfpES0HSLkxB7k1GQRLzRUF9uD5BDBY8Qd7cTEEoVklBHyE7QUAvB0FoZjtBnyJBQcKyAkHevjhBi3JLQXRbSEFmbkVBD7NPQYk4R0G2FjNBIZkxQR26BUHlIkRBneNFQT/ySEF6K09BCdY/QdlRQ0FqjDpBlnxHQUGmSUFP9DNBw3Q3QfNYM0FXTQdB7AlFQX8IREEWCD1B1oc9QeNgPEHozjZBtU04QamuBEF8IkVBYhVQQSTHTkHJCkZBfI46Qbj0O0F7MENBGUU9QW7zQkE6OjNBmwhKQXG1N0FxGElBFzA8QfmDSUGQ2z5ByM88QUMZQUEV0EFB8+hCQaMgOkF9NDtBxhU2QezyBEEGrEZB285LQRAcQUEh4jhBmIRDQeQ5Q0HMITpBW4Y7QbPGSEFBdDRBQOtBQUROR0HucD9B9ZVEQb7DSkGr/0xBGKFHQQ==",
          "dtype": "f4"
         },
         "y": {
          "bdata": "XK9IQJxQ/j+kSTZAa5xtQOhgMUBEkUpAGl42QAcSW0BmkhNA8BEQQFe6GUChPD5A2IMsQOp3YEBusDhAWQhJQLhATkBlFiBA4IA6QLc6J0BXnf8/eUlqQFXHUEAKjS9ABPj6P+zDB0EUGGpAdpcoQJH3DUFMvDBAfREZQMpoPUC8UUNAb4Y0QAhSLUCQsAlAzgJUQLkDC0FXiVNAdCMVQLwpGUC6GUVAWX4tQGM8C0ANjU1A/wgWQBZtWEBpfwtAaY83QPNOC0CCJwpB3vBgQAkOE0DxogVAI2ZyQLgKXEADcmFAJjwFQJU5DUHqvh1AuYs4QMR9OkAXtyZA5D5LQDseY0A+MDpA46E1QGiWMkAj/QtAbG9rQBoMDEAAg0JAp8T+Pz29WUCTi0pAmJkgQNqxaUC+8VRA8shmQLgtaUDWNDdA8ExDQGggDEGTzRpA+HkUQGZSKUBthARAVU4+QCaWFkA2R/s/JjJpQFxkS0Au4wdA03wbQE6eTUD3UFdAxoheQPhQPkCZxUhAGIMgQA==",
          "dtype": "f4"
         }
        },
        {
         "marker": {
          "color": "#00CC96",
          "line": {
           "width": 0.5
          },
          "opacity": 0.75,
          "size": 8
         },
         "mode": "markers",
         "name": "quantum computing",
         "text": [
          "<b>Title:</b> The Rise of Quantum Internet Computing<br><b>Category:</b> quantum computing<br>",
          "<b>Title:</b> Unconventional Quantum Computing Devices<br><b>Category:</b> quantum computing<br>",
          "<b>Title:</b> Geometrical perspective on quantum states and quantum computation<br><b>Category:</b> quantum computing<br>",
          "<b>Title:</b> Quantum Computation and Quantum Information<br><b>Category:</b> quantum computing<br>",
          "<b>Title:</b> Probabilistic Process Algebra to Unifying Quantum and Classical Computing in Closed Systems<br><b>Category:</b> quantum computing<br>",
          "<b>Title:</b> Google Quantum AI's Quest for Error-Corrected Quantum Computers<br><b>Category:</b> quantum computing<br>",
          "<b>Title:</b> Optimal Stochastic Resource Allocation for Distributed Quantum Computing<br><b>Category:</b> quantum computing<br>",
          "<b>Title:</b> Quantum Computational Complexity<br><b>Category:</b> quantum computing<br>",
          "<b>Title:</b> Quantum Computers and Quantum Computer Languages: Quantum Assembly Language and Quantum C Language<br><b>Category:</b> quantum computing<br>",
          "<b>Title:</b> IBM Quantum Computers: Evolution, Performance, and Future Directions<br><b>Category:</b> quantum computing<br>",
          "<b>Title:</b> Duality quantum computer and the efficient quantum simulations<br><b>Category:</b> quantum computing<br>",
          "<b>Title:</b> Simulations of Many-Body Quantum Systems by a Quantum Computer<br><b>Category:</b> quantum computing<br>",
          "<b>Title:</b> A bird's eye view of quantum computers<br><b>Category:</b> quantum computing<br>",
          "<b>Title:</b> A Note on Bulk Quantum Turing Machine<br><b>Category:</b> quantum computing<br>",
          "<b>Title:</b> Pulse controlled noise suppressed quantum computation<br><b>Category:</b> quantum computing<br>",
          "<b>Title:</b> From Distributed Quantum Computing to Quantum Internet Computing: an Overview<br><b>Category:</b> quantum computing<br>",
          "<b>Title:</b> Quantum Cybernetics and Complex Quantum Systems Science - A Quantum Connectionist Exploration<br><b>Category:</b> quantum computing<br>",
          "<b>Title:</b> Quantum Computing for Multi Period Asset Allocation<br><b>Category:</b> quantum computing<br>",
          "<b>Title:</b> An Introduction to Quantum Computing<br><b>Category:</b> quantum computing<br>",
          "<b>Title:</b> Quantum Computing via The Bethe Ansatz<br><b>Category:</b> quantum computing<br>",
          "<b>Title:</b> How to Compute Using Quantum Walks<br><b>Category:</b> quantum computing<br>",
          "<b>Title:</b> A Uniform Quantum Computing Model Based on Virtual Quantum Processors<br><b>Category:</b> quantum computing<br>",
          "<b>Title:</b> Quantum computer: an appliance for playing market games<br><b>Category:</b> quantum computing<br>",
          "<b>Title:</b> Integrable Quantum Computation<br><b>Category:</b> quantum computing<br>",
          "<b>Title:</b> Quantum Computational Supremacy<br><b>Category:</b> quantum computing<br>",
          "<b>Title:</b> Quantum Computation<br><b>Category:</b> quantum computing<br>",
          "<b>Title:</b> Post-Hartree-Fock method in Quantum Chemistry for Quantum Computer<br><b>Category:</b> quantum computing<br>",
          "<b>Title:</b> Covert Quantum Internet<br><b>Category:</b> quantum computing<br>",
          "<b>Title:</b> Phase Information in Quantum Oracle Computing<br><b>Category:</b> quantum computing<br>",
          "<b>Title:</b> Photonic Quantum Computing<br><b>Category:</b> quantum computing<br>",
          "<b>Title:</b> Photonic Quantum Computers<br><b>Category:</b> quantum computing<br>",
          "<b>Title:</b> Quantum Computing in Transport Science: A Review<br><b>Category:</b> quantum computing<br>",
          "<b>Title:</b> Quantum computer and its quasiclassical model<br><b>Category:</b> quantum computing<br>",
          "<b>Title:</b> Research on quantum compilation of neutral atom quantum computing platform<br><b>Category:</b> quantum computing<br>",
          "<b>Title:</b> Quantum computer for dummies (in Russian)<br><b>Category:</b> quantum computing<br>",
          "<b>Title:</b> Multiparty Delegated Quantum Computing<br><b>Category:</b> quantum computing<br>",
          "<b>Title:</b> What is a quantum computer, and how do we build one?<br><b>Category:</b> quantum computing<br>",
          "<b>Title:</b> Fault-Tolerant Postselected Quantum Computation: Threshold Analysis<br><b>Category:</b> quantum computing<br>",
          "<b>Title:</b> Why now is the right time to study quantum computing<br><b>Category:</b> quantum computing<br>",
          "<b>Title:</b> Simulation of Two-Qubit Grover Algorithm in MBQC with Universal Blind Quantum Computation<br><b>Category:</b> quantum computing<br>",
          "<b>Title:</b> Continuous Variable Quantum Algorithms: an Introduction<br><b>Category:</b> quantum computing<br>",
          "<b>Title:</b> Quantum computing: principles and applications<br><b>Category:</b> quantum computing<br>",
          "<b>Title:</b> Quantum algorithmic information theory<br><b>Category:</b> quantum computing<br>",
          "<b>Title:</b> Quantum reservoir computing: a reservoir approach toward quantum machine learning on near-term quantum devices<br><b>Category:</b> quantum computing<br>",
          "<b>Title:</b> Efficient Quantum Transforms<br><b>Category:</b> quantum computing<br>",
          "<b>Title:</b> Exploring Airline Gate-Scheduling Optimization Using Quantum Computers<br><b>Category:</b> quantum computing<br>",
          "<b>Title:</b> Quantum Chaos & Quantum Computers<br><b>Category:</b> quantum computing<br>",
          "<b>Title:</b> Review on Quantum Walk Computing: Theory, Implementation, and Application<br><b>Category:</b> quantum computing<br>",
          "<b>Title:</b> Quantum memristors for neuromorphic quantum machine learning<br><b>Category:</b> quantum computing<br>",
          "<b>Title:</b> DQC$^2$O: Distributed Quantum Computing for Collaborative Optimization in Future Networks<br><b>Category:</b> quantum computing<br>",
          "<b>Title:</b> Understanding Quantum Technologies 2024<br><b>Category:</b> quantum computing<br>",
          "<b>Title:</b> Quantum Computing Using Crossed Atomic Beams<br><b>Category:</b> quantum computing<br>",
          "<b>Title:</b> Quantum Computation: A Computer Science Perspective<br><b>Category:</b> quantum computing<br>",
          "<b>Title:</b> Classification of Hybrid Quantum-Classical Computing<br><b>Category:</b> quantum computing<br>",
          "<b>Title:</b> Nonlinear Dynamics In Quantum Physics -- Quantum Chaos and Quantum Instantons<br><b>Category:</b> quantum computing<br>",
          "<b>Title:</b> Lecture Notes on Quantum Algorithms in Open Quantum Systems<br><b>Category:</b> quantum computing<br>",
          "<b>Title:</b> Password authentication schemes on a quantum computer<br><b>Category:</b> quantum computing<br>",
          "<b>Title:</b> Bridging Quantum Mechanics and Computing: A Primer for Software Engineers<br><b>Category:</b> quantum computing<br>",
          "<b>Title:</b> Authorized quantum computation<br><b>Category:</b> quantum computing<br>",
          "<b>Title:</b> Unifying Quantum Computation with Projective Measurements only and One-Way Quantum Computation<br><b>Category:</b> quantum computing<br>",
          "<b>Title:</b> Measurement-only verifiable blind quantum computing with quantum input verification<br><b>Category:</b> quantum computing<br>",
          "<b>Title:</b> State Stabilization for Gate-Model Quantum Computers<br><b>Category:</b> quantum computing<br>",
          "<b>Title:</b> Simulating Grover's Quantum Search in a Classical Computer<br><b>Category:</b> quantum computing<br>",
          "<b>Title:</b> Quantum Computation by Quantum Operations on Mixed States<br><b>Category:</b> quantum computing<br>",
          "<b>Title:</b> Quantum computation by teleportation and symmetry<br><b>Category:</b> quantum computing<br>",
          "<b>Title:</b> Classical computing, quantum computing, and Shor's factoring algorithm<br><b>Category:</b> quantum computing<br>",
          "<b>Title:</b> Quantum vs. Symplectic Computers<br><b>Category:</b> quantum computing<br>",
          "<b>Title:</b> Accelerated Quantum Amplitude Estimation without QFT<br><b>Category:</b> quantum computing<br>",
          "<b>Title:</b> Introduction to topological quantum computation with non-Abelian anyons<br><b>Category:</b> quantum computing<br>",
          "<b>Title:</b> Mimicking Time Evolution within a Quantum Ground State: Ground-State Quantum Computation, Cloning, and Teleportation<br><b>Category:</b> quantum computing<br>",
          "<b>Title:</b> Quantum Computing: a Quantum Group Approach<br><b>Category:</b> quantum computing<br>",
          "<b>Title:</b> A Practitioner's Guide to Quantum Algorithms for Optimisation Problems<br><b>Category:</b> quantum computing<br>",
          "<b>Title:</b> The role of Quantum Interference in Quantum Computing<br><b>Category:</b> quantum computing<br>",
          "<b>Title:</b> Quantum computation and complexity theory<br><b>Category:</b> quantum computing<br>",
          "<b>Title:</b> Comment on 'Resilient Quantum Computation in Correlated Environments: A Quantum Phase Transition Perspective' and 'Fault-tolerant Quantum Computation with Longe-range Correlated Noise'<br><b>Category:</b> quantum computing<br>",
          "<b>Title:</b> Classical signal-flow in cluster-state quantum computation<br><b>Category:</b> quantum computing<br>",
          "<b>Title:</b> The Power of Adiabatic Quantum Computation with No Sign Problem<br><b>Category:</b> quantum computing<br>",
          "<b>Title:</b> Hybrid quantum computing<br><b>Category:</b> quantum computing<br>",
          "<b>Title:</b> The quantum algorithm of Kieu does not solve the Hilbert's tenth problem<br><b>Category:</b> quantum computing<br>",
          "<b>Title:</b> Computational Methods for Simulating Quantum Computers<br><b>Category:</b> quantum computing<br>",
          "<b>Title:</b> Universal Quantum Computation by a Single Photon<br><b>Category:</b> quantum computing<br>",
          "<b>Title:</b> Universal quantum computation using quantum annealing with the transverse-field Ising Hamiltonian<br><b>Category:</b> quantum computing<br>",
          "<b>Title:</b> A Parallel Quantum Computer Simulator<br><b>Category:</b> quantum computing<br>",
          "<b>Title:</b> Parallel Quantum Computing in a Single Ensemble Quantum Computer<br><b>Category:</b> quantum computing<br>",
          "<b>Title:</b> QHDL: a Low-Level Circuit Description Language for Quantum Computing<br><b>Category:</b> quantum computing<br>",
          "<b>Title:</b> Variance of the sum of independent quantum computing errors<br><b>Category:</b> quantum computing<br>",
          "<b>Title:</b> I, Quantum Robot: Quantum Mind control on a Quantum Computer<br><b>Category:</b> quantum computing<br>",
          "<b>Title:</b> The Physics of Quantum Information<br><b>Category:</b> quantum computing<br>",
          "<b>Title:</b> An Introduction to Quantum Computers<br><b>Category:</b> quantum computing<br>",
          "<b>Title:</b> A quantum cellular automaton for universal quantum computation<br><b>Category:</b> quantum computing<br>",
          "<b>Title:</b> Quantum Kolmogorov-Arnold networks by combining quantum signal processing circuits<br><b>Category:</b> quantum computing<br>",
          "<b>Title:</b> Experimental verification of quantum computations<br><b>Category:</b> quantum computing<br>",
          "<b>Title:</b> A quantum walk control plane for distributed quantum computing in quantum networks<br><b>Category:</b> quantum computing<br>",
          "<b>Title:</b> The universal quantum driving force to speed up a quantum computation -- The unitary quantum dynamics<br><b>Category:</b> quantum computing<br>",
          "<b>Title:</b> Duality and Recycling Computing in Quantum Computers<br><b>Category:</b> quantum computing<br>",
          "<b>Title:</b> Topologization of electron liquids with Chern-Simons theory and quantum computation<br><b>Category:</b> quantum computing<br>",
          "<b>Title:</b> Quantum logic as motivated by quantum computing<br><b>Category:</b> quantum computing<br>",
          "<b>Title:</b> Digital-analog quantum algorithm for the quantum Fourier transform<br><b>Category:</b> quantum computing<br>",
          "<b>Title:</b> Prospective Algorithms for Quantum Evolutionary Computation<br><b>Category:</b> quantum computing<br>",
          "<b>Title:</b> Quantum Circuit Design for Objective Function Maximization in Gate-Model Quantum Computers<br><b>Category:</b> quantum computing<br>"
         ],
         "type": "scattergl",
         "x": {
          "bdata": "2Ij7QC/QCEHPVetA9dMEQeVZ9UDGKfVAULkHQXqq9ED6YAFBuuL6QJmnCUFn5QlBcGT5QJ+lAEGj2wZBaG/7QCx//EBNpgdBBpT4QH0260CdQfhAf6wGQXFtBEFdT+hA+pUHQU6b+0CbBQdBj8D2QAVf8UBCIPBAgFv5QLQ5AEEuAQxBjsX3QKpx/EATG/xAJrQFQXJr/kCXcfFAnh/9QGGIAUHkCPxAqljtQLpfA0HoSvlAHFYKQdiZCkHlXwFBd+YFQRx+BUHEYOtAZIDxQLAZ+EAuZgtBB80CQT0u+0CEAPtAQenrQFsh+EATq+VA5PD7QL1wC0EV5gdB9PjyQH+g4kB0rvFAKrECQYrlAEHUz+hAYy3xQLeO70DoSAlBbj4FQRZ37UDh7/hAMBziQJGo7kAH1AlBe8rzQD14CEHGMeNAOQ8LQcDHCkH+pwtBU5kFQXvE+UDSlQBBcE3oQCAt+kCWKOFAj+4AQcJZ+0BXFwBBikUBQciUC0G+R/BA4TX3QMWVBUFW4AdBa7kLQQ==",
          "dtype": "f4"
         },
         "y": {
          "bdata": "4nArQabdIEGRYRpB+hEbQUlTGkFVDCVButIqQc3NF0F6ZCJBp38mQdylH0EeGRxBT2wdQQN5HkELaShBtzsrQS23KEFBbRpBZlwdQY47G0GYUyBBMr8kQV0OGkH0dRtBg2kfQUfeGUGNZRhBgK0uQRk9GUFQ5h5BurImQZhMIkE2FSJBKDkkQb5IHkGCMDNB6Y0jQa1pEkFIxiJB8A00QYNwGUEoUCFBurEcQWY7D0GWRB5BHDMpQQ6bGUF5Xh9BVNQKQVxcLEF6gCNBjT0lQdwfGkHF4CJBbQgVQYXtFEHCRTBBowQgQagYM0F3kx1BuUc0QWIQJUFUPxlBRlIXQUKpHUFwexVBw3oiQY/EG0GmyhpBnAMrQYXVJEGOqSVBZJQnQVQmFkEvtBNBJSAhQYgWFUGslyJB9GUUQVRtGkF5IxxBITImQalSHEEVRR1BRZ0kQVjrFEHu3CVBcz0jQdy1HEG6ZRlBUCIpQVhRMkF3JS1BVhgWQf4mHkHzIBpByZIkQTFpIkEOESJBwLUnQQ==",
          "dtype": "f4"
         }
        },
        {
         "marker": {
          "color": "#AB63FA",
          "line": {
           "width": 0.5
          },
          "opacity": 0.75,
          "size": 8
         },
         "mode": "markers",
         "name": "biomolecular modeling",
         "text": [
          "<b>Title:</b> Computing Biomolecular System Steady-states<br><b>Category:</b> biomolecular modeling<br>",
          "<b>Title:</b> Predicting biomolecular binding kinetics: A review<br><b>Category:</b> biomolecular modeling<br>",
          "<b>Title:</b> Energy-based Analysis of Biomolecular Pathways<br><b>Category:</b> biomolecular modeling<br>",
          "<b>Title:</b> Dynamical Response of Nanomechanical Resonators to Biomolecular Interactions<br><b>Category:</b> biomolecular modeling<br>",
          "<b>Title:</b> Period-Amplitude Co-variation in Biomolecular Oscillators<br><b>Category:</b> biomolecular modeling<br>",
          "<b>Title:</b> Mol-Instructions: A Large-Scale Biomolecular Instruction Dataset for Large Language Models<br><b>Category:</b> biomolecular modeling<br>",
          "<b>Title:</b> Theory and simulation of multiphase coexistence in biomolecular mixtures<br><b>Category:</b> biomolecular modeling<br>",
          "<b>Title:</b> More powerful biomolecular computers<br><b>Category:</b> biomolecular modeling<br>",
          "<b>Title:</b> A review of geometric, topological and graph theory apparatuses for the modeling and analysis of biomolecular data<br><b>Category:</b> biomolecular modeling<br>",
          "<b>Title:</b> Multiscale virtual particle based elastic network model (MVP-ENM) for biomolecular normal mode analysis<br><b>Category:</b> biomolecular modeling<br>",
          "<b>Title:</b> Biomolecular resource utilization in elementary cell-free gene circuits<br><b>Category:</b> biomolecular modeling<br>",
          "<b>Title:</b> Error-Control and Digitalization Concepts for Chemical and Biomolecular Information Processing Systems<br><b>Category:</b> biomolecular modeling<br>",
          "<b>Title:</b> Algebraic graph learning of protein-ligand binding affinity<br><b>Category:</b> biomolecular modeling<br>",
          "<b>Title:</b> SVSBI: Sequence-based virtual screening of biomolecular interactions<br><b>Category:</b> biomolecular modeling<br>",
          "<b>Title:</b> Modular Bond-graph Modelling and Analysis of Biomolecular Systems<br><b>Category:</b> biomolecular modeling<br>",
          "<b>Title:</b> Bond Graph Modelling of Chemiosmotic Biomolecular Energy Transduction<br><b>Category:</b> biomolecular modeling<br>",
          "<b>Title:</b> Quantum-assisted biomolecular modelling<br><b>Category:</b> biomolecular modeling<br>",
          "<b>Title:</b> Coordinated Spatial Pattern Formation in Biomolecular Communication Networks<br><b>Category:</b> biomolecular modeling<br>",
          "<b>Title:</b> Non-normality Can Facilitate Pulsing in Biomolecular Circuits<br><b>Category:</b> biomolecular modeling<br>",
          "<b>Title:</b> Mesoscopic heterogeneity in biomolecular condensates from sequence patterning<br><b>Category:</b> biomolecular modeling<br>",
          "<b>Title:</b> Rejection-free kinetic Monte Carlo simulation of multivalent biomolecular interactions<br><b>Category:</b> biomolecular modeling<br>",
          "<b>Title:</b> Improvements to the APBS biomolecular solvation software suite<br><b>Category:</b> biomolecular modeling<br>",
          "<b>Title:</b> InstructBioMol: Advancing Biomolecule Understanding and Design Following Human Instructions<br><b>Category:</b> biomolecular modeling<br>",
          "<b>Title:</b> The Martini Model in Materials Science<br><b>Category:</b> biomolecular modeling<br>",
          "<b>Title:</b> Biomolecular System Energetics<br><b>Category:</b> biomolecular modeling<br>",
          "<b>Title:</b> Energy-based Modelling of the Feedback Control of Biomolecular Systems with Cyclic Flow Modulation<br><b>Category:</b> biomolecular modeling<br>",
          "<b>Title:</b> Bond Graphs Unify Stoichiometric Analysis and Thermodynamics<br><b>Category:</b> biomolecular modeling<br>",
          "<b>Title:</b> An explanation of unexpected Hoxd expressions in mutant mice<br><b>Category:</b> biomolecular modeling<br>",
          "<b>Title:</b> Improvements in continuum modeling for biomolecular systems<br><b>Category:</b> biomolecular modeling<br>",
          "<b>Title:</b> Effective dissipation: breaking time-reversal symmetry in driven microscopic energy transmission<br><b>Category:</b> biomolecular modeling<br>",
          "<b>Title:</b> NepoIP/MM: Towards Accurate Biomolecular Simulation with a Machine Learning/Molecular Mechanics Model Incorporating Polarization Effects<br><b>Category:</b> biomolecular modeling<br>",
          "<b>Title:</b> Efficient Formulation of Polarizable Gaussian Multipole Electrostatics for Biomolecular Simulations<br><b>Category:</b> biomolecular modeling<br>",
          "<b>Title:</b> Autonomous push-down automaton built on DNA<br><b>Category:</b> biomolecular modeling<br>",
          "<b>Title:</b> Sonifying stochastic walks on biomolecular energy landscapes<br><b>Category:</b> biomolecular modeling<br>",
          "<b>Title:</b> A Kalman Filter Approach for Biomolecular Systems with Noise Covariance Updating<br><b>Category:</b> biomolecular modeling<br>",
          "<b>Title:</b> Flow Matching for Optimal Reaction Coordinates of Biomolecular System<br><b>Category:</b> biomolecular modeling<br>",
          "<b>Title:</b> Hamiltonian replica exchange augmented with diffusion-based generative models and importance sampling to assess biomolecular conformational basins and barriers<br><b>Category:</b> biomolecular modeling<br>",
          "<b>Title:</b> Variational Methods for Biomolecular Modeling<br><b>Category:</b> biomolecular modeling<br>",
          "<b>Title:</b> Non-Markovian theory of vibrational energy relaxation and its applications to biomolecular systems<br><b>Category:</b> biomolecular modeling<br>",
          "<b>Title:</b> Biomolecular imaging and electronic damage using X-ray free-electron lasers<br><b>Category:</b> biomolecular modeling<br>",
          "<b>Title:</b> Controlling biomolecular condensates via chemical reactions<br><b>Category:</b> biomolecular modeling<br>",
          "<b>Title:</b> Natural Light Harvesting Systems: Unraveling the quantum puzzles<br><b>Category:</b> biomolecular modeling<br>",
          "<b>Title:</b> Do-calculus enables estimation of causal effects in partially observed biomolecular pathways<br><b>Category:</b> biomolecular modeling<br>",
          "<b>Title:</b> Biochemical Filter with Sigmoidal Response: Increasing the Complexity of Biomolecular Logic<br><b>Category:</b> biomolecular modeling<br>",
          "<b>Title:</b> Enhanced Sampling Algorithms<br><b>Category:</b> biomolecular modeling<br>",
          "<b>Title:</b> Energy fluctuations shape free energy of nonspecific biomolecular interactions<br><b>Category:</b> biomolecular modeling<br>",
          "<b>Title:</b> Improving RNA Secondary Structure Design using Deep Reinforcement Learning<br><b>Category:</b> biomolecular modeling<br>",
          "<b>Title:</b> Self-assembly of biomolecular condensates with shared components<br><b>Category:</b> biomolecular modeling<br>",
          "<b>Title:</b> Non-equilibrium physics of multi-species assembly: From inhibition of fibrils in biomolecular condensates to growth of online distrust<br><b>Category:</b> biomolecular modeling<br>",
          "<b>Title:</b> Matching biomolecular structures by registration of point clouds<br><b>Category:</b> biomolecular modeling<br>",
          "<b>Title:</b> Technical Report of HelixFold3 for Biomolecular Structure Prediction<br><b>Category:</b> biomolecular modeling<br>",
          "<b>Title:</b> Anomalous Long-range Hard-wall Repulsion between Polymers in Solvent Mixtures and Its Implication for Biomolecular Condensates<br><b>Category:</b> biomolecular modeling<br>",
          "<b>Title:</b> Weighted persistent homology for biomolecular data analysis<br><b>Category:</b> biomolecular modeling<br>",
          "<b>Title:</b> Differential geometry-based solvation and electrolyte transport models for biomolecular modeling: a review<br><b>Category:</b> biomolecular modeling<br>",
          "<b>Title:</b> Computing Long Timescale Biomolecular Dynamics using Quasi-Stationary Distribution Kinetic Monte Carlo (QSD-KMC)<br><b>Category:</b> biomolecular modeling<br>",
          "<b>Title:</b> Multiscale persistent functions for biomolecular structure characterization<br><b>Category:</b> biomolecular modeling<br>",
          "<b>Title:</b> Quantum entanglement phenomena in photosynthetic light harvesting complexes<br><b>Category:</b> biomolecular modeling<br>",
          "<b>Title:</b> Theoretical restrictions on longest implicit timescales in Markov state models of biomolecular dynamics<br><b>Category:</b> biomolecular modeling<br>",
          "<b>Title:</b> Autonomous free-energy transducer working under thermal fluctuations<br><b>Category:</b> biomolecular modeling<br>",
          "<b>Title:</b> Reliable computer simulation methods for electrostatic biomolecular models based on the Poisson-Boltzmann equation<br><b>Category:</b> biomolecular modeling<br>",
          "<b>Title:</b> Machine Learning Potentials: A Roadmap Toward Next-Generation Biomolecular Simulations<br><b>Category:</b> biomolecular modeling<br>",
          "<b>Title:</b> Markov Field Models: scaling molecular kinetics approaches to large molecular machines<br><b>Category:</b> biomolecular modeling<br>",
          "<b>Title:</b> Theory of the center-of-mass diffusion and viscosity of microstructured and variable sequence copolymer liquids<br><b>Category:</b> biomolecular modeling<br>",
          "<b>Title:</b> Electrostatics of Salt-Dependent Reentrant Phase Behaviors Highlights Diverse Roles of ATP in Biomolecular Condensates<br><b>Category:</b> biomolecular modeling<br>",
          "<b>Title:</b> On the First-Passage Time Fluctuation Theorem in Complex Biomolecular Networks<br><b>Category:</b> biomolecular modeling<br>",
          "<b>Title:</b> Diffusion priors for Bayesian 3D reconstruction from incomplete measurements<br><b>Category:</b> biomolecular modeling<br>",
          "<b>Title:</b> Modeling of biomolecular machines in non-equilibrium steady states<br><b>Category:</b> biomolecular modeling<br>",
          "<b>Title:</b> CryoFM: A Flow-based Foundation Model for Cryo-EM Densities<br><b>Category:</b> biomolecular modeling<br>",
          "<b>Title:</b> Enhanced condensate fluidity in modified patchy particle models<br><b>Category:</b> biomolecular modeling<br>",
          "<b>Title:</b> Perspective: Markov Models for Long-Timescale Biomolecular Dynamics<br><b>Category:</b> biomolecular modeling<br>",
          "<b>Title:</b> Model order reduction for Linear Noise Approximation using time-scale separation (Extended Version)<br><b>Category:</b> biomolecular modeling<br>",
          "<b>Title:</b> Design of Experiments for Verifying Biomolecular Networks<br><b>Category:</b> biomolecular modeling<br>",
          "<b>Title:</b> Curvature-enhanced Graph Convolutional Network for Biomolecular Interaction Prediction<br><b>Category:</b> biomolecular modeling<br>",
          "<b>Title:</b> Bio2Token: All-atom tokenization of any biomolecular structure with Mamba<br><b>Category:</b> biomolecular modeling<br>",
          "<b>Title:</b> Learning Biomolecular Models using Signal Temporal Logic<br><b>Category:</b> biomolecular modeling<br>",
          "<b>Title:</b> Microvasculature Segmentation in Human BioMolecular Atlas Program (HuBMAP)<br><b>Category:</b> biomolecular modeling<br>",
          "<b>Title:</b> Predicting the morphology of multiphase biomolecular condensates from protein interaction networks<br><b>Category:</b> biomolecular modeling<br>",
          "<b>Title:</b> A computational framework for optimal and Model Predictive Control of stochastic gene regulatory networks<br><b>Category:</b> biomolecular modeling<br>",
          "<b>Title:</b> NeuralPLexer3: Accurate Biomolecular Complex Structure Prediction with Flow Models<br><b>Category:</b> biomolecular modeling<br>",
          "<b>Title:</b> Deep Learning-Driven Protein Structure Prediction and Design: Key Model Developments by Nobel Laureates and Multi-Domain Applications<br><b>Category:</b> biomolecular modeling<br>",
          "<b>Title:</b> Towards local electromechanical probing of cellular and biomolecular systems in a liquid environment<br><b>Category:</b> biomolecular modeling<br>",
          "<b>Title:</b> Plant responses to auxin signals: an operating principle for dynamical sensitivity yet high resilience<br><b>Category:</b> biomolecular modeling<br>",
          "<b>Title:</b> Note: Variational Encoding of Protein Dynamics Benefits from Maximizing Latent Autocorrelation<br><b>Category:</b> biomolecular modeling<br>",
          "<b>Title:</b> Maximizing Information Gain for the Characterization of Biomolecular Circuits<br><b>Category:</b> biomolecular modeling<br>",
          "<b>Title:</b> Molecular Simulations of Liquid Jet Explosions and Shock Waves Induced by X-Ray Free-Electron Lasers<br><b>Category:</b> biomolecular modeling<br>",
          "<b>Title:</b> Using Signal Processing in Tandem With Adapted Mixture Models for Classifying Genomic Signals<br><b>Category:</b> biomolecular modeling<br>",
          "<b>Title:</b> Internal and interfacial friction in the dynamics of soft/solid interfaces<br><b>Category:</b> biomolecular modeling<br>",
          "<b>Title:</b> Quantum coherent biomolecular energy transfer with spatially correlated fluctuations<br><b>Category:</b> biomolecular modeling<br>",
          "<b>Title:</b> Interplay between excitation kinetics and reaction-center dynamics in purple bacteria<br><b>Category:</b> biomolecular modeling<br>",
          "<b>Title:</b> Non-equilibrium phase transitions in biomolecular signal transduction<br><b>Category:</b> biomolecular modeling<br>",
          "<b>Title:</b> Experimental assessment of the contribution of electrodynamic interactions to long-distance recruitment of biomolecular partners: Theoretical basis<br><b>Category:</b> biomolecular modeling<br>",
          "<b>Title:</b> *K-means and Cluster Models for Cancer Signatures<br><b>Category:</b> biomolecular modeling<br>",
          "<b>Title:</b> A Convex Approach to Steady State Moment Analysis for Stochastic Chemical Reactions<br><b>Category:</b> biomolecular modeling<br>",
          "<b>Title:</b> Generalized Charge Energy Rate for Organic Solids and Biomolecular Aggregates Through Drift-Diffusion and Hopping Transport Equations: A Unified Theory<br><b>Category:</b> biomolecular modeling<br>",
          "<b>Title:</b> Uncovering the Folding Landscape of RNA Secondary Structure with Deep Graph Embeddings<br><b>Category:</b> biomolecular modeling<br>",
          "<b>Title:</b> Controlling the size and adhesion of DNA droplets using surface-active DNA molecules<br><b>Category:</b> biomolecular modeling<br>",
          "<b>Title:</b> DeepLNE++ leveraging knowledge distillation for accelerated multi-state path-like collective variables<br><b>Category:</b> biomolecular modeling<br>",
          "<b>Title:</b> Condensation and activator/repressor control of a transcription-regulated biomolecular liquid<br><b>Category:</b> biomolecular modeling<br>",
          "<b>Title:</b> Iterative variational learning of committor-consistent transition pathways using artificial neural networks<br><b>Category:</b> biomolecular modeling<br>",
          "<b>Title:</b> Perfect Stabilization of Biomolecular Adhesions under Load<br><b>Category:</b> biomolecular modeling<br>"
         ],
         "type": "scattergl",
         "x": {
          "bdata": "VWkEQK+NKT+BqwBAxcw2PeLqAT/btZc/r/14PwU10D/FneQ/AAxcPujDvT841cA/t5HQP4p2pz/GcQRAZPcKQC7dWD8s5bU/7LJXP1T2fD+Bmyw/gDJevNyUmz/UoWM8ancIQLxQ8D+gowhApjx5PyXZED7N0+c+ikwdvbcJvr2h78o/0+8bPyiShT8qmZM//I1YPxGflDyf3KE+EtCiPkekYT84LaM+h2ygPyjPyD8lOiA/OQ9zPqvKpj+dQHE/jeRSP3wQuj/XNqg/uRuKP2nr3j9QAUu+wwtHP1Wu6j+sJKo+OWFeP1EprD7hjXu959qaPw69MT8wT4U/3ahzP9VhKT9fH3E/SfwOPzBMeT/i+oU/IAEhPyY2Wz//Iqs/55PMP/d2tT9y57s/OMXKPwwmbD/vMLk/0la1P4LjpT/K44i+zv7QP3owfz+cNpc/2pgAP+JQ5D/RlF++5NuLPkXIrT5PWE8/V+dHPQBQNEHHLow//em8wJfrzz+NGUo/PRyLP15jYT8TJos/1PY5Pw==",
          "dtype": "f4"
         },
         "y": {
          "bdata": "JSlAQAMXPUDtCElAQzp2QMLTXkAnjhBAqmSQQG2mbkD8uiVAaOQyQE9Hb0Bgi2VALrEsQP44CECUuD5AoBlDQPxTV0CsFXNArNdkQFl0lUATXT1AtwQ5QMxQCEBwLUBApZZEQIROV0BoyT5AyXx/QB2eOkAcF3BAPRY9QKA1QUBPAW9A7CJDQAKcSkDhIjJAClUiQEnhSkDyeGxABhF8QJEcjkBvz3lAlHA6QBY9XkCzbzBACEZiQEK4EUAIt5BALE6LQB+hFEA0LgNA1RCVQE/KHEC7CURAihhAQLvRGECiMXpAQ7w7QN2VbUCNkDVAf40gQB4vO0BW3I9ACBOSQOwwbEAD8yFAyCZRQCLqGkAMZJVAfSpEQAuWSkDKbz9AiuMTQIs8CECp0kdAixYOQMqKk0A9J2NAVyABQJ48B0AeIVhApWhmQAeGK0BlhFJA722GQNclJUA6IHJAhn53QFaHeUDpZ3dAeM52QC3PSkCdnk9AcPypQDUiDEAvo5tA1iAkQOMBkUCRTS1AztWXQA==",
          "dtype": "f4"
         }
        }
       ],
       "layout": {
        "height": 600,
        "hovermode": "closest",
        "plot_bgcolor": "rgba(0,0,0,0)",
        "template": {
         "data": {
          "bar": [
           {
            "error_x": {
             "color": "#2a3f5f"
            },
            "error_y": {
             "color": "#2a3f5f"
            },
            "marker": {
             "line": {
              "color": "#E5ECF6",
              "width": 0.5
             },
             "pattern": {
              "fillmode": "overlay",
              "size": 10,
              "solidity": 0.2
             }
            },
            "type": "bar"
           }
          ],
          "barpolar": [
           {
            "marker": {
             "line": {
              "color": "#E5ECF6",
              "width": 0.5
             },
             "pattern": {
              "fillmode": "overlay",
              "size": 10,
              "solidity": 0.2
             }
            },
            "type": "barpolar"
           }
          ],
          "carpet": [
           {
            "aaxis": {
             "endlinecolor": "#2a3f5f",
             "gridcolor": "white",
             "linecolor": "white",
             "minorgridcolor": "white",
             "startlinecolor": "#2a3f5f"
            },
            "baxis": {
             "endlinecolor": "#2a3f5f",
             "gridcolor": "white",
             "linecolor": "white",
             "minorgridcolor": "white",
             "startlinecolor": "#2a3f5f"
            },
            "type": "carpet"
           }
          ],
          "choropleth": [
           {
            "colorbar": {
             "outlinewidth": 0,
             "ticks": ""
            },
            "type": "choropleth"
           }
          ],
          "contour": [
           {
            "colorbar": {
             "outlinewidth": 0,
             "ticks": ""
            },
            "colorscale": [
             [
              0,
              "#0d0887"
             ],
             [
              0.1111111111111111,
              "#46039f"
             ],
             [
              0.2222222222222222,
              "#7201a8"
             ],
             [
              0.3333333333333333,
              "#9c179e"
             ],
             [
              0.4444444444444444,
              "#bd3786"
             ],
             [
              0.5555555555555556,
              "#d8576b"
             ],
             [
              0.6666666666666666,
              "#ed7953"
             ],
             [
              0.7777777777777778,
              "#fb9f3a"
             ],
             [
              0.8888888888888888,
              "#fdca26"
             ],
             [
              1,
              "#f0f921"
             ]
            ],
            "type": "contour"
           }
          ],
          "contourcarpet": [
           {
            "colorbar": {
             "outlinewidth": 0,
             "ticks": ""
            },
            "type": "contourcarpet"
           }
          ],
          "heatmap": [
           {
            "colorbar": {
             "outlinewidth": 0,
             "ticks": ""
            },
            "colorscale": [
             [
              0,
              "#0d0887"
             ],
             [
              0.1111111111111111,
              "#46039f"
             ],
             [
              0.2222222222222222,
              "#7201a8"
             ],
             [
              0.3333333333333333,
              "#9c179e"
             ],
             [
              0.4444444444444444,
              "#bd3786"
             ],
             [
              0.5555555555555556,
              "#d8576b"
             ],
             [
              0.6666666666666666,
              "#ed7953"
             ],
             [
              0.7777777777777778,
              "#fb9f3a"
             ],
             [
              0.8888888888888888,
              "#fdca26"
             ],
             [
              1,
              "#f0f921"
             ]
            ],
            "type": "heatmap"
           }
          ],
          "histogram": [
           {
            "marker": {
             "pattern": {
              "fillmode": "overlay",
              "size": 10,
              "solidity": 0.2
             }
            },
            "type": "histogram"
           }
          ],
          "histogram2d": [
           {
            "colorbar": {
             "outlinewidth": 0,
             "ticks": ""
            },
            "colorscale": [
             [
              0,
              "#0d0887"
             ],
             [
              0.1111111111111111,
              "#46039f"
             ],
             [
              0.2222222222222222,
              "#7201a8"
             ],
             [
              0.3333333333333333,
              "#9c179e"
             ],
             [
              0.4444444444444444,
              "#bd3786"
             ],
             [
              0.5555555555555556,
              "#d8576b"
             ],
             [
              0.6666666666666666,
              "#ed7953"
             ],
             [
              0.7777777777777778,
              "#fb9f3a"
             ],
             [
              0.8888888888888888,
              "#fdca26"
             ],
             [
              1,
              "#f0f921"
             ]
            ],
            "type": "histogram2d"
           }
          ],
          "histogram2dcontour": [
           {
            "colorbar": {
             "outlinewidth": 0,
             "ticks": ""
            },
            "colorscale": [
             [
              0,
              "#0d0887"
             ],
             [
              0.1111111111111111,
              "#46039f"
             ],
             [
              0.2222222222222222,
              "#7201a8"
             ],
             [
              0.3333333333333333,
              "#9c179e"
             ],
             [
              0.4444444444444444,
              "#bd3786"
             ],
             [
              0.5555555555555556,
              "#d8576b"
             ],
             [
              0.6666666666666666,
              "#ed7953"
             ],
             [
              0.7777777777777778,
              "#fb9f3a"
             ],
             [
              0.8888888888888888,
              "#fdca26"
             ],
             [
              1,
              "#f0f921"
             ]
            ],
            "type": "histogram2dcontour"
           }
          ],
          "mesh3d": [
           {
            "colorbar": {
             "outlinewidth": 0,
             "ticks": ""
            },
            "type": "mesh3d"
           }
          ],
          "parcoords": [
           {
            "line": {
             "colorbar": {
              "outlinewidth": 0,
              "ticks": ""
             }
            },
            "type": "parcoords"
           }
          ],
          "pie": [
           {
            "automargin": true,
            "type": "pie"
           }
          ],
          "scatter": [
           {
            "fillpattern": {
             "fillmode": "overlay",
             "size": 10,
             "solidity": 0.2
            },
            "type": "scatter"
           }
          ],
          "scatter3d": [
           {
            "line": {
             "colorbar": {
              "outlinewidth": 0,
              "ticks": ""
             }
            },
            "marker": {
             "colorbar": {
              "outlinewidth": 0,
              "ticks": ""
             }
            },
            "type": "scatter3d"
           }
          ],
          "scattercarpet": [
           {
            "marker": {
             "colorbar": {
              "outlinewidth": 0,
              "ticks": ""
             }
            },
            "type": "scattercarpet"
           }
          ],
          "scattergeo": [
           {
            "marker": {
             "colorbar": {
              "outlinewidth": 0,
              "ticks": ""
             }
            },
            "type": "scattergeo"
           }
          ],
          "scattergl": [
           {
            "marker": {
             "colorbar": {
              "outlinewidth": 0,
              "ticks": ""
             }
            },
            "type": "scattergl"
           }
          ],
          "scattermap": [
           {
            "marker": {
             "colorbar": {
              "outlinewidth": 0,
              "ticks": ""
             }
            },
            "type": "scattermap"
           }
          ],
          "scattermapbox": [
           {
            "marker": {
             "colorbar": {
              "outlinewidth": 0,
              "ticks": ""
             }
            },
            "type": "scattermapbox"
           }
          ],
          "scatterpolar": [
           {
            "marker": {
             "colorbar": {
              "outlinewidth": 0,
              "ticks": ""
             }
            },
            "type": "scatterpolar"
           }
          ],
          "scatterpolargl": [
           {
            "marker": {
             "colorbar": {
              "outlinewidth": 0,
              "ticks": ""
             }
            },
            "type": "scatterpolargl"
           }
          ],
          "scatterternary": [
           {
            "marker": {
             "colorbar": {
              "outlinewidth": 0,
              "ticks": ""
             }
            },
            "type": "scatterternary"
           }
          ],
          "surface": [
           {
            "colorbar": {
             "outlinewidth": 0,
             "ticks": ""
            },
            "colorscale": [
             [
              0,
              "#0d0887"
             ],
             [
              0.1111111111111111,
              "#46039f"
             ],
             [
              0.2222222222222222,
              "#7201a8"
             ],
             [
              0.3333333333333333,
              "#9c179e"
             ],
             [
              0.4444444444444444,
              "#bd3786"
             ],
             [
              0.5555555555555556,
              "#d8576b"
             ],
             [
              0.6666666666666666,
              "#ed7953"
             ],
             [
              0.7777777777777778,
              "#fb9f3a"
             ],
             [
              0.8888888888888888,
              "#fdca26"
             ],
             [
              1,
              "#f0f921"
             ]
            ],
            "type": "surface"
           }
          ],
          "table": [
           {
            "cells": {
             "fill": {
              "color": "#EBF0F8"
             },
             "line": {
              "color": "white"
             }
            },
            "header": {
             "fill": {
              "color": "#C8D4E3"
             },
             "line": {
              "color": "white"
             }
            },
            "type": "table"
           }
          ]
         },
         "layout": {
          "annotationdefaults": {
           "arrowcolor": "#2a3f5f",
           "arrowhead": 0,
           "arrowwidth": 1
          },
          "autotypenumbers": "strict",
          "coloraxis": {
           "colorbar": {
            "outlinewidth": 0,
            "ticks": ""
           }
          },
          "colorscale": {
           "diverging": [
            [
             0,
             "#8e0152"
            ],
            [
             0.1,
             "#c51b7d"
            ],
            [
             0.2,
             "#de77ae"
            ],
            [
             0.3,
             "#f1b6da"
            ],
            [
             0.4,
             "#fde0ef"
            ],
            [
             0.5,
             "#f7f7f7"
            ],
            [
             0.6,
             "#e6f5d0"
            ],
            [
             0.7,
             "#b8e186"
            ],
            [
             0.8,
             "#7fbc41"
            ],
            [
             0.9,
             "#4d9221"
            ],
            [
             1,
             "#276419"
            ]
           ],
           "sequential": [
            [
             0,
             "#0d0887"
            ],
            [
             0.1111111111111111,
             "#46039f"
            ],
            [
             0.2222222222222222,
             "#7201a8"
            ],
            [
             0.3333333333333333,
             "#9c179e"
            ],
            [
             0.4444444444444444,
             "#bd3786"
            ],
            [
             0.5555555555555556,
             "#d8576b"
            ],
            [
             0.6666666666666666,
             "#ed7953"
            ],
            [
             0.7777777777777778,
             "#fb9f3a"
            ],
            [
             0.8888888888888888,
             "#fdca26"
            ],
            [
             1,
             "#f0f921"
            ]
           ],
           "sequentialminus": [
            [
             0,
             "#0d0887"
            ],
            [
             0.1111111111111111,
             "#46039f"
            ],
            [
             0.2222222222222222,
             "#7201a8"
            ],
            [
             0.3333333333333333,
             "#9c179e"
            ],
            [
             0.4444444444444444,
             "#bd3786"
            ],
            [
             0.5555555555555556,
             "#d8576b"
            ],
            [
             0.6666666666666666,
             "#ed7953"
            ],
            [
             0.7777777777777778,
             "#fb9f3a"
            ],
            [
             0.8888888888888888,
             "#fdca26"
            ],
            [
             1,
             "#f0f921"
            ]
           ]
          },
          "colorway": [
           "#636efa",
           "#EF553B",
           "#00cc96",
           "#ab63fa",
           "#FFA15A",
           "#19d3f3",
           "#FF6692",
           "#B6E880",
           "#FF97FF",
           "#FECB52"
          ],
          "font": {
           "color": "#2a3f5f"
          },
          "geo": {
           "bgcolor": "white",
           "lakecolor": "white",
           "landcolor": "#E5ECF6",
           "showlakes": true,
           "showland": true,
           "subunitcolor": "white"
          },
          "hoverlabel": {
           "align": "left"
          },
          "hovermode": "closest",
          "mapbox": {
           "style": "light"
          },
          "paper_bgcolor": "white",
          "plot_bgcolor": "#E5ECF6",
          "polar": {
           "angularaxis": {
            "gridcolor": "white",
            "linecolor": "white",
            "ticks": ""
           },
           "bgcolor": "#E5ECF6",
           "radialaxis": {
            "gridcolor": "white",
            "linecolor": "white",
            "ticks": ""
           }
          },
          "scene": {
           "xaxis": {
            "backgroundcolor": "#E5ECF6",
            "gridcolor": "white",
            "gridwidth": 2,
            "linecolor": "white",
            "showbackground": true,
            "ticks": "",
            "zerolinecolor": "white"
           },
           "yaxis": {
            "backgroundcolor": "#E5ECF6",
            "gridcolor": "white",
            "gridwidth": 2,
            "linecolor": "white",
            "showbackground": true,
            "ticks": "",
            "zerolinecolor": "white"
           },
           "zaxis": {
            "backgroundcolor": "#E5ECF6",
            "gridcolor": "white",
            "gridwidth": 2,
            "linecolor": "white",
            "showbackground": true,
            "ticks": "",
            "zerolinecolor": "white"
           }
          },
          "shapedefaults": {
           "line": {
            "color": "#2a3f5f"
           }
          },
          "ternary": {
           "aaxis": {
            "gridcolor": "white",
            "linecolor": "white",
            "ticks": ""
           },
           "baxis": {
            "gridcolor": "white",
            "linecolor": "white",
            "ticks": ""
           },
           "bgcolor": "#E5ECF6",
           "caxis": {
            "gridcolor": "white",
            "linecolor": "white",
            "ticks": ""
           }
          },
          "title": {
           "x": 0.05
          },
          "xaxis": {
           "automargin": true,
           "gridcolor": "white",
           "linecolor": "white",
           "ticks": "",
           "title": {
            "standoff": 15
           },
           "zerolinecolor": "white",
           "zerolinewidth": 2
          },
          "yaxis": {
           "automargin": true,
           "gridcolor": "white",
           "linecolor": "white",
           "ticks": "",
           "title": {
            "standoff": 15
           },
           "zerolinecolor": "white",
           "zerolinewidth": 2
          }
         }
        },
        "title": {
         "text": "2D UMAP Embeddings"
        },
        "width": 800
       }
      }
     },
     "metadata": {},
     "output_type": "display_data"
    }
   ],
   "source": [
    "colors = cycle(px.colors.qualitative.Plotly)\n",
    "layout = {\n",
    "    \"title\": \"2D UMAP Embeddings\",\n",
    "    \"width\": 800,\n",
    "    \"height\": 600,\n",
    "    \"plot_bgcolor\": \"rgba(0,0,0,0)\",\n",
    "    \"hovermode\": \"closest\",\n",
    "}\n",
    "\n",
    "fig = go.Figure(layout=layout)\n",
    "for label in papers[\"category\"].unique():\n",
    "    color = next(colors)\n",
    "    subset = papers[papers[\"category\"] == label]\n",
    "    trace = go.Scattergl(\n",
    "        x = subset[\"umap_x\"],\n",
    "        y = subset[\"umap_y\"],\n",
    "        name = label,\n",
    "        mode = \"markers\",\n",
    "        marker = dict(\n",
    "            color = color,\n",
    "            size = 8,\n",
    "            line = dict(width=0.5),\n",
    "            opacity=0.75\n",
    "        ),\n",
    "        text=subset[\"tooltip\"]\n",
    "    )\n",
    "    fig.add_trace(trace)\n",
    "\n",
    "fig.show()"
   ]
  },
  {
   "cell_type": "markdown",
   "id": "0bd7f3b2",
   "metadata": {},
   "source": [
    "We observe that papers from the same category tend to cluster together, indicating that the embeddings capture semantic relationships between papers. However, a couple of papers are not in their expected category, which indicates that they are more similar to papers from other categories.\n",
    "\n",
    "This is for instance the case of this paper which is about *biomolecular modeling* but is clustered with machine learning papers."
   ]
  },
  {
   "cell_type": "code",
   "execution_count": 29,
   "id": "112b84ec",
   "metadata": {},
   "outputs": [
    {
     "name": "stdout",
     "output_type": "stream",
     "text": [
      "{391: {'abstract': 'We present *K-means clustering algorithm and source code '\n",
      "                   'by expanding statistical clustering methods applied in '\n",
      "                   'https://ssrn.com/abstract=2802753 to quantitative finance. '\n",
      "                   '*K-means is statistically deterministic without specifying '\n",
      "                   'initial centers, etc. We apply *K-means to extracting '\n",
      "                   'cancer signatures from genome data without using '\n",
      "                   \"nonnegative matrix factorization (NMF). *K-means' \"\n",
      "                   \"computational cost is a fraction of NMF's. Using 1,389 \"\n",
      "                   'published samples for 14 cancer types, we find that 3 '\n",
      "                   'cancers (liver cancer, lung cancer and renal cell '\n",
      "                   'carcinoma) stand out and do not have cluster-like '\n",
      "                   'structures. Two clusters have especially high '\n",
      "                   'within-cluster correlations with 11 other cancers '\n",
      "                   'indicating common underlying structures. Our approach '\n",
      "                   'opens a novel avenue for studying such structures. '\n",
      "                   '*K-means is universal and can be applied in other fields. '\n",
      "                   'We discuss some potential applications in quantitative '\n",
      "                   'finance.',\n",
      "       'category': 'biomolecular modeling',\n",
      "       'title': '*K-means and Cluster Models for Cancer Signatures'}}\n"
     ]
    }
   ],
   "source": [
    "target_paper = \"K-means and Cluster Models\"\n",
    "pprint(papers\n",
    "    .query(\"title.str.contains(@target_paper, case=False, na=False)\")\n",
    "    .loc[:, [\"title\", \"category\", \"abstract\"]]\n",
    "    .transpose()\n",
    "    .to_dict()\n",
    ")"
   ]
  },
  {
   "cell_type": "markdown",
   "id": "81001668",
   "metadata": {},
   "source": [
    "## Find similar to a target query\n",
    "\n",
    "We will now try to find similar papers to a target query. We will compute the embedding of the target query and then find the nearest neighbors in the embedding space.\n",
    "\n",
    "We will also visualize the nearest neighbors in the embedding space to see how they relate to the target query."
   ]
  },
  {
   "cell_type": "code",
   "execution_count": 30,
   "id": "0371e189",
   "metadata": {},
   "outputs": [],
   "source": [
    "target = \"\"\"\n",
    "We find that long DNA molecules that have binding affinity\n",
    "for the nanostars are preferentially enriched on the interface\n",
    "\"\"\"\n",
    "target_embedding = list(model.embed(target))[0]"
   ]
  },
  {
   "cell_type": "code",
   "execution_count": 31,
   "id": "e244129e",
   "metadata": {},
   "outputs": [],
   "source": [
    "\n",
    "# We calculate the cosine similarity between the target embedding and all papers embeddings.\n",
    "similarities = cosine_similarity(embeddings_array, target_embedding.reshape(1, -1))"
   ]
  },
  {
   "cell_type": "code",
   "execution_count": 32,
   "id": "aca77c31",
   "metadata": {},
   "outputs": [],
   "source": [
    "# We adapt the format of the similarities array add it to the DataFrame. \n",
    "papers[\"similarity_score\"] = similarities.flatten()"
   ]
  },
  {
   "cell_type": "markdown",
   "id": "61dc23fe",
   "metadata": {},
   "source": [
    "### Finding the most similar papers"
   ]
  },
  {
   "cell_type": "code",
   "execution_count": 33,
   "id": "1dcbddb0",
   "metadata": {},
   "outputs": [
    {
     "name": "stdout",
     "output_type": "stream",
     "text": [
      "Top 10 papers most similar to query:\n",
      "--------------------------------------------------\n",
      "\n",
      "We find that long DNA molecules that have binding affinity\n",
      "for the nanostars are preferentially enriched on the interface\n",
      "\n",
      "--------------------------------------------------\n",
      " 1: Controlling the size and adhesion of DNA droplets using surface-active DNA molecules (Score: 0.760)\n",
      " 2: Identification of DNA Bases Using Nanopores Created in Finite-Size Nanoribbons from Graphene, Phosphorene, and Silicene (Score: 0.689)\n",
      " 3: DNA translocation through nanopores with salt gradients: The role of osmotic flow (Score: 0.659)\n",
      " 4: First principles investigation of nanopore sequencing using variable voltage bias on graphene-based nanoribbons (Score: 0.658)\n",
      " 5: Condensation and activator/repressor control of a transcription-regulated biomolecular liquid (Score: 0.657)\n",
      " 6: Quantum Capacitance Modifies Interionic Interactions in Semiconducting Nanopores (Score: 0.642)\n",
      " 7: A zero-depth nanopore capillary for the analysis of translocating biomolecules (Score: 0.639)\n",
      " 8: Anomalous Long-range Hard-wall Repulsion between Polymers in Solvent Mixtures and Its Implication for Biomolecular Condensates (Score: 0.636)\n",
      " 9: DNA Base Detection Using Two-Dimensional Materials Beyond Graphene (Score: 0.636)\n",
      "10: Fabrication and characterization of plasmonic nanopores for Raman detection of biomolecules (Score: 0.631)\n"
     ]
    }
   ],
   "source": [
    "# Sort papers by similarity score in descending order\n",
    "most_similar_papers = papers.sort_values(by=\"similarity_score\", ascending=False)\n",
    "\n",
    "# Display the top 10 most similar papers\n",
    "print(\"Top 10 papers most similar to query:\")\n",
    "print(\"-\"*50)\n",
    "print(target)\n",
    "print(\"-\"*50)\n",
    "for i, (index, row) in enumerate(most_similar_papers.head(10).iterrows(), 1):\n",
    "    print(f\"{i:2d}: {row['title']} (Score: {row['similarity_score']:.3f})\")"
   ]
  },
  {
   "cell_type": "markdown",
   "id": "6134e0a1",
   "metadata": {},
   "source": [
    "### Visualizing similarity for all papers"
   ]
  },
  {
   "cell_type": "code",
   "execution_count": 34,
   "id": "99082277",
   "metadata": {},
   "outputs": [
    {
     "data": {
      "application/vnd.plotly.v1+json": {
       "config": {
        "plotlyServerURL": "https://plot.ly"
       },
       "data": [
        {
         "marker": {
          "color": {
           "bdata": "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",
           "dtype": "f4"
          },
          "colorbar": {
           "title": {
            "text": "Similarity Score"
           }
          },
          "colorscale": [
           [
            0,
            "#440154"
           ],
           [
            0.1111111111111111,
            "#482878"
           ],
           [
            0.2222222222222222,
            "#3e4989"
           ],
           [
            0.3333333333333333,
            "#31688e"
           ],
           [
            0.4444444444444444,
            "#26828e"
           ],
           [
            0.5555555555555556,
            "#1f9e89"
           ],
           [
            0.6666666666666666,
            "#35b779"
           ],
           [
            0.7777777777777778,
            "#6ece58"
           ],
           [
            0.8888888888888888,
            "#b5de2b"
           ],
           [
            1,
            "#fde725"
           ]
          ],
          "line": {
           "width": 0.5
          },
          "opacity": 0.5,
          "size": 8
         },
         "mode": "markers",
         "text": [
          "<b>Title:</b> Ionic Current Rectification in Nanopores: Effects of Nanopore Material, Electrolyte and Surface Treatment<br><b>Category:</b> nanoporous materials<br>",
          "<b>Title:</b> EnumerWating Stable Nanopores in Graphene and their Geometrical Properties Using the Combinatorics of Hexagonal Lattices<br><b>Category:</b> nanoporous materials<br>",
          "<b>Title:</b> Effect of anodization conditions on the synthesis of TiO2 nanopores<br><b>Category:</b> nanoporous materials<br>",
          "<b>Title:</b> Water Assisted Proton Transport in Confined Nanochannels<br><b>Category:</b> nanoporous materials<br>",
          "<b>Title:</b> Atomic Engineering of Triangular Nanopores in Monolayer hBN: A Decoupled Seeding and Growth Approach<br><b>Category:</b> nanoporous materials<br>",
          "<b>Title:</b> Electrochemical reaction in single layer MoS2: nanopores opened atom by atom<br><b>Category:</b> nanoporous materials<br>",
          "<b>Title:</b> Nanoporous Copper-Nickel - Macroscopic bodies of a strong and deformable nanoporous base metal by dealloying<br><b>Category:</b> nanoporous materials<br>",
          "<b>Title:</b> Optical Properties of Nanoporous Al2O3 Matrices with Ammonium Dihydrogen Phosphate Crystals in Nanopores<br><b>Category:</b> nanoporous materials<br>",
          "<b>Title:</b> A New Class of Materials Based on Nanoporous High Entropy Alloys with Outstanding Properties<br><b>Category:</b> nanoporous materials<br>",
          "<b>Title:</b> Pore and Ligament Size Control, Thermal Stability and Mechanical Properties of Nanoporous Single Crystals of Gold<br><b>Category:</b> nanoporous materials<br>",
          "<b>Title:</b> Surface Engineering of Synthetic Nanopores by Atomic Layer Deposition and Their Applications<br><b>Category:</b> nanoporous materials<br>",
          "<b>Title:</b> A zero-depth nanopore capillary for the analysis of translocating biomolecules<br><b>Category:</b> nanoporous materials<br>",
          "<b>Title:</b> Stiffening of nanoporous Au as a result of dislocation density increase upon characteristic length reduction<br><b>Category:</b> nanoporous materials<br>",
          "<b>Title:</b> Enhanced current rectification in graphene nanoribbons: Effects of geometries and orientations of nanopores<br><b>Category:</b> nanoporous materials<br>",
          "<b>Title:</b> Nanopore creation in graphene at the nanoscale for water desalination<br><b>Category:</b> nanoporous materials<br>",
          "<b>Title:</b> Three-Dimensional Nanoporous Graphene Substrate for Surface-Enhanced Raman Scattering<br><b>Category:</b> nanoporous materials<br>",
          "<b>Title:</b> What keeps nanopores boiling<br><b>Category:</b> nanoporous materials<br>",
          "<b>Title:</b> Fabrication and characterization of plasmonic nanopores for Raman detection of biomolecules<br><b>Category:</b> nanoporous materials<br>",
          "<b>Title:</b> Characterization of ion track etched conical nanopores in thermal and PECVD SiO$_{2}$ using small angle X-ray scattering<br><b>Category:</b> nanoporous materials<br>",
          "<b>Title:</b> Facile and Ultraclean Graphene-on-Glass Nanopores by Controlled Electrochemical Etching<br><b>Category:</b> nanoporous materials<br>",
          "<b>Title:</b> High-throughput computational screening of nanoporous materials in targeted applications<br><b>Category:</b> nanoporous materials<br>",
          "<b>Title:</b> Biohybrid membrane formation by directed insertion of Aquaporin into a solid-state nanopore<br><b>Category:</b> nanoporous materials<br>",
          "<b>Title:</b> Diffusion controlled oriented growth of a nano porous material by the Kirkendall effect<br><b>Category:</b> nanoporous materials<br>",
          "<b>Title:</b> Molecular Dynamics Simulation of Nanoporous Tungsten<br><b>Category:</b> nanoporous materials<br>",
          "<b>Title:</b> Enhancement of charged macromolecule capture by nanopores in a salt gradient<br><b>Category:</b> nanoporous materials<br>",
          "<b>Title:</b> Atomistic Simulation of Compression Wave Propagation in Nanoporous Materials<br><b>Category:</b> nanoporous materials<br>",
          "<b>Title:</b> Thermoelectric Studies of Nanoporous Thin Films with Adjusted Pore-Edge Charges<br><b>Category:</b> nanoporous materials<br>",
          "<b>Title:</b> Ion and water transport in charge-modified graphene nanopores<br><b>Category:</b> nanoporous materials<br>",
          "<b>Title:</b> Deep Reinforcement Learning Optimizes Graphene Nanopores for Efficient Desalination<br><b>Category:</b> nanoporous materials<br>",
          "<b>Title:</b> Molecular Dynamics Simulations of Water Anchored in Multi-Layered Nanoporous MoS$_2$ Membranes: Implications for Desalination<br><b>Category:</b> nanoporous materials<br>",
          "<b>Title:</b> Topological changes and deformation mechanisms of nanoporous Ta under compression<br><b>Category:</b> nanoporous materials<br>",
          "<b>Title:</b> Boosting infrared energy transfer in 3D nanoporous gold antennas<br><b>Category:</b> nanoporous materials<br>",
          "<b>Title:</b> Coupled electrokinetic transport through a nanoporous membrane: effects of pore interactions<br><b>Category:</b> nanoporous materials<br>",
          "<b>Title:</b> Control of particle trapping in a magnetoplasmonic nanopore<br><b>Category:</b> nanoporous materials<br>",
          "<b>Title:</b> How Grain Boundaries and Interfacial Electrostatic Interactions Modulate Water Desalination Via Nanoporous Hexagonal Boron Nitride<br><b>Category:</b> nanoporous materials<br>",
          "<b>Title:</b> Temperature-dependent thermal conductivity in nanoporous materials studied by the Boltzmann Transport Equation<br><b>Category:</b> nanoporous materials<br>",
          "<b>Title:</b> Thermal Anisotropy Enhanced by Phonon Size Effects in Nanoporous Materials<br><b>Category:</b> nanoporous materials<br>",
          "<b>Title:</b> Quantum fluids in nanoporous media - effects of the confinement and fractal geometry<br><b>Category:</b> nanoporous materials<br>",
          "<b>Title:</b> Embedding a carbon nanotube across the diameter of a solid state nanopore<br><b>Category:</b> nanoporous materials<br>",
          "<b>Title:</b> Inelastic electron tunneling spectroscopy of nanoporous gold films<br><b>Category:</b> nanoporous materials<br>",
          "<b>Title:</b> Tuning electrical properties of silicon dioxide through intrinsic nano-patterns<br><b>Category:</b> nanoporous materials<br>",
          "<b>Title:</b> Gassmann Theory Applies to Nanoporous Media<br><b>Category:</b> nanoporous materials<br>",
          "<b>Title:</b> Nanoporous alumina microtubes for metamaterial and plasmonic applications<br><b>Category:</b> nanoporous materials<br>",
          "<b>Title:</b> Nanopore fabrication and characterization by helium ion microscopy<br><b>Category:</b> nanoporous materials<br>",
          "<b>Title:</b> First principles investigation of nanopore sequencing using variable voltage bias on graphene-based nanoribbons<br><b>Category:</b> nanoporous materials<br>",
          "<b>Title:</b> Controlled healing of graphene nanopores<br><b>Category:</b> nanoporous materials<br>",
          "<b>Title:</b> Detection of Nanopores with the Scanning Ion Conductance Microscopy: A Simulation Study<br><b>Category:</b> nanoporous materials<br>",
          "<b>Title:</b> Soft matter in hard confinement: phase transition thermodynamics, structure, texture, diffusion and flow in nanoporous media - topical review<br><b>Category:</b> nanoporous materials<br>",
          "<b>Title:</b> Hybrid plasmonic nanostructures based on controlled integration of MoS2 flakes on metallic nanoholes<br><b>Category:</b> nanoporous materials<br>",
          "<b>Title:</b> Water permeability in nanopores: when size, shape, and charge matter<br><b>Category:</b> nanoporous materials<br>",
          "<b>Title:</b> On the origin of the anomalous compliance of dealloying-derived nanoporous gold<br><b>Category:</b> nanoporous materials<br>",
          "<b>Title:</b> Thermomechanical Insight into the Stability of Nanoporous Graphene Membranes<br><b>Category:</b> nanoporous materials<br>",
          "<b>Title:</b> Confining Eutectic Gallium Indium (eGaIn) in Expired Artificial Kidneys to Unveil Nanoporous Conductive Wires<br><b>Category:</b> nanoporous materials<br>",
          "<b>Title:</b> A Method for Fabricating CMOS Back-End-of-Line-Compatible Solid-State Nanopore Devices<br><b>Category:</b> nanoporous materials<br>",
          "<b>Title:</b> Nanoporous ionic organic networks: from synthesis to materials applications<br><b>Category:</b> nanoporous materials<br>",
          "<b>Title:</b> 3D Nanoporous Antennas for high sensitivity IR plasmonic sensing<br><b>Category:</b> nanoporous materials<br>",
          "<b>Title:</b> Size dependent photoemission study by electrochemical coarsening of nanoporous gold<br><b>Category:</b> nanoporous materials<br>",
          "<b>Title:</b> Large-scale molecular dynamics investigation of geometrical features in nanoporous Si<br><b>Category:</b> nanoporous materials<br>",
          "<b>Title:</b> Quantum Physisorption of Methane and Carbon Dioxide within Nanoporous Materials<br><b>Category:</b> nanoporous materials<br>",
          "<b>Title:</b> High-throughput nanopore fabrication and classification using FIB irradiation and automated pore edge analysis<br><b>Category:</b> nanoporous materials<br>",
          "<b>Title:</b> Ultrasonic Study of Water Adsorbed in Nanoporous Glasses<br><b>Category:</b> nanoporous materials<br>",
          "<b>Title:</b> Toward phonon-boundary engineering in nanoporous materials<br><b>Category:</b> nanoporous materials<br>",
          "<b>Title:</b> Fabrication of Atomically Precise Nanopores in Hexagonal Boron Nitride<br><b>Category:</b> nanoporous materials<br>",
          "<b>Title:</b> Probing Patchy Saturation of Fluids in Nanoporous Media by Ultrasound<br><b>Category:</b> nanoporous materials<br>",
          "<b>Title:</b> Heat current anticorrelation effects leading to thermal conductivity reduction in nanoporous Si<br><b>Category:</b> nanoporous materials<br>",
          "<b>Title:</b> Influence of the microstructure on the mechanical behavior of nanoporous materials under large strains<br><b>Category:</b> nanoporous materials<br>",
          "<b>Title:</b> Revealing Correlation of Valence State with Nanoporous Structure in Cobalt Catalyst Nanoparticles by in Situ Environmental TEM<br><b>Category:</b> nanoporous materials<br>",
          "<b>Title:</b> Nanoporous monolithic microsphere arrays have anti-adhesive properties independent of humidity<br><b>Category:</b> nanoporous materials<br>",
          "<b>Title:</b> Confining Metal-Halide Perovskites in Nanoporous Thin Films<br><b>Category:</b> nanoporous materials<br>",
          "<b>Title:</b> Nanoporous compound materials for optical applications - microlasers and microresonators<br><b>Category:</b> nanoporous materials<br>",
          "<b>Title:</b> DNA Base Detection Using Two-Dimensional Materials Beyond Graphene<br><b>Category:</b> nanoporous materials<br>",
          "<b>Title:</b> Anisotropic coalescence criterion for nanoporous materials<br><b>Category:</b> nanoporous materials<br>",
          "<b>Title:</b> Edge currents and nanopore arrays in zigzag and chiral graphene nanoribbons as a route toward high-$ZT$ thermoelectrics<br><b>Category:</b> nanoporous materials<br>",
          "<b>Title:</b> Switchable Imbibition in Nanoporous Gold<br><b>Category:</b> nanoporous materials<br>",
          "<b>Title:</b> Hydraulic Transport Across Hydrophilic and Hydrophobic Nanopores: Flow Experiments with Water and n-Hexane<br><b>Category:</b> nanoporous materials<br>",
          "<b>Title:</b> Confinement Effects on an Electron Transfer Reaction in Nanoporous Carbon Electrodes<br><b>Category:</b> nanoporous materials<br>",
          "<b>Title:</b> Pump-probe Spectroscopy Study of Ultrafast Temperature Dynamics in Nanoporous Gold<br><b>Category:</b> nanoporous materials<br>",
          "<b>Title:</b> First-principles study on controlling energy gap of graphene using hybrid armchair-zigzag nanostructures<br><b>Category:</b> nanoporous materials<br>",
          "<b>Title:</b> Identification of DNA Bases Using Nanopores Created in Finite-Size Nanoribbons from Graphene, Phosphorene, and Silicene<br><b>Category:</b> nanoporous materials<br>",
          "<b>Title:</b> Neutral but Impactful: Gallium Cluster-Induced Nanopores from Beam-Blanked Gallium Ion Sources<br><b>Category:</b> nanoporous materials<br>",
          "<b>Title:</b> How nanoporous silicon-polypyrrole hybrids flex their muscles in aqueous electrolytes: In operando high-resolution x-ray diffraction and electron tomography-based micromechanical computer simulations<br><b>Category:</b> nanoporous materials<br>",
          "<b>Title:</b> A template method for carbon nanotube production from sugar water<br><b>Category:</b> nanoporous materials<br>",
          "<b>Title:</b> Nanoporous Metals: From Plasmonic Properties to Applications in Enhanced Spectroscopy and Photocatalysis<br><b>Category:</b> nanoporous materials<br>",
          "<b>Title:</b> Quantum Capacitance Modifies Interionic Interactions in Semiconducting Nanopores<br><b>Category:</b> nanoporous materials<br>",
          "<b>Title:</b> Monte Carlo simulations for phonon transport in silicon nanomaterials<br><b>Category:</b> nanoporous materials<br>",
          "<b>Title:</b> Controlled fabrication of freestanding monolayer SiC by electron irradiation<br><b>Category:</b> nanoporous materials<br>",
          "<b>Title:</b> Synthesis and Stability Kinetics of Nanoporous TaC Derived from Ta Precursors<br><b>Category:</b> nanoporous materials<br>",
          "<b>Title:</b> Charge Transport in one Dimension:Dissipative and Non-Dissipative Space-Charge Limited Currents<br><b>Category:</b> nanoporous materials<br>",
          "<b>Title:</b> Ultra-Thin, High-Lifetime Silicon Nitride Membranes for Nanopore Sensing<br><b>Category:</b> nanoporous materials<br>",
          "<b>Title:</b> Evaporation-driven electrokinetic energy conversion: critical review, parametric analysis and perspectives<br><b>Category:</b> nanoporous materials<br>",
          "<b>Title:</b> Dry synthesis of bi-layer nanoporous metal films as plasmonic metamaterial<br><b>Category:</b> nanoporous materials<br>",
          "<b>Title:</b> Theory and Modeling of Transport for Simple Fluids in Nanoporous Materials: From Microscopic to Coarse-Grained Descriptions<br><b>Category:</b> nanoporous materials<br>",
          "<b>Title:</b> Wetting of nanopores probed with pressure<br><b>Category:</b> nanoporous materials<br>",
          "<b>Title:</b> Galvanic Replacement Reaction to prepare nanoporous Aluminum for UV plasmonics<br><b>Category:</b> nanoporous materials<br>",
          "<b>Title:</b> Modeling of Self-Healing Polymer Composites Reinforced with Nanoporous Glass Fibers<br><b>Category:</b> nanoporous materials<br>",
          "<b>Title:</b> DNA translocation through nanopores with salt gradients: The role of osmotic flow<br><b>Category:</b> nanoporous materials<br>",
          "<b>Title:</b> Electronic Structures of Porous Nanocarbons<br><b>Category:</b> nanoporous materials<br>",
          "<b>Title:</b> Electric Properties of Dirac Fermions Captured into 3D Nanoporous Graphene Networks<br><b>Category:</b> nanoporous materials<br>",
          "<b>Title:</b> Wafer-Scale Electroactive Nanoporous Silicon: Large and Fully Reversible Electrochemo-Mechanical Actuation in Aqueous Electrolytes<br><b>Category:</b> nanoporous materials<br>",
          "<b>Title:</b> Transferable and extensible machine learning derived atomic charges for modeling hybrid nanoporous materials<br><b>Category:</b> nanoporous materials<br>",
          "<b>Title:</b> Lecture Notes: Optimization for Machine Learning<br><b>Category:</b> machine learning<br>",
          "<b>Title:</b> An Optimal Control View of Adversarial Machine Learning<br><b>Category:</b> machine learning<br>",
          "<b>Title:</b> Minimax deviation strategies for machine learning and recognition with short learning samples<br><b>Category:</b> machine learning<br>",
          "<b>Title:</b> Machine Learning for Clinical Predictive Analytics<br><b>Category:</b> machine learning<br>",
          "<b>Title:</b> Towards Modular Machine Learning Solution Development: Benefits and Trade-offs<br><b>Category:</b> machine learning<br>",
          "<b>Title:</b> Introduction to Machine Learning: Class Notes 67577<br><b>Category:</b> machine learning<br>",
          "<b>Title:</b> The Tribes of Machine Learning and the Realm of Computer Architecture<br><b>Category:</b> machine learning<br>",
          "<b>Title:</b> A Machine Learning Tutorial for Operational Meteorology, Part I: Traditional Machine Learning<br><b>Category:</b> machine learning<br>",
          "<b>Title:</b> Position Paper: Towards Transparent Machine Learning<br><b>Category:</b> machine learning<br>",
          "<b>Title:</b> Understanding Bias in Machine Learning<br><b>Category:</b> machine learning<br>",
          "<b>Title:</b> A Unified Analytical Framework for Trustable Machine Learning and Automation Running with Blockchain<br><b>Category:</b> machine learning<br>",
          "<b>Title:</b> MLBench: How Good Are Machine Learning Clouds for Binary Classification Tasks on Structured Data?<br><b>Category:</b> machine learning<br>",
          "<b>Title:</b> Data Pricing in Machine Learning Pipelines<br><b>Category:</b> machine learning<br>",
          "<b>Title:</b> Techniques for Automated Machine Learning<br><b>Category:</b> machine learning<br>",
          "<b>Title:</b> The Landscape of Modern Machine Learning: A Review of Machine, Distributed and Federated Learning<br><b>Category:</b> machine learning<br>",
          "<b>Title:</b> Parallelization of Machine Learning Algorithms Respectively on Single Machine and Spark<br><b>Category:</b> machine learning<br>",
          "<b>Title:</b> AutoCompete: A Framework for Machine Learning Competition<br><b>Category:</b> machine learning<br>",
          "<b>Title:</b> Joint Training of Deep Boltzmann Machines<br><b>Category:</b> machine learning<br>",
          "<b>Title:</b> Proceedings of the 2016 ICML Workshop on #Data4Good: Machine Learning in Social Good Applications<br><b>Category:</b> machine learning<br>",
          "<b>Title:</b> Mathematical Perspective of Machine Learning<br><b>Category:</b> machine learning<br>",
          "<b>Title:</b> Private Machine Learning via Randomised Response<br><b>Category:</b> machine learning<br>",
          "<b>Title:</b> Ten-year Survival Prediction for Breast Cancer Patients<br><b>Category:</b> machine learning<br>",
          "<b>Title:</b> A Survey of Optimization Methods from a Machine Learning Perspective<br><b>Category:</b> machine learning<br>",
          "<b>Title:</b> Tuning Learning Rates with the Cumulative-Learning Constant<br><b>Category:</b> machine learning<br>",
          "<b>Title:</b> When Machine Learning Meets Privacy: A Survey and Outlook<br><b>Category:</b> machine learning<br>",
          "<b>Title:</b> Augmented Q Imitation Learning (AQIL)<br><b>Category:</b> machine learning<br>",
          "<b>Title:</b> Probabilistic Machine Learning for Healthcare<br><b>Category:</b> machine learning<br>",
          "<b>Title:</b> Evaluation Challenges for Geospatial ML<br><b>Category:</b> machine learning<br>",
          "<b>Title:</b> A comprehensive review of Quantum Machine Learning: from NISQ to Fault Tolerance<br><b>Category:</b> machine learning<br>",
          "<b>Title:</b> Towards CRISP-ML(Q): A Machine Learning Process Model with Quality Assurance Methodology<br><b>Category:</b> machine learning<br>",
          "<b>Title:</b> Temporal-related Convolutional-Restricted-Boltzmann-Machine capable of learning relational order via reinforcement learning procedure?<br><b>Category:</b> machine learning<br>",
          "<b>Title:</b> Spatial Transfer Learning with Simple MLP<br><b>Category:</b> machine learning<br>",
          "<b>Title:</b> Proceedings of the 29th International Conference on Machine Learning (ICML-12)<br><b>Category:</b> machine learning<br>",
          "<b>Title:</b> Distributed Multi-Task Learning with Shared Representation<br><b>Category:</b> machine learning<br>",
          "<b>Title:</b> Components of Machine Learning: Binding Bits and FLOPS<br><b>Category:</b> machine learning<br>",
          "<b>Title:</b> Impact of Legal Requirements on Explainability in Machine Learning<br><b>Category:</b> machine learning<br>",
          "<b>Title:</b> Machine Learning Potential Repository<br><b>Category:</b> machine learning<br>",
          "<b>Title:</b> Quantum memristors for neuromorphic quantum machine learning<br><b>Category:</b> machine learning<br>",
          "<b>Title:</b> metric-learn: Metric Learning Algorithms in Python<br><b>Category:</b> machine learning<br>",
          "<b>Title:</b> Theoretical Models of Learning to Learn<br><b>Category:</b> machine learning<br>",
          "<b>Title:</b> On-the-Fly Learning in a Perpetual Learning Machine<br><b>Category:</b> machine learning<br>",
          "<b>Title:</b> An Aggregate and Iterative Disaggregate Algorithm with Proven Optimality in Machine Learning<br><b>Category:</b> machine learning<br>",
          "<b>Title:</b> Human-in-the-loop Machine Learning: A Macro-Micro Perspective<br><b>Category:</b> machine learning<br>",
          "<b>Title:</b> Can Machines Learn the True Probabilities?<br><b>Category:</b> machine learning<br>",
          "<b>Title:</b> Scientific Machine Learning Benchmarks<br><b>Category:</b> machine learning<br>",
          "<b>Title:</b> Some Insights into Lifelong Reinforcement Learning Systems<br><b>Category:</b> machine learning<br>",
          "<b>Title:</b> Bayesian Optimization for Machine Learning : A Practical Guidebook<br><b>Category:</b> machine learning<br>",
          "<b>Title:</b> Towards A Rigorous Science of Interpretable Machine Learning<br><b>Category:</b> machine learning<br>",
          "<b>Title:</b> Infrastructure for Usable Machine Learning: The Stanford DAWN Project<br><b>Category:</b> machine learning<br>",
          "<b>Title:</b> Techniques for Interpretable Machine Learning<br><b>Category:</b> machine learning<br>",
          "<b>Title:</b> Solving machine learning optimization problems using quantum computers<br><b>Category:</b> machine learning<br>",
          "<b>Title:</b> Lale: Consistent Automated Machine Learning<br><b>Category:</b> machine learning<br>",
          "<b>Title:</b> Differential Replication in Machine Learning<br><b>Category:</b> machine learning<br>",
          "<b>Title:</b> Teaching Uncertainty Quantification in Machine Learning through Use Cases<br><b>Category:</b> machine learning<br>",
          "<b>Title:</b> mlr3proba: An R Package for Machine Learning in Survival Analysis<br><b>Category:</b> machine learning<br>",
          "<b>Title:</b> Introduction to Machine Learning for Physicians: A Survival Guide for Data Deluge<br><b>Category:</b> machine learning<br>",
          "<b>Title:</b> Machine learning-assisted close-set X-ray diffraction phase identification of transition metals<br><b>Category:</b> machine learning<br>",
          "<b>Title:</b> Insights From Insurance for Fair Machine Learning<br><b>Category:</b> machine learning<br>",
          "<b>Title:</b> Quantum Dynamics of Machine Learning<br><b>Category:</b> machine learning<br>",
          "<b>Title:</b> On the Conditions for Domain Stability for Machine Learning: a Mathematical Approach<br><b>Category:</b> machine learning<br>",
          "<b>Title:</b> Distributed Multitask Learning<br><b>Category:</b> machine learning<br>",
          "<b>Title:</b> Distributed Stochastic Multi-Task Learning with Graph Regularization<br><b>Category:</b> machine learning<br>",
          "<b>Title:</b> Category Theory in Machine Learning<br><b>Category:</b> machine learning<br>",
          "<b>Title:</b> Energy-Harvesting Distributed Machine Learning<br><b>Category:</b> machine learning<br>",
          "<b>Title:</b> Representation Learning for Electronic Health Records<br><b>Category:</b> machine learning<br>",
          "<b>Title:</b> Meta-Learning: A Survey<br><b>Category:</b> machine learning<br>",
          "<b>Title:</b> Introduction to intelligent computing unit 1<br><b>Category:</b> machine learning<br>",
          "<b>Title:</b> In-Machine-Learning Database: Reimagining Deep Learning with Old-School SQL<br><b>Category:</b> machine learning<br>",
          "<b>Title:</b> Machine Learning Interpretability: A Science rather than a tool<br><b>Category:</b> machine learning<br>",
          "<b>Title:</b> Automated Machine Learning on Graphs: A Survey<br><b>Category:</b> machine learning<br>",
          "<b>Title:</b> Can Machine Learning be Moral?<br><b>Category:</b> machine learning<br>",
          "<b>Title:</b> Compressive Classification (Machine Learning without learning)<br><b>Category:</b> machine learning<br>",
          "<b>Title:</b> A Survey on Resilient Machine Learning<br><b>Category:</b> machine learning<br>",
          "<b>Title:</b> An Introduction to MM Algorithms for Machine Learning and Statistical<br><b>Category:</b> machine learning<br>",
          "<b>Title:</b> Some Requests for Machine Learning Research from the East African Tech Scene<br><b>Category:</b> machine learning<br>",
          "<b>Title:</b> Machine learning and deep learning<br><b>Category:</b> machine learning<br>",
          "<b>Title:</b> Application of Machine Learning Techniques in Aquaculture<br><b>Category:</b> machine learning<br>",
          "<b>Title:</b> TF.Learn: TensorFlow's High-level Module for Distributed Machine Learning<br><b>Category:</b> machine learning<br>",
          "<b>Title:</b> Machine Learning as Ecology<br><b>Category:</b> machine learning<br>",
          "<b>Title:</b> Using Deep Learning and Machine Learning to Detect Epileptic Seizure with Electroencephalography (EEG) Data<br><b>Category:</b> machine learning<br>",
          "<b>Title:</b> SELM: Software Engineering of Machine Learning Models<br><b>Category:</b> machine learning<br>",
          "<b>Title:</b> Machine Learning in Network Security Using KNIME Analytics<br><b>Category:</b> machine learning<br>",
          "<b>Title:</b> Challenges and Opportunities in Quantum Machine Learning<br><b>Category:</b> machine learning<br>",
          "<b>Title:</b> A Theory of Machine Learning<br><b>Category:</b> machine learning<br>",
          "<b>Title:</b> Learning Moore Machines from Input-Output Traces<br><b>Category:</b> machine learning<br>",
          "<b>Title:</b> How Developers Iterate on Machine Learning Workflows -- A Survey of the Applied Machine Learning Literature<br><b>Category:</b> machine learning<br>",
          "<b>Title:</b> Practical Solutions for Machine Learning Safety in Autonomous Vehicles<br><b>Category:</b> machine learning<br>",
          "<b>Title:</b> Julia Language in Machine Learning: Algorithms, Applications, and Open Issues<br><b>Category:</b> machine learning<br>",
          "<b>Title:</b> Modeling Generalization in Machine Learning: A Methodological and Computational Study<br><b>Category:</b> machine learning<br>",
          "<b>Title:</b> Mental Models of Adversarial Machine Learning<br><b>Category:</b> machine learning<br>",
          "<b>Title:</b> Applying Machine Learning to Life Insurance: some knowledge sharing to master it<br><b>Category:</b> machine learning<br>",
          "<b>Title:</b> Machine learning and domain decomposition methods -- a survey<br><b>Category:</b> machine learning<br>",
          "<b>Title:</b> Beyond Model Interpretability: Socio-Structural Explanations in Machine Learning<br><b>Category:</b> machine learning<br>",
          "<b>Title:</b> Aspects of Artificial Intelligence: Transforming Machine Learning Systems Naturally<br><b>Category:</b> machine learning<br>",
          "<b>Title:</b> Learning Theory and Support Vector Machines - a primer<br><b>Category:</b> machine learning<br>",
          "<b>Title:</b> Financial Time Series Data Processing for Machine Learning<br><b>Category:</b> machine learning<br>",
          "<b>Title:</b> Machine Learning using Stata/Python<br><b>Category:</b> machine learning<br>",
          "<b>Title:</b> Pen and Paper Exercises in Machine Learning<br><b>Category:</b> machine learning<br>",
          "<b>Title:</b> Classic machine learning methods<br><b>Category:</b> machine learning<br>",
          "<b>Title:</b> Information Theory and its Relation to Machine Learning<br><b>Category:</b> machine learning<br>",
          "<b>Title:</b> The Rise of Quantum Internet Computing<br><b>Category:</b> quantum computing<br>",
          "<b>Title:</b> Unconventional Quantum Computing Devices<br><b>Category:</b> quantum computing<br>",
          "<b>Title:</b> Geometrical perspective on quantum states and quantum computation<br><b>Category:</b> quantum computing<br>",
          "<b>Title:</b> Quantum Computation and Quantum Information<br><b>Category:</b> quantum computing<br>",
          "<b>Title:</b> Probabilistic Process Algebra to Unifying Quantum and Classical Computing in Closed Systems<br><b>Category:</b> quantum computing<br>",
          "<b>Title:</b> Google Quantum AI's Quest for Error-Corrected Quantum Computers<br><b>Category:</b> quantum computing<br>",
          "<b>Title:</b> Optimal Stochastic Resource Allocation for Distributed Quantum Computing<br><b>Category:</b> quantum computing<br>",
          "<b>Title:</b> Quantum Computational Complexity<br><b>Category:</b> quantum computing<br>",
          "<b>Title:</b> Quantum Computers and Quantum Computer Languages: Quantum Assembly Language and Quantum C Language<br><b>Category:</b> quantum computing<br>",
          "<b>Title:</b> IBM Quantum Computers: Evolution, Performance, and Future Directions<br><b>Category:</b> quantum computing<br>",
          "<b>Title:</b> Duality quantum computer and the efficient quantum simulations<br><b>Category:</b> quantum computing<br>",
          "<b>Title:</b> Simulations of Many-Body Quantum Systems by a Quantum Computer<br><b>Category:</b> quantum computing<br>",
          "<b>Title:</b> A bird's eye view of quantum computers<br><b>Category:</b> quantum computing<br>",
          "<b>Title:</b> A Note on Bulk Quantum Turing Machine<br><b>Category:</b> quantum computing<br>",
          "<b>Title:</b> Pulse controlled noise suppressed quantum computation<br><b>Category:</b> quantum computing<br>",
          "<b>Title:</b> From Distributed Quantum Computing to Quantum Internet Computing: an Overview<br><b>Category:</b> quantum computing<br>",
          "<b>Title:</b> Quantum Cybernetics and Complex Quantum Systems Science - A Quantum Connectionist Exploration<br><b>Category:</b> quantum computing<br>",
          "<b>Title:</b> Quantum Computing for Multi Period Asset Allocation<br><b>Category:</b> quantum computing<br>",
          "<b>Title:</b> An Introduction to Quantum Computing<br><b>Category:</b> quantum computing<br>",
          "<b>Title:</b> Quantum Computing via The Bethe Ansatz<br><b>Category:</b> quantum computing<br>",
          "<b>Title:</b> How to Compute Using Quantum Walks<br><b>Category:</b> quantum computing<br>",
          "<b>Title:</b> A Uniform Quantum Computing Model Based on Virtual Quantum Processors<br><b>Category:</b> quantum computing<br>",
          "<b>Title:</b> Quantum computer: an appliance for playing market games<br><b>Category:</b> quantum computing<br>",
          "<b>Title:</b> Integrable Quantum Computation<br><b>Category:</b> quantum computing<br>",
          "<b>Title:</b> Quantum Computational Supremacy<br><b>Category:</b> quantum computing<br>",
          "<b>Title:</b> Quantum Computation<br><b>Category:</b> quantum computing<br>",
          "<b>Title:</b> Post-Hartree-Fock method in Quantum Chemistry for Quantum Computer<br><b>Category:</b> quantum computing<br>",
          "<b>Title:</b> Covert Quantum Internet<br><b>Category:</b> quantum computing<br>",
          "<b>Title:</b> Phase Information in Quantum Oracle Computing<br><b>Category:</b> quantum computing<br>",
          "<b>Title:</b> Photonic Quantum Computing<br><b>Category:</b> quantum computing<br>",
          "<b>Title:</b> Photonic Quantum Computers<br><b>Category:</b> quantum computing<br>",
          "<b>Title:</b> Quantum Computing in Transport Science: A Review<br><b>Category:</b> quantum computing<br>",
          "<b>Title:</b> Quantum computer and its quasiclassical model<br><b>Category:</b> quantum computing<br>",
          "<b>Title:</b> Research on quantum compilation of neutral atom quantum computing platform<br><b>Category:</b> quantum computing<br>",
          "<b>Title:</b> Quantum computer for dummies (in Russian)<br><b>Category:</b> quantum computing<br>",
          "<b>Title:</b> Multiparty Delegated Quantum Computing<br><b>Category:</b> quantum computing<br>",
          "<b>Title:</b> What is a quantum computer, and how do we build one?<br><b>Category:</b> quantum computing<br>",
          "<b>Title:</b> Fault-Tolerant Postselected Quantum Computation: Threshold Analysis<br><b>Category:</b> quantum computing<br>",
          "<b>Title:</b> Why now is the right time to study quantum computing<br><b>Category:</b> quantum computing<br>",
          "<b>Title:</b> Simulation of Two-Qubit Grover Algorithm in MBQC with Universal Blind Quantum Computation<br><b>Category:</b> quantum computing<br>",
          "<b>Title:</b> Continuous Variable Quantum Algorithms: an Introduction<br><b>Category:</b> quantum computing<br>",
          "<b>Title:</b> Quantum computing: principles and applications<br><b>Category:</b> quantum computing<br>",
          "<b>Title:</b> Quantum algorithmic information theory<br><b>Category:</b> quantum computing<br>",
          "<b>Title:</b> Quantum reservoir computing: a reservoir approach toward quantum machine learning on near-term quantum devices<br><b>Category:</b> quantum computing<br>",
          "<b>Title:</b> Efficient Quantum Transforms<br><b>Category:</b> quantum computing<br>",
          "<b>Title:</b> Exploring Airline Gate-Scheduling Optimization Using Quantum Computers<br><b>Category:</b> quantum computing<br>",
          "<b>Title:</b> Quantum Chaos & Quantum Computers<br><b>Category:</b> quantum computing<br>",
          "<b>Title:</b> Review on Quantum Walk Computing: Theory, Implementation, and Application<br><b>Category:</b> quantum computing<br>",
          "<b>Title:</b> Quantum memristors for neuromorphic quantum machine learning<br><b>Category:</b> quantum computing<br>",
          "<b>Title:</b> DQC$^2$O: Distributed Quantum Computing for Collaborative Optimization in Future Networks<br><b>Category:</b> quantum computing<br>",
          "<b>Title:</b> Understanding Quantum Technologies 2024<br><b>Category:</b> quantum computing<br>",
          "<b>Title:</b> Quantum Computing Using Crossed Atomic Beams<br><b>Category:</b> quantum computing<br>",
          "<b>Title:</b> Quantum Computation: A Computer Science Perspective<br><b>Category:</b> quantum computing<br>",
          "<b>Title:</b> Classification of Hybrid Quantum-Classical Computing<br><b>Category:</b> quantum computing<br>",
          "<b>Title:</b> Nonlinear Dynamics In Quantum Physics -- Quantum Chaos and Quantum Instantons<br><b>Category:</b> quantum computing<br>",
          "<b>Title:</b> Lecture Notes on Quantum Algorithms in Open Quantum Systems<br><b>Category:</b> quantum computing<br>",
          "<b>Title:</b> Password authentication schemes on a quantum computer<br><b>Category:</b> quantum computing<br>",
          "<b>Title:</b> Bridging Quantum Mechanics and Computing: A Primer for Software Engineers<br><b>Category:</b> quantum computing<br>",
          "<b>Title:</b> Authorized quantum computation<br><b>Category:</b> quantum computing<br>",
          "<b>Title:</b> Unifying Quantum Computation with Projective Measurements only and One-Way Quantum Computation<br><b>Category:</b> quantum computing<br>",
          "<b>Title:</b> Measurement-only verifiable blind quantum computing with quantum input verification<br><b>Category:</b> quantum computing<br>",
          "<b>Title:</b> State Stabilization for Gate-Model Quantum Computers<br><b>Category:</b> quantum computing<br>",
          "<b>Title:</b> Simulating Grover's Quantum Search in a Classical Computer<br><b>Category:</b> quantum computing<br>",
          "<b>Title:</b> Quantum Computation by Quantum Operations on Mixed States<br><b>Category:</b> quantum computing<br>",
          "<b>Title:</b> Quantum computation by teleportation and symmetry<br><b>Category:</b> quantum computing<br>",
          "<b>Title:</b> Classical computing, quantum computing, and Shor's factoring algorithm<br><b>Category:</b> quantum computing<br>",
          "<b>Title:</b> Quantum vs. Symplectic Computers<br><b>Category:</b> quantum computing<br>",
          "<b>Title:</b> Accelerated Quantum Amplitude Estimation without QFT<br><b>Category:</b> quantum computing<br>",
          "<b>Title:</b> Introduction to topological quantum computation with non-Abelian anyons<br><b>Category:</b> quantum computing<br>",
          "<b>Title:</b> Mimicking Time Evolution within a Quantum Ground State: Ground-State Quantum Computation, Cloning, and Teleportation<br><b>Category:</b> quantum computing<br>",
          "<b>Title:</b> Quantum Computing: a Quantum Group Approach<br><b>Category:</b> quantum computing<br>",
          "<b>Title:</b> A Practitioner's Guide to Quantum Algorithms for Optimisation Problems<br><b>Category:</b> quantum computing<br>",
          "<b>Title:</b> The role of Quantum Interference in Quantum Computing<br><b>Category:</b> quantum computing<br>",
          "<b>Title:</b> Quantum computation and complexity theory<br><b>Category:</b> quantum computing<br>",
          "<b>Title:</b> Comment on 'Resilient Quantum Computation in Correlated Environments: A Quantum Phase Transition Perspective' and 'Fault-tolerant Quantum Computation with Longe-range Correlated Noise'<br><b>Category:</b> quantum computing<br>",
          "<b>Title:</b> Classical signal-flow in cluster-state quantum computation<br><b>Category:</b> quantum computing<br>",
          "<b>Title:</b> The Power of Adiabatic Quantum Computation with No Sign Problem<br><b>Category:</b> quantum computing<br>",
          "<b>Title:</b> Hybrid quantum computing<br><b>Category:</b> quantum computing<br>",
          "<b>Title:</b> The quantum algorithm of Kieu does not solve the Hilbert's tenth problem<br><b>Category:</b> quantum computing<br>",
          "<b>Title:</b> Computational Methods for Simulating Quantum Computers<br><b>Category:</b> quantum computing<br>",
          "<b>Title:</b> Universal Quantum Computation by a Single Photon<br><b>Category:</b> quantum computing<br>",
          "<b>Title:</b> Universal quantum computation using quantum annealing with the transverse-field Ising Hamiltonian<br><b>Category:</b> quantum computing<br>",
          "<b>Title:</b> A Parallel Quantum Computer Simulator<br><b>Category:</b> quantum computing<br>",
          "<b>Title:</b> Parallel Quantum Computing in a Single Ensemble Quantum Computer<br><b>Category:</b> quantum computing<br>",
          "<b>Title:</b> QHDL: a Low-Level Circuit Description Language for Quantum Computing<br><b>Category:</b> quantum computing<br>",
          "<b>Title:</b> Variance of the sum of independent quantum computing errors<br><b>Category:</b> quantum computing<br>",
          "<b>Title:</b> I, Quantum Robot: Quantum Mind control on a Quantum Computer<br><b>Category:</b> quantum computing<br>",
          "<b>Title:</b> The Physics of Quantum Information<br><b>Category:</b> quantum computing<br>",
          "<b>Title:</b> An Introduction to Quantum Computers<br><b>Category:</b> quantum computing<br>",
          "<b>Title:</b> A quantum cellular automaton for universal quantum computation<br><b>Category:</b> quantum computing<br>",
          "<b>Title:</b> Quantum Kolmogorov-Arnold networks by combining quantum signal processing circuits<br><b>Category:</b> quantum computing<br>",
          "<b>Title:</b> Experimental verification of quantum computations<br><b>Category:</b> quantum computing<br>",
          "<b>Title:</b> A quantum walk control plane for distributed quantum computing in quantum networks<br><b>Category:</b> quantum computing<br>",
          "<b>Title:</b> The universal quantum driving force to speed up a quantum computation -- The unitary quantum dynamics<br><b>Category:</b> quantum computing<br>",
          "<b>Title:</b> Duality and Recycling Computing in Quantum Computers<br><b>Category:</b> quantum computing<br>",
          "<b>Title:</b> Topologization of electron liquids with Chern-Simons theory and quantum computation<br><b>Category:</b> quantum computing<br>",
          "<b>Title:</b> Quantum logic as motivated by quantum computing<br><b>Category:</b> quantum computing<br>",
          "<b>Title:</b> Digital-analog quantum algorithm for the quantum Fourier transform<br><b>Category:</b> quantum computing<br>",
          "<b>Title:</b> Prospective Algorithms for Quantum Evolutionary Computation<br><b>Category:</b> quantum computing<br>",
          "<b>Title:</b> Quantum Circuit Design for Objective Function Maximization in Gate-Model Quantum Computers<br><b>Category:</b> quantum computing<br>",
          "<b>Title:</b> Computing Biomolecular System Steady-states<br><b>Category:</b> biomolecular modeling<br>",
          "<b>Title:</b> Predicting biomolecular binding kinetics: A review<br><b>Category:</b> biomolecular modeling<br>",
          "<b>Title:</b> Energy-based Analysis of Biomolecular Pathways<br><b>Category:</b> biomolecular modeling<br>",
          "<b>Title:</b> Dynamical Response of Nanomechanical Resonators to Biomolecular Interactions<br><b>Category:</b> biomolecular modeling<br>",
          "<b>Title:</b> Period-Amplitude Co-variation in Biomolecular Oscillators<br><b>Category:</b> biomolecular modeling<br>",
          "<b>Title:</b> Mol-Instructions: A Large-Scale Biomolecular Instruction Dataset for Large Language Models<br><b>Category:</b> biomolecular modeling<br>",
          "<b>Title:</b> Theory and simulation of multiphase coexistence in biomolecular mixtures<br><b>Category:</b> biomolecular modeling<br>",
          "<b>Title:</b> More powerful biomolecular computers<br><b>Category:</b> biomolecular modeling<br>",
          "<b>Title:</b> A review of geometric, topological and graph theory apparatuses for the modeling and analysis of biomolecular data<br><b>Category:</b> biomolecular modeling<br>",
          "<b>Title:</b> Multiscale virtual particle based elastic network model (MVP-ENM) for biomolecular normal mode analysis<br><b>Category:</b> biomolecular modeling<br>",
          "<b>Title:</b> Biomolecular resource utilization in elementary cell-free gene circuits<br><b>Category:</b> biomolecular modeling<br>",
          "<b>Title:</b> Error-Control and Digitalization Concepts for Chemical and Biomolecular Information Processing Systems<br><b>Category:</b> biomolecular modeling<br>",
          "<b>Title:</b> Algebraic graph learning of protein-ligand binding affinity<br><b>Category:</b> biomolecular modeling<br>",
          "<b>Title:</b> SVSBI: Sequence-based virtual screening of biomolecular interactions<br><b>Category:</b> biomolecular modeling<br>",
          "<b>Title:</b> Modular Bond-graph Modelling and Analysis of Biomolecular Systems<br><b>Category:</b> biomolecular modeling<br>",
          "<b>Title:</b> Bond Graph Modelling of Chemiosmotic Biomolecular Energy Transduction<br><b>Category:</b> biomolecular modeling<br>",
          "<b>Title:</b> Quantum-assisted biomolecular modelling<br><b>Category:</b> biomolecular modeling<br>",
          "<b>Title:</b> Coordinated Spatial Pattern Formation in Biomolecular Communication Networks<br><b>Category:</b> biomolecular modeling<br>",
          "<b>Title:</b> Non-normality Can Facilitate Pulsing in Biomolecular Circuits<br><b>Category:</b> biomolecular modeling<br>",
          "<b>Title:</b> Mesoscopic heterogeneity in biomolecular condensates from sequence patterning<br><b>Category:</b> biomolecular modeling<br>",
          "<b>Title:</b> Rejection-free kinetic Monte Carlo simulation of multivalent biomolecular interactions<br><b>Category:</b> biomolecular modeling<br>",
          "<b>Title:</b> Improvements to the APBS biomolecular solvation software suite<br><b>Category:</b> biomolecular modeling<br>",
          "<b>Title:</b> InstructBioMol: Advancing Biomolecule Understanding and Design Following Human Instructions<br><b>Category:</b> biomolecular modeling<br>",
          "<b>Title:</b> The Martini Model in Materials Science<br><b>Category:</b> biomolecular modeling<br>",
          "<b>Title:</b> Biomolecular System Energetics<br><b>Category:</b> biomolecular modeling<br>",
          "<b>Title:</b> Energy-based Modelling of the Feedback Control of Biomolecular Systems with Cyclic Flow Modulation<br><b>Category:</b> biomolecular modeling<br>",
          "<b>Title:</b> Bond Graphs Unify Stoichiometric Analysis and Thermodynamics<br><b>Category:</b> biomolecular modeling<br>",
          "<b>Title:</b> An explanation of unexpected Hoxd expressions in mutant mice<br><b>Category:</b> biomolecular modeling<br>",
          "<b>Title:</b> Improvements in continuum modeling for biomolecular systems<br><b>Category:</b> biomolecular modeling<br>",
          "<b>Title:</b> Effective dissipation: breaking time-reversal symmetry in driven microscopic energy transmission<br><b>Category:</b> biomolecular modeling<br>",
          "<b>Title:</b> NepoIP/MM: Towards Accurate Biomolecular Simulation with a Machine Learning/Molecular Mechanics Model Incorporating Polarization Effects<br><b>Category:</b> biomolecular modeling<br>",
          "<b>Title:</b> Efficient Formulation of Polarizable Gaussian Multipole Electrostatics for Biomolecular Simulations<br><b>Category:</b> biomolecular modeling<br>",
          "<b>Title:</b> Autonomous push-down automaton built on DNA<br><b>Category:</b> biomolecular modeling<br>",
          "<b>Title:</b> Sonifying stochastic walks on biomolecular energy landscapes<br><b>Category:</b> biomolecular modeling<br>",
          "<b>Title:</b> A Kalman Filter Approach for Biomolecular Systems with Noise Covariance Updating<br><b>Category:</b> biomolecular modeling<br>",
          "<b>Title:</b> Flow Matching for Optimal Reaction Coordinates of Biomolecular System<br><b>Category:</b> biomolecular modeling<br>",
          "<b>Title:</b> Hamiltonian replica exchange augmented with diffusion-based generative models and importance sampling to assess biomolecular conformational basins and barriers<br><b>Category:</b> biomolecular modeling<br>",
          "<b>Title:</b> Variational Methods for Biomolecular Modeling<br><b>Category:</b> biomolecular modeling<br>",
          "<b>Title:</b> Non-Markovian theory of vibrational energy relaxation and its applications to biomolecular systems<br><b>Category:</b> biomolecular modeling<br>",
          "<b>Title:</b> Biomolecular imaging and electronic damage using X-ray free-electron lasers<br><b>Category:</b> biomolecular modeling<br>",
          "<b>Title:</b> Controlling biomolecular condensates via chemical reactions<br><b>Category:</b> biomolecular modeling<br>",
          "<b>Title:</b> Natural Light Harvesting Systems: Unraveling the quantum puzzles<br><b>Category:</b> biomolecular modeling<br>",
          "<b>Title:</b> Do-calculus enables estimation of causal effects in partially observed biomolecular pathways<br><b>Category:</b> biomolecular modeling<br>",
          "<b>Title:</b> Biochemical Filter with Sigmoidal Response: Increasing the Complexity of Biomolecular Logic<br><b>Category:</b> biomolecular modeling<br>",
          "<b>Title:</b> Enhanced Sampling Algorithms<br><b>Category:</b> biomolecular modeling<br>",
          "<b>Title:</b> Energy fluctuations shape free energy of nonspecific biomolecular interactions<br><b>Category:</b> biomolecular modeling<br>",
          "<b>Title:</b> Improving RNA Secondary Structure Design using Deep Reinforcement Learning<br><b>Category:</b> biomolecular modeling<br>",
          "<b>Title:</b> Self-assembly of biomolecular condensates with shared components<br><b>Category:</b> biomolecular modeling<br>",
          "<b>Title:</b> Non-equilibrium physics of multi-species assembly: From inhibition of fibrils in biomolecular condensates to growth of online distrust<br><b>Category:</b> biomolecular modeling<br>",
          "<b>Title:</b> Matching biomolecular structures by registration of point clouds<br><b>Category:</b> biomolecular modeling<br>",
          "<b>Title:</b> Technical Report of HelixFold3 for Biomolecular Structure Prediction<br><b>Category:</b> biomolecular modeling<br>",
          "<b>Title:</b> Anomalous Long-range Hard-wall Repulsion between Polymers in Solvent Mixtures and Its Implication for Biomolecular Condensates<br><b>Category:</b> biomolecular modeling<br>",
          "<b>Title:</b> Weighted persistent homology for biomolecular data analysis<br><b>Category:</b> biomolecular modeling<br>",
          "<b>Title:</b> Differential geometry-based solvation and electrolyte transport models for biomolecular modeling: a review<br><b>Category:</b> biomolecular modeling<br>",
          "<b>Title:</b> Computing Long Timescale Biomolecular Dynamics using Quasi-Stationary Distribution Kinetic Monte Carlo (QSD-KMC)<br><b>Category:</b> biomolecular modeling<br>",
          "<b>Title:</b> Multiscale persistent functions for biomolecular structure characterization<br><b>Category:</b> biomolecular modeling<br>",
          "<b>Title:</b> Quantum entanglement phenomena in photosynthetic light harvesting complexes<br><b>Category:</b> biomolecular modeling<br>",
          "<b>Title:</b> Theoretical restrictions on longest implicit timescales in Markov state models of biomolecular dynamics<br><b>Category:</b> biomolecular modeling<br>",
          "<b>Title:</b> Autonomous free-energy transducer working under thermal fluctuations<br><b>Category:</b> biomolecular modeling<br>",
          "<b>Title:</b> Reliable computer simulation methods for electrostatic biomolecular models based on the Poisson-Boltzmann equation<br><b>Category:</b> biomolecular modeling<br>",
          "<b>Title:</b> Machine Learning Potentials: A Roadmap Toward Next-Generation Biomolecular Simulations<br><b>Category:</b> biomolecular modeling<br>",
          "<b>Title:</b> Markov Field Models: scaling molecular kinetics approaches to large molecular machines<br><b>Category:</b> biomolecular modeling<br>",
          "<b>Title:</b> Theory of the center-of-mass diffusion and viscosity of microstructured and variable sequence copolymer liquids<br><b>Category:</b> biomolecular modeling<br>",
          "<b>Title:</b> Electrostatics of Salt-Dependent Reentrant Phase Behaviors Highlights Diverse Roles of ATP in Biomolecular Condensates<br><b>Category:</b> biomolecular modeling<br>",
          "<b>Title:</b> On the First-Passage Time Fluctuation Theorem in Complex Biomolecular Networks<br><b>Category:</b> biomolecular modeling<br>",
          "<b>Title:</b> Diffusion priors for Bayesian 3D reconstruction from incomplete measurements<br><b>Category:</b> biomolecular modeling<br>",
          "<b>Title:</b> Modeling of biomolecular machines in non-equilibrium steady states<br><b>Category:</b> biomolecular modeling<br>",
          "<b>Title:</b> CryoFM: A Flow-based Foundation Model for Cryo-EM Densities<br><b>Category:</b> biomolecular modeling<br>",
          "<b>Title:</b> Enhanced condensate fluidity in modified patchy particle models<br><b>Category:</b> biomolecular modeling<br>",
          "<b>Title:</b> Perspective: Markov Models for Long-Timescale Biomolecular Dynamics<br><b>Category:</b> biomolecular modeling<br>",
          "<b>Title:</b> Model order reduction for Linear Noise Approximation using time-scale separation (Extended Version)<br><b>Category:</b> biomolecular modeling<br>",
          "<b>Title:</b> Design of Experiments for Verifying Biomolecular Networks<br><b>Category:</b> biomolecular modeling<br>",
          "<b>Title:</b> Curvature-enhanced Graph Convolutional Network for Biomolecular Interaction Prediction<br><b>Category:</b> biomolecular modeling<br>",
          "<b>Title:</b> Bio2Token: All-atom tokenization of any biomolecular structure with Mamba<br><b>Category:</b> biomolecular modeling<br>",
          "<b>Title:</b> Learning Biomolecular Models using Signal Temporal Logic<br><b>Category:</b> biomolecular modeling<br>",
          "<b>Title:</b> Microvasculature Segmentation in Human BioMolecular Atlas Program (HuBMAP)<br><b>Category:</b> biomolecular modeling<br>",
          "<b>Title:</b> Predicting the morphology of multiphase biomolecular condensates from protein interaction networks<br><b>Category:</b> biomolecular modeling<br>",
          "<b>Title:</b> A computational framework for optimal and Model Predictive Control of stochastic gene regulatory networks<br><b>Category:</b> biomolecular modeling<br>",
          "<b>Title:</b> NeuralPLexer3: Accurate Biomolecular Complex Structure Prediction with Flow Models<br><b>Category:</b> biomolecular modeling<br>",
          "<b>Title:</b> Deep Learning-Driven Protein Structure Prediction and Design: Key Model Developments by Nobel Laureates and Multi-Domain Applications<br><b>Category:</b> biomolecular modeling<br>",
          "<b>Title:</b> Towards local electromechanical probing of cellular and biomolecular systems in a liquid environment<br><b>Category:</b> biomolecular modeling<br>",
          "<b>Title:</b> Plant responses to auxin signals: an operating principle for dynamical sensitivity yet high resilience<br><b>Category:</b> biomolecular modeling<br>",
          "<b>Title:</b> Note: Variational Encoding of Protein Dynamics Benefits from Maximizing Latent Autocorrelation<br><b>Category:</b> biomolecular modeling<br>",
          "<b>Title:</b> Maximizing Information Gain for the Characterization of Biomolecular Circuits<br><b>Category:</b> biomolecular modeling<br>",
          "<b>Title:</b> Molecular Simulations of Liquid Jet Explosions and Shock Waves Induced by X-Ray Free-Electron Lasers<br><b>Category:</b> biomolecular modeling<br>",
          "<b>Title:</b> Using Signal Processing in Tandem With Adapted Mixture Models for Classifying Genomic Signals<br><b>Category:</b> biomolecular modeling<br>",
          "<b>Title:</b> Internal and interfacial friction in the dynamics of soft/solid interfaces<br><b>Category:</b> biomolecular modeling<br>",
          "<b>Title:</b> Quantum coherent biomolecular energy transfer with spatially correlated fluctuations<br><b>Category:</b> biomolecular modeling<br>",
          "<b>Title:</b> Interplay between excitation kinetics and reaction-center dynamics in purple bacteria<br><b>Category:</b> biomolecular modeling<br>",
          "<b>Title:</b> Non-equilibrium phase transitions in biomolecular signal transduction<br><b>Category:</b> biomolecular modeling<br>",
          "<b>Title:</b> Experimental assessment of the contribution of electrodynamic interactions to long-distance recruitment of biomolecular partners: Theoretical basis<br><b>Category:</b> biomolecular modeling<br>",
          "<b>Title:</b> *K-means and Cluster Models for Cancer Signatures<br><b>Category:</b> biomolecular modeling<br>",
          "<b>Title:</b> A Convex Approach to Steady State Moment Analysis for Stochastic Chemical Reactions<br><b>Category:</b> biomolecular modeling<br>",
          "<b>Title:</b> Generalized Charge Energy Rate for Organic Solids and Biomolecular Aggregates Through Drift-Diffusion and Hopping Transport Equations: A Unified Theory<br><b>Category:</b> biomolecular modeling<br>",
          "<b>Title:</b> Uncovering the Folding Landscape of RNA Secondary Structure with Deep Graph Embeddings<br><b>Category:</b> biomolecular modeling<br>",
          "<b>Title:</b> Controlling the size and adhesion of DNA droplets using surface-active DNA molecules<br><b>Category:</b> biomolecular modeling<br>",
          "<b>Title:</b> DeepLNE++ leveraging knowledge distillation for accelerated multi-state path-like collective variables<br><b>Category:</b> biomolecular modeling<br>",
          "<b>Title:</b> Condensation and activator/repressor control of a transcription-regulated biomolecular liquid<br><b>Category:</b> biomolecular modeling<br>",
          "<b>Title:</b> Iterative variational learning of committor-consistent transition pathways using artificial neural networks<br><b>Category:</b> biomolecular modeling<br>",
          "<b>Title:</b> Perfect Stabilization of Biomolecular Adhesions under Load<br><b>Category:</b> biomolecular modeling<br>"
         ],
         "type": "scattergl",
         "x": {
          "bdata": "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",
          "dtype": "f4"
         },
         "y": {
          "bdata": "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",
          "dtype": "f4"
         }
        }
       ],
       "layout": {
        "height": 600,
        "hovermode": "closest",
        "plot_bgcolor": "rgba(0,0,0,0)",
        "template": {
         "data": {
          "bar": [
           {
            "error_x": {
             "color": "#2a3f5f"
            },
            "error_y": {
             "color": "#2a3f5f"
            },
            "marker": {
             "line": {
              "color": "#E5ECF6",
              "width": 0.5
             },
             "pattern": {
              "fillmode": "overlay",
              "size": 10,
              "solidity": 0.2
             }
            },
            "type": "bar"
           }
          ],
          "barpolar": [
           {
            "marker": {
             "line": {
              "color": "#E5ECF6",
              "width": 0.5
             },
             "pattern": {
              "fillmode": "overlay",
              "size": 10,
              "solidity": 0.2
             }
            },
            "type": "barpolar"
           }
          ],
          "carpet": [
           {
            "aaxis": {
             "endlinecolor": "#2a3f5f",
             "gridcolor": "white",
             "linecolor": "white",
             "minorgridcolor": "white",
             "startlinecolor": "#2a3f5f"
            },
            "baxis": {
             "endlinecolor": "#2a3f5f",
             "gridcolor": "white",
             "linecolor": "white",
             "minorgridcolor": "white",
             "startlinecolor": "#2a3f5f"
            },
            "type": "carpet"
           }
          ],
          "choropleth": [
           {
            "colorbar": {
             "outlinewidth": 0,
             "ticks": ""
            },
            "type": "choropleth"
           }
          ],
          "contour": [
           {
            "colorbar": {
             "outlinewidth": 0,
             "ticks": ""
            },
            "colorscale": [
             [
              0,
              "#0d0887"
             ],
             [
              0.1111111111111111,
              "#46039f"
             ],
             [
              0.2222222222222222,
              "#7201a8"
             ],
             [
              0.3333333333333333,
              "#9c179e"
             ],
             [
              0.4444444444444444,
              "#bd3786"
             ],
             [
              0.5555555555555556,
              "#d8576b"
             ],
             [
              0.6666666666666666,
              "#ed7953"
             ],
             [
              0.7777777777777778,
              "#fb9f3a"
             ],
             [
              0.8888888888888888,
              "#fdca26"
             ],
             [
              1,
              "#f0f921"
             ]
            ],
            "type": "contour"
           }
          ],
          "contourcarpet": [
           {
            "colorbar": {
             "outlinewidth": 0,
             "ticks": ""
            },
            "type": "contourcarpet"
           }
          ],
          "heatmap": [
           {
            "colorbar": {
             "outlinewidth": 0,
             "ticks": ""
            },
            "colorscale": [
             [
              0,
              "#0d0887"
             ],
             [
              0.1111111111111111,
              "#46039f"
             ],
             [
              0.2222222222222222,
              "#7201a8"
             ],
             [
              0.3333333333333333,
              "#9c179e"
             ],
             [
              0.4444444444444444,
              "#bd3786"
             ],
             [
              0.5555555555555556,
              "#d8576b"
             ],
             [
              0.6666666666666666,
              "#ed7953"
             ],
             [
              0.7777777777777778,
              "#fb9f3a"
             ],
             [
              0.8888888888888888,
              "#fdca26"
             ],
             [
              1,
              "#f0f921"
             ]
            ],
            "type": "heatmap"
           }
          ],
          "histogram": [
           {
            "marker": {
             "pattern": {
              "fillmode": "overlay",
              "size": 10,
              "solidity": 0.2
             }
            },
            "type": "histogram"
           }
          ],
          "histogram2d": [
           {
            "colorbar": {
             "outlinewidth": 0,
             "ticks": ""
            },
            "colorscale": [
             [
              0,
              "#0d0887"
             ],
             [
              0.1111111111111111,
              "#46039f"
             ],
             [
              0.2222222222222222,
              "#7201a8"
             ],
             [
              0.3333333333333333,
              "#9c179e"
             ],
             [
              0.4444444444444444,
              "#bd3786"
             ],
             [
              0.5555555555555556,
              "#d8576b"
             ],
             [
              0.6666666666666666,
              "#ed7953"
             ],
             [
              0.7777777777777778,
              "#fb9f3a"
             ],
             [
              0.8888888888888888,
              "#fdca26"
             ],
             [
              1,
              "#f0f921"
             ]
            ],
            "type": "histogram2d"
           }
          ],
          "histogram2dcontour": [
           {
            "colorbar": {
             "outlinewidth": 0,
             "ticks": ""
            },
            "colorscale": [
             [
              0,
              "#0d0887"
             ],
             [
              0.1111111111111111,
              "#46039f"
             ],
             [
              0.2222222222222222,
              "#7201a8"
             ],
             [
              0.3333333333333333,
              "#9c179e"
             ],
             [
              0.4444444444444444,
              "#bd3786"
             ],
             [
              0.5555555555555556,
              "#d8576b"
             ],
             [
              0.6666666666666666,
              "#ed7953"
             ],
             [
              0.7777777777777778,
              "#fb9f3a"
             ],
             [
              0.8888888888888888,
              "#fdca26"
             ],
             [
              1,
              "#f0f921"
             ]
            ],
            "type": "histogram2dcontour"
           }
          ],
          "mesh3d": [
           {
            "colorbar": {
             "outlinewidth": 0,
             "ticks": ""
            },
            "type": "mesh3d"
           }
          ],
          "parcoords": [
           {
            "line": {
             "colorbar": {
              "outlinewidth": 0,
              "ticks": ""
             }
            },
            "type": "parcoords"
           }
          ],
          "pie": [
           {
            "automargin": true,
            "type": "pie"
           }
          ],
          "scatter": [
           {
            "fillpattern": {
             "fillmode": "overlay",
             "size": 10,
             "solidity": 0.2
            },
            "type": "scatter"
           }
          ],
          "scatter3d": [
           {
            "line": {
             "colorbar": {
              "outlinewidth": 0,
              "ticks": ""
             }
            },
            "marker": {
             "colorbar": {
              "outlinewidth": 0,
              "ticks": ""
             }
            },
            "type": "scatter3d"
           }
          ],
          "scattercarpet": [
           {
            "marker": {
             "colorbar": {
              "outlinewidth": 0,
              "ticks": ""
             }
            },
            "type": "scattercarpet"
           }
          ],
          "scattergeo": [
           {
            "marker": {
             "colorbar": {
              "outlinewidth": 0,
              "ticks": ""
             }
            },
            "type": "scattergeo"
           }
          ],
          "scattergl": [
           {
            "marker": {
             "colorbar": {
              "outlinewidth": 0,
              "ticks": ""
             }
            },
            "type": "scattergl"
           }
          ],
          "scattermap": [
           {
            "marker": {
             "colorbar": {
              "outlinewidth": 0,
              "ticks": ""
             }
            },
            "type": "scattermap"
           }
          ],
          "scattermapbox": [
           {
            "marker": {
             "colorbar": {
              "outlinewidth": 0,
              "ticks": ""
             }
            },
            "type": "scattermapbox"
           }
          ],
          "scatterpolar": [
           {
            "marker": {
             "colorbar": {
              "outlinewidth": 0,
              "ticks": ""
             }
            },
            "type": "scatterpolar"
           }
          ],
          "scatterpolargl": [
           {
            "marker": {
             "colorbar": {
              "outlinewidth": 0,
              "ticks": ""
             }
            },
            "type": "scatterpolargl"
           }
          ],
          "scatterternary": [
           {
            "marker": {
             "colorbar": {
              "outlinewidth": 0,
              "ticks": ""
             }
            },
            "type": "scatterternary"
           }
          ],
          "surface": [
           {
            "colorbar": {
             "outlinewidth": 0,
             "ticks": ""
            },
            "colorscale": [
             [
              0,
              "#0d0887"
             ],
             [
              0.1111111111111111,
              "#46039f"
             ],
             [
              0.2222222222222222,
              "#7201a8"
             ],
             [
              0.3333333333333333,
              "#9c179e"
             ],
             [
              0.4444444444444444,
              "#bd3786"
             ],
             [
              0.5555555555555556,
              "#d8576b"
             ],
             [
              0.6666666666666666,
              "#ed7953"
             ],
             [
              0.7777777777777778,
              "#fb9f3a"
             ],
             [
              0.8888888888888888,
              "#fdca26"
             ],
             [
              1,
              "#f0f921"
             ]
            ],
            "type": "surface"
           }
          ],
          "table": [
           {
            "cells": {
             "fill": {
              "color": "#EBF0F8"
             },
             "line": {
              "color": "white"
             }
            },
            "header": {
             "fill": {
              "color": "#C8D4E3"
             },
             "line": {
              "color": "white"
             }
            },
            "type": "table"
           }
          ]
         },
         "layout": {
          "annotationdefaults": {
           "arrowcolor": "#2a3f5f",
           "arrowhead": 0,
           "arrowwidth": 1
          },
          "autotypenumbers": "strict",
          "coloraxis": {
           "colorbar": {
            "outlinewidth": 0,
            "ticks": ""
           }
          },
          "colorscale": {
           "diverging": [
            [
             0,
             "#8e0152"
            ],
            [
             0.1,
             "#c51b7d"
            ],
            [
             0.2,
             "#de77ae"
            ],
            [
             0.3,
             "#f1b6da"
            ],
            [
             0.4,
             "#fde0ef"
            ],
            [
             0.5,
             "#f7f7f7"
            ],
            [
             0.6,
             "#e6f5d0"
            ],
            [
             0.7,
             "#b8e186"
            ],
            [
             0.8,
             "#7fbc41"
            ],
            [
             0.9,
             "#4d9221"
            ],
            [
             1,
             "#276419"
            ]
           ],
           "sequential": [
            [
             0,
             "#0d0887"
            ],
            [
             0.1111111111111111,
             "#46039f"
            ],
            [
             0.2222222222222222,
             "#7201a8"
            ],
            [
             0.3333333333333333,
             "#9c179e"
            ],
            [
             0.4444444444444444,
             "#bd3786"
            ],
            [
             0.5555555555555556,
             "#d8576b"
            ],
            [
             0.6666666666666666,
             "#ed7953"
            ],
            [
             0.7777777777777778,
             "#fb9f3a"
            ],
            [
             0.8888888888888888,
             "#fdca26"
            ],
            [
             1,
             "#f0f921"
            ]
           ],
           "sequentialminus": [
            [
             0,
             "#0d0887"
            ],
            [
             0.1111111111111111,
             "#46039f"
            ],
            [
             0.2222222222222222,
             "#7201a8"
            ],
            [
             0.3333333333333333,
             "#9c179e"
            ],
            [
             0.4444444444444444,
             "#bd3786"
            ],
            [
             0.5555555555555556,
             "#d8576b"
            ],
            [
             0.6666666666666666,
             "#ed7953"
            ],
            [
             0.7777777777777778,
             "#fb9f3a"
            ],
            [
             0.8888888888888888,
             "#fdca26"
            ],
            [
             1,
             "#f0f921"
            ]
           ]
          },
          "colorway": [
           "#636efa",
           "#EF553B",
           "#00cc96",
           "#ab63fa",
           "#FFA15A",
           "#19d3f3",
           "#FF6692",
           "#B6E880",
           "#FF97FF",
           "#FECB52"
          ],
          "font": {
           "color": "#2a3f5f"
          },
          "geo": {
           "bgcolor": "white",
           "lakecolor": "white",
           "landcolor": "#E5ECF6",
           "showlakes": true,
           "showland": true,
           "subunitcolor": "white"
          },
          "hoverlabel": {
           "align": "left"
          },
          "hovermode": "closest",
          "mapbox": {
           "style": "light"
          },
          "paper_bgcolor": "white",
          "plot_bgcolor": "#E5ECF6",
          "polar": {
           "angularaxis": {
            "gridcolor": "white",
            "linecolor": "white",
            "ticks": ""
           },
           "bgcolor": "#E5ECF6",
           "radialaxis": {
            "gridcolor": "white",
            "linecolor": "white",
            "ticks": ""
           }
          },
          "scene": {
           "xaxis": {
            "backgroundcolor": "#E5ECF6",
            "gridcolor": "white",
            "gridwidth": 2,
            "linecolor": "white",
            "showbackground": true,
            "ticks": "",
            "zerolinecolor": "white"
           },
           "yaxis": {
            "backgroundcolor": "#E5ECF6",
            "gridcolor": "white",
            "gridwidth": 2,
            "linecolor": "white",
            "showbackground": true,
            "ticks": "",
            "zerolinecolor": "white"
           },
           "zaxis": {
            "backgroundcolor": "#E5ECF6",
            "gridcolor": "white",
            "gridwidth": 2,
            "linecolor": "white",
            "showbackground": true,
            "ticks": "",
            "zerolinecolor": "white"
           }
          },
          "shapedefaults": {
           "line": {
            "color": "#2a3f5f"
           }
          },
          "ternary": {
           "aaxis": {
            "gridcolor": "white",
            "linecolor": "white",
            "ticks": ""
           },
           "baxis": {
            "gridcolor": "white",
            "linecolor": "white",
            "ticks": ""
           },
           "bgcolor": "#E5ECF6",
           "caxis": {
            "gridcolor": "white",
            "linecolor": "white",
            "ticks": ""
           }
          },
          "title": {
           "x": 0.05
          },
          "xaxis": {
           "automargin": true,
           "gridcolor": "white",
           "linecolor": "white",
           "ticks": "",
           "title": {
            "standoff": 15
           },
           "zerolinecolor": "white",
           "zerolinewidth": 2
          },
          "yaxis": {
           "automargin": true,
           "gridcolor": "white",
           "linecolor": "white",
           "ticks": "",
           "title": {
            "standoff": 15
           },
           "zerolinecolor": "white",
           "zerolinewidth": 2
          }
         }
        },
        "title": {
         "text": "2D UMAP Embeddings Colored by Similarity Score"
        },
        "width": 800
       }
      }
     },
     "metadata": {},
     "output_type": "display_data"
    }
   ],
   "source": [
    "# Define the layout for the plot.\n",
    "layout = {\n",
    "    \"title\": \"2D UMAP Embeddings Colored by Similarity Score\",\n",
    "    \"width\": 800,\n",
    "    \"height\": 600,\n",
    "    \"plot_bgcolor\": \"rgba(0,0,0,0)\",  ## Set background to transparent.\n",
    "    \"hovermode\": \"closest\",  # Show tooltips on hover to the nearest point.\n",
    "}\n",
    "# Create a new figure with the defined layout.\n",
    "fig = go.Figure(layout=layout)\n",
    "# Add a scatter plot with points representing papers\n",
    "# Points are colored based on their similarity to the target query\n",
    "trace = go.Scattergl(\n",
    "    x = papers[\"umap_x\"],\n",
    "    y = papers[\"umap_y\"],\n",
    "    mode = \"markers\",\n",
    "    marker = dict(\n",
    "        color = papers[\"similarity_score\"],\n",
    "        colorscale = \"Viridis\",\n",
    "        colorbar = dict(title=\"Similarity Score\"),\n",
    "        size = 8,\n",
    "        line = dict(width=0.5),\n",
    "        opacity=0.50\n",
    "    ),\n",
    "    text=papers[\"tooltip\"]\n",
    ")\n",
    "# Add the trace to the figure.\n",
    "# And show the figure.\n",
    "fig.add_trace(trace)\n",
    "fig.show()"
   ]
  },
  {
   "cell_type": "code",
   "execution_count": null,
   "id": "9db6f76d",
   "metadata": {},
   "outputs": [],
   "source": []
  }
 ],
 "metadata": {
  "kernelspec": {
   "display_name": ".venv",
   "language": "python",
   "name": "python3"
  },
  "language_info": {
   "codemirror_mode": {
    "name": "ipython",
    "version": 3
   },
   "file_extension": ".py",
   "mimetype": "text/x-python",
   "name": "python",
   "nbconvert_exporter": "python",
   "pygments_lexer": "ipython3",
   "version": "3.12.1"
  }
 },
 "nbformat": 4,
 "nbformat_minor": 5
}
