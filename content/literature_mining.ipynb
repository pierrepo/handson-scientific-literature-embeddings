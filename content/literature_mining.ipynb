{
 "cells": [
  {
   "cell_type": "markdown",
   "id": "d1db4466",
   "metadata": {},
   "source": [
    "# Scientific literature mining\n",
    "\n",
    "Using embeddings, we will mine scientific litterature to identify relationships between papers and find similar papers.\n",
    "\n",
    "We already have extracted title and abstract for several preprints from arXiv. These papers are taken from multiple topics:\n",
    "- *nanoporous materials*\n",
    "- *many-body*\n",
    "- *machine learning*\n",
    "- *quantum computing*\n",
    "- *biomolecular modeling*\n",
    "\n",
    "## Load required libraries\n"
   ]
  },
  {
   "cell_type": "code",
   "execution_count": 84,
   "id": "3d1e7bf4",
   "metadata": {},
   "outputs": [],
   "source": [
    "from itertools import cycle\n",
    "import json\n",
    "\n",
    "from fastembed import TextEmbedding\n",
    "import numpy as np\n",
    "import pandas as pd\n",
    "from tqdm.auto import tqdm\n",
    "import plotly\n",
    "import plotly.graph_objs as go\n",
    "import umap.umap_ as umap\n",
    "\n",
    "tqdm.pandas()"
   ]
  },
  {
   "cell_type": "markdown",
   "id": "c8ecfa1e",
   "metadata": {},
   "source": [
    "## Load the model"
   ]
  },
  {
   "cell_type": "code",
   "execution_count": 12,
   "id": "e303b26f",
   "metadata": {},
   "outputs": [
    {
     "data": {
      "application/vnd.jupyter.widget-view+json": {
       "model_id": "a3f3c5797a834c4c9cc1879430b46ac0",
       "version_major": 2,
       "version_minor": 0
      },
      "text/plain": [
       "Fetching 5 files:   0%|          | 0/5 [00:00<?, ?it/s]"
      ]
     },
     "metadata": {},
     "output_type": "display_data"
    }
   ],
   "source": [
    "model = TextEmbedding(\"nomic-ai/nomic-embed-text-v1.5-Q\")"
   ]
  },
  {
   "cell_type": "markdown",
   "id": "5448abc5",
   "metadata": {},
   "source": [
    "## Load the data"
   ]
  },
  {
   "cell_type": "code",
   "execution_count": 31,
   "id": "421f60a1",
   "metadata": {},
   "outputs": [],
   "source": [
    "f_in = open(\"arxiv_papers.json\")\n",
    "data = json.load(f_in)\n",
    "papers = pd.json_normalize(data)"
   ]
  },
  {
   "cell_type": "markdown",
   "id": "25b39488",
   "metadata": {},
   "source": [
    "Display number of papers and the first record of the paper dataset:"
   ]
  },
  {
   "cell_type": "code",
   "execution_count": 41,
   "id": "cd5ca085",
   "metadata": {},
   "outputs": [
    {
     "name": "stdout",
     "output_type": "stream",
     "text": [
      "Dimensions of papers dataframe: (400, 5)\n",
      "First paper:\n",
      "id                          http://arxiv.org/abs/2402.01321v1\n",
      "date                                     2024-02-02T11:17:55Z\n",
      "title       Ionic Current Rectification in Nanopores: Effe...\n",
      "abstract    Ionic Current Rectification (ICR) can appear i...\n",
      "query                                    nanoporous materials\n",
      "Name: 0, dtype: object\n"
     ]
    }
   ],
   "source": [
    "print(f\"Dimensions of papers dataframe: {papers.shape}\")\n",
    "print(\"First paper:\")\n",
    "print(papers.iloc[0])"
   ]
  },
  {
   "cell_type": "code",
   "execution_count": 49,
   "id": "0b852da1",
   "metadata": {},
   "outputs": [
    {
     "data": {
      "application/vnd.jupyter.widget-view+json": {
       "model_id": "bbb8b8a7bdfb4d6b94f57582c821e8ef",
       "version_major": 2,
       "version_minor": 0
      },
      "text/plain": [
       "  0%|          | 0/400 [00:00<?, ?it/s]"
      ]
     },
     "metadata": {},
     "output_type": "display_data"
    }
   ],
   "source": [
    "def get_embedding(row):\n",
    "    text_to_embed = row[\"title\"] + \" \" + row[\"abstract\"]\n",
    "    return list(model.embed(text_to_embed))[0]\n",
    "\n",
    "papers[\"embedding\"] = papers.progress_apply(get_embedding, axis=\"columns\")"
   ]
  },
  {
   "cell_type": "code",
   "execution_count": 55,
   "id": "0d6c9680",
   "metadata": {},
   "outputs": [
    {
     "name": "stdout",
     "output_type": "stream",
     "text": [
      "id                            http://arxiv.org/abs/2402.01321v1\n",
      "date                                       2024-02-02T11:17:55Z\n",
      "title         Ionic Current Rectification in Nanopores: Effe...\n",
      "abstract      Ionic Current Rectification (ICR) can appear i...\n",
      "query                                      nanoporous materials\n",
      "embeddings    [1.384288, 1.9946833, -3.2957623, -0.6682733, ...\n",
      "embedding     [1.384288, 1.9946833, -3.2957623, -0.6682733, ...\n",
      "Name: 0, dtype: object\n"
     ]
    }
   ],
   "source": [
    "print(papers.iloc[0])"
   ]
  },
  {
   "cell_type": "code",
   "execution_count": 76,
   "id": "41d7564a",
   "metadata": {},
   "outputs": [
    {
     "name": "stderr",
     "output_type": "stream",
     "text": [
      "/home/pierre/workp/misc/events/2025-05-26_CECAM_summer_school/handson-scientific-literature-embeddings/.venv/lib/python3.12/site-packages/sklearn/utils/deprecation.py:151: FutureWarning: 'force_all_finite' was renamed to 'ensure_all_finite' in 1.6 and will be removed in 1.8.\n",
      "  warnings.warn(\n",
      "/home/pierre/workp/misc/events/2025-05-26_CECAM_summer_school/handson-scientific-literature-embeddings/.venv/lib/python3.12/site-packages/umap/umap_.py:1952: UserWarning: n_jobs value 1 overridden to 1 by setting random_state. Use no seed for parallelism.\n",
      "  warn(\n"
     ]
    }
   ],
   "source": [
    "embeddings_array = np.vstack(papers[\"embedding\"].values)\n",
    "umap_reducer = umap.UMAP(metric=\"cosine\", n_components=2, random_state=42)\n",
    "reduce_embeddings = umap_reducer.fit_transform(embeddings_array)\n",
    "papers[[\"umap_x\", \"umap_y\"]] = reduce_embeddings"
   ]
  },
  {
   "cell_type": "code",
   "execution_count": 91,
   "id": "6c55a703",
   "metadata": {},
   "outputs": [],
   "source": [
    "import textwrap\n",
    "def wrap_text(text, width=70):\n",
    "    return \"<br>\".join(textwrap.wrap(text, width=width))\n",
    "\n",
    "def set_tooltip(row):\n",
    "    label = (\n",
    "        f\"<b>Title:</b> {row[\"title\"]}<br>\"\n",
    "    )\n",
    "    return label\n",
    "\n",
    "papers[\"tooltip\"] = papers.apply(set_tooltip, axis=\"columns\")"
   ]
  },
  {
   "cell_type": "code",
   "execution_count": 93,
   "id": "2014b6fc",
   "metadata": {},
   "outputs": [
    {
     "data": {
      "application/vnd.plotly.v1+json": {
       "config": {
        "plotlyServerURL": "https://plot.ly"
       },
       "data": [
        {
         "marker": {
          "color": "#636EFA",
          "line": {
           "width": 0.5
          },
          "opacity": 0.75,
          "size": 8
         },
         "mode": "markers",
         "name": "nanoporous materials",
         "text": [
          "<b>Title:</b> Ionic Current Rectification in Nanopores: Effects of Nanopore Material, Electrolyte and Surface Treatment<br>",
          "<b>Title:</b> Enumerating Stable Nanopores in Graphene and their Geometrical Properties Using the Combinatorics of Hexagonal Lattices<br>",
          "<b>Title:</b> Effect of anodization conditions on the synthesis of TiO2 nanopores<br>",
          "<b>Title:</b> Water Assisted Proton Transport in Confined Nanochannels<br>",
          "<b>Title:</b> Atomic Engineering of Triangular Nanopores in Monolayer hBN: A Decoupled Seeding and Growth Approach<br>",
          "<b>Title:</b> Electrochemical reaction in single layer MoS2: nanopores opened atom by atom<br>",
          "<b>Title:</b> Nanoporous Copper-Nickel - Macroscopic bodies of a strong and deformable nanoporous base metal by dealloying<br>",
          "<b>Title:</b> Optical Properties of Nanoporous Al2O3 Matrices with Ammonium Dihydrogen Phosphate Crystals in Nanopores<br>",
          "<b>Title:</b> A New Class of Materials Based on Nanoporous High Entropy Alloys with Outstanding Properties<br>",
          "<b>Title:</b> Pore and Ligament Size Control, Thermal Stability and Mechanical Properties of Nanoporous Single Crystals of Gold<br>",
          "<b>Title:</b> Surface Engineering of Synthetic Nanopores by Atomic Layer Deposition and Their Applications<br>",
          "<b>Title:</b> A zero-depth nanopore capillary for the analysis of translocating biomolecules<br>",
          "<b>Title:</b> Stiffening of nanoporous Au as a result of dislocation density increase upon characteristic length reduction<br>",
          "<b>Title:</b> Enhanced current rectification in graphene nanoribbons: Effects of geometries and orientations of nanopores<br>",
          "<b>Title:</b> Nanopore creation in graphene at the nanoscale for water desalination<br>",
          "<b>Title:</b> Three-Dimensional Nanoporous Graphene Substrate for Surface-Enhanced Raman Scattering<br>",
          "<b>Title:</b> What keeps nanopores boiling<br>",
          "<b>Title:</b> Fabrication and characterization of plasmonic nanopores for Raman detection of biomolecules<br>",
          "<b>Title:</b> Characterization of ion track etched conical nanopores in thermal and PECVD SiO$_{2}$ using small angle X-ray scattering<br>",
          "<b>Title:</b> Facile and Ultraclean Graphene-on-Glass Nanopores by Controlled Electrochemical Etching<br>",
          "<b>Title:</b> High-throughput computational screening of nanoporous materials in targeted applications<br>",
          "<b>Title:</b> Biohybrid membrane formation by directed insertion of Aquaporin into a solid-state nanopore<br>",
          "<b>Title:</b> Diffusion controlled oriented growth of a nano porous material by the Kirkendall effect<br>",
          "<b>Title:</b> Molecular Dynamics Simulation of Nanoporous Tungsten<br>",
          "<b>Title:</b> Enhancement of charged macromolecule capture by nanopores in a salt gradient<br>",
          "<b>Title:</b> Atomistic Simulation of Compression Wave Propagation in Nanoporous Materials<br>",
          "<b>Title:</b> Thermoelectric Studies of Nanoporous Thin Films with Adjusted Pore-Edge Charges<br>",
          "<b>Title:</b> Ion and water transport in charge-modified graphene nanopores<br>",
          "<b>Title:</b> Deep Reinforcement Learning Optimizes Graphene Nanopores for Efficient Desalination<br>",
          "<b>Title:</b> Molecular Dynamics Simulations of Water Anchored in Multi-Layered Nanoporous MoS$_2$ Membranes: Implications for Desalination<br>",
          "<b>Title:</b> Topological changes and deformation mechanisms of nanoporous Ta under compression<br>",
          "<b>Title:</b> Boosting infrared energy transfer in 3D nanoporous gold antennas<br>",
          "<b>Title:</b> Coupled electrokinetic transport through a nanoporous membrane: effects of pore interactions<br>",
          "<b>Title:</b> Control of particle trapping in a magnetoplasmonic nanopore<br>",
          "<b>Title:</b> How Grain Boundaries and Interfacial Electrostatic Interactions Modulate Water Desalination Via Nanoporous Hexagonal Boron Nitride<br>",
          "<b>Title:</b> Temperature-dependent thermal conductivity in nanoporous materials studied by the Boltzmann Transport Equation<br>",
          "<b>Title:</b> Thermal Anisotropy Enhanced by Phonon Size Effects in Nanoporous Materials<br>",
          "<b>Title:</b> Quantum fluids in nanoporous media - effects of the confinement and fractal geometry<br>",
          "<b>Title:</b> Embedding a carbon nanotube across the diameter of a solid state nanopore<br>",
          "<b>Title:</b> Inelastic electron tunneling spectroscopy of nanoporous gold films<br>",
          "<b>Title:</b> Tuning electrical properties of silicon dioxide through intrinsic nano-patterns<br>",
          "<b>Title:</b> Gassmann Theory Applies to Nanoporous Media<br>",
          "<b>Title:</b> Nanoporous alumina microtubes for metamaterial and plasmonic applications<br>",
          "<b>Title:</b> Nanopore fabrication and characterization by helium ion microscopy<br>",
          "<b>Title:</b> First principles investigation of nanopore sequencing using variable voltage bias on graphene-based nanoribbons<br>",
          "<b>Title:</b> Controlled healing of graphene nanopores<br>",
          "<b>Title:</b> Detection of Nanopores with the Scanning Ion Conductance Microscopy: A Simulation Study<br>",
          "<b>Title:</b> Soft matter in hard confinement: phase transition thermodynamics, structure, texture, diffusion and flow in nanoporous media - topical review<br>",
          "<b>Title:</b> Hybrid plasmonic nanostructures based on controlled integration of MoS2 flakes on metallic nanoholes<br>",
          "<b>Title:</b> Water permeability in nanopores: when size, shape, and charge matter<br>",
          "<b>Title:</b> On the origin of the anomalous compliance of dealloying-derived nanoporous gold<br>",
          "<b>Title:</b> Thermomechanical Insight into the Stability of Nanoporous Graphene Membranes<br>",
          "<b>Title:</b> Confining Eutectic Gallium Indium (eGaIn) in Expired Artificial Kidneys to Unveil Nanoporous Conductive Wires<br>",
          "<b>Title:</b> A Method for Fabricating CMOS Back-End-of-Line-Compatible Solid-State Nanopore Devices<br>",
          "<b>Title:</b> Nanoporous ionic organic networks: from synthesis to materials applications<br>",
          "<b>Title:</b> 3D Nanoporous Antennas for high sensitivity IR plasmonic sensing<br>",
          "<b>Title:</b> Size dependent photoemission study by electrochemical coarsening of nanoporous gold<br>",
          "<b>Title:</b> Large-scale molecular dynamics investigation of geometrical features in nanoporous Si<br>",
          "<b>Title:</b> Quantum Physisorption of Methane and Carbon Dioxide within Nanoporous Materials<br>",
          "<b>Title:</b> High-throughput nanopore fabrication and classification using FIB irradiation and automated pore edge analysis<br>",
          "<b>Title:</b> Ultrasonic Study of Water Adsorbed in Nanoporous Glasses<br>",
          "<b>Title:</b> Toward phonon-boundary engineering in nanoporous materials<br>",
          "<b>Title:</b> Fabrication of Atomically Precise Nanopores in Hexagonal Boron Nitride<br>",
          "<b>Title:</b> Probing Patchy Saturation of Fluids in Nanoporous Media by Ultrasound<br>",
          "<b>Title:</b> Heat current anticorrelation effects leading to thermal conductivity reduction in nanoporous Si<br>",
          "<b>Title:</b> Influence of the microstructure on the mechanical behavior of nanoporous materials under large strains<br>",
          "<b>Title:</b> Revealing Correlation of Valence State with Nanoporous Structure in Cobalt Catalyst Nanoparticles by in Situ Environmental TEM<br>",
          "<b>Title:</b> Nanoporous monolithic microsphere arrays have anti-adhesive properties independent of humidity<br>",
          "<b>Title:</b> Confining Metal-Halide Perovskites in Nanoporous Thin Films<br>",
          "<b>Title:</b> Nanoporous compound materials for optical applications - microlasers and microresonators<br>",
          "<b>Title:</b> DNA Base Detection Using Two-Dimensional Materials Beyond Graphene<br>",
          "<b>Title:</b> Anisotropic coalescence criterion for nanoporous materials<br>",
          "<b>Title:</b> Edge currents and nanopore arrays in zigzag and chiral graphene nanoribbons as a route toward high-$ZT$ thermoelectrics<br>",
          "<b>Title:</b> Switchable Imbibition in Nanoporous Gold<br>",
          "<b>Title:</b> Hydraulic Transport Across Hydrophilic and Hydrophobic Nanopores: Flow Experiments with Water and n-Hexane<br>",
          "<b>Title:</b> Confinement Effects on an Electron Transfer Reaction in Nanoporous Carbon Electrodes<br>",
          "<b>Title:</b> Pump-probe Spectroscopy Study of Ultrafast Temperature Dynamics in Nanoporous Gold<br>",
          "<b>Title:</b> First-principles study on controlling energy gap of graphene using hybrid armchair-zigzag nanostructures<br>",
          "<b>Title:</b> Identification of DNA Bases Using Nanopores Created in Finite-Size Nanoribbons from Graphene, Phosphorene, and Silicene<br>",
          "<b>Title:</b> Neutral but Impactful: Gallium Cluster-Induced Nanopores from Beam-Blanked Gallium Ion Sources<br>",
          "<b>Title:</b> How nanoporous silicon-polypyrrole hybrids flex their muscles in aqueous electrolytes: In operando high-resolution x-ray diffraction and electron tomography-based micromechanical computer simulations<br>",
          "<b>Title:</b> A template method for carbon nanotube production from sugar water<br>",
          "<b>Title:</b> Nanoporous Metals: From Plasmonic Properties to Applications in Enhanced Spectroscopy and Photocatalysis<br>",
          "<b>Title:</b> Quantum Capacitance Modifies Interionic Interactions in Semiconducting Nanopores<br>",
          "<b>Title:</b> Monte Carlo simulations for phonon transport in silicon nanomaterials<br>",
          "<b>Title:</b> Controlled fabrication of freestanding monolayer SiC by electron irradiation<br>",
          "<b>Title:</b> Synthesis and Stability Kinetics of Nanoporous TaC Derived from Ta Precursors<br>",
          "<b>Title:</b> Charge Transport in one Dimension:Dissipative and Non-Dissipative Space-Charge Limited Currents<br>",
          "<b>Title:</b> Ultra-Thin, High-Lifetime Silicon Nitride Membranes for Nanopore Sensing<br>",
          "<b>Title:</b> Evaporation-driven electrokinetic energy conversion: critical review, parametric analysis and perspectives<br>",
          "<b>Title:</b> Dry synthesis of bi-layer nanoporous metal films as plasmonic metamaterial<br>",
          "<b>Title:</b> Theory and Modeling of Transport for Simple Fluids in Nanoporous Materials: From Microscopic to Coarse-Grained Descriptions<br>",
          "<b>Title:</b> Wetting of nanopores probed with pressure<br>",
          "<b>Title:</b> Galvanic Replacement Reaction to prepare nanoporous Aluminum for UV plasmonics<br>",
          "<b>Title:</b> Modeling of Self-Healing Polymer Composites Reinforced with Nanoporous Glass Fibers<br>",
          "<b>Title:</b> DNA translocation through nanopores with salt gradients: The role of osmotic flow<br>",
          "<b>Title:</b> Electronic Structures of Porous Nanocarbons<br>",
          "<b>Title:</b> Electric Properties of Dirac Fermions Captured into 3D Nanoporous Graphene Networks<br>",
          "<b>Title:</b> Wafer-Scale Electroactive Nanoporous Silicon: Large and Fully Reversible Electrochemo-Mechanical Actuation in Aqueous Electrolytes<br>",
          "<b>Title:</b> Transferable and extensible machine learning derived atomic charges for modeling hybrid nanoporous materials<br>"
         ],
         "type": "scattergl",
         "x": {
          "bdata": "i32Lv2l9s78CKwHAuMCDvxc177+F4APAd2MLwEg4L8CMl/2/KugSwMar9r+9H8y/4fIFwOY5hL+ILbK/GI6sv95RuL/yvx/A3mTqv1w5rL9egIi/49fLvxfr2r9q2PS/YaVKv/t70r/E8pq/V+NWvwlBoL9rlou/1g38vxe/JsCBnmi/0sIZwPrnjr8/epa/+UCNv8DNmr/ebvW/Z+8cwGkL2r+YjJy/aiUqwK+h8b858oK/Mnetvw/V2r81Ya6/eR0cwHVFgr9W1grAcV7ovyrcDcAwq/y/knm4v1ORI8BUlx7Ag/umvxAier/iyOm/BTabv3oqk78Fw+e/NmKWv1W7kb8rt+i/sqsAwI0YjD+VfSLAC/EqwKrKrr+TwO+/nvlnv7z9m79ANae/jVQ7v0aNGMCxsHO/u6adv+Ym/r9CgM6/qAr4v6zGLcACzE+/ESqPvzmuyL8xR+e/JH8fv6sP87+zmVu/AEUqwG+HT7+DYK6/7norwNnu3L8D61e/wPV1vyMzTL9y2qa/jMuAvw==",
          "dtype": "f4"
         },
         "y": {
          "bdata": "Ri3eQLAH8EDq0NtAhQ3XQEUv6kCIcuVAa2++QFm91EAv+rNAApu7QBCJ4ED8z9tAy/K3QEDX7UCSpu5A3bnuQCU80kB4E9xAv0/hQBna8UAFZMVAXzjZQEZmwkA/lrFAs1LVQEXUs0A1l7FANcThQK1H5EA76dZAmwyzQGgi0kBFu89AzEzeQExX2UCfCKxAIIWpQIMgwkBjxOJAtCXEQHuRx0ATTb5AhC3WQDPd6UBwvfFAyCLvQJAt30DTsMJAxW7dQCmS1UBok7hAtPq3QLdx0kBxTeRAdsDOQLCB0kDX0sVAcvOwQDdUxUCq8t9ANe29QNh4q0BU0elA7NG9QEiAq0B/FbdA6FngQOtZU0B329RARXbPQEPw8EDpgLNAtp7vQA8b0EDgAM9AV07bQA8twUAICPJASUX1QGeV70BAS7hAVE7RQLrBzkCml+RACOmpQMxI80BPMbZAb3PKQC9M50AaosxAEffMQNZexEB/ztFA2MfRQL2yuEDDlthABO/vQMxd9EB9eslA0bHIQA==",
          "dtype": "f4"
         }
        },
        {
         "marker": {
          "color": "#EF553B",
          "line": {
           "width": 0.5
          },
          "opacity": 0.75,
          "size": 8
         },
         "mode": "markers",
         "name": "machine learning",
         "text": [
          "<b>Title:</b> Lecture Notes: Optimization for Machine Learning<br>",
          "<b>Title:</b> An Optimal Control View of Adversarial Machine Learning<br>",
          "<b>Title:</b> Minimax deviation strategies for machine learning and recognition with short learning samples<br>",
          "<b>Title:</b> Machine Learning for Clinical Predictive Analytics<br>",
          "<b>Title:</b> Towards Modular Machine Learning Solution Development: Benefits and Trade-offs<br>",
          "<b>Title:</b> Introduction to Machine Learning: Class Notes 67577<br>",
          "<b>Title:</b> The Tribes of Machine Learning and the Realm of Computer Architecture<br>",
          "<b>Title:</b> A Machine Learning Tutorial for Operational Meteorology, Part I: Traditional Machine Learning<br>",
          "<b>Title:</b> Position Paper: Towards Transparent Machine Learning<br>",
          "<b>Title:</b> Understanding Bias in Machine Learning<br>",
          "<b>Title:</b> A Unified Analytical Framework for Trustable Machine Learning and Automation Running with Blockchain<br>",
          "<b>Title:</b> MLBench: How Good Are Machine Learning Clouds for Binary Classification Tasks on Structured Data?<br>",
          "<b>Title:</b> Data Pricing in Machine Learning Pipelines<br>",
          "<b>Title:</b> Techniques for Automated Machine Learning<br>",
          "<b>Title:</b> The Landscape of Modern Machine Learning: A Review of Machine, Distributed and Federated Learning<br>",
          "<b>Title:</b> Parallelization of Machine Learning Algorithms Respectively on Single Machine and Spark<br>",
          "<b>Title:</b> AutoCompete: A Framework for Machine Learning Competition<br>",
          "<b>Title:</b> Joint Training of Deep Boltzmann Machines<br>",
          "<b>Title:</b> Proceedings of the 2016 ICML Workshop on #Data4Good: Machine Learning in Social Good Applications<br>",
          "<b>Title:</b> Mathematical Perspective of Machine Learning<br>",
          "<b>Title:</b> Private Machine Learning via Randomised Response<br>",
          "<b>Title:</b> Ten-year Survival Prediction for Breast Cancer Patients<br>",
          "<b>Title:</b> A Survey of Optimization Methods from a Machine Learning Perspective<br>",
          "<b>Title:</b> Tuning Learning Rates with the Cumulative-Learning Constant<br>",
          "<b>Title:</b> When Machine Learning Meets Privacy: A Survey and Outlook<br>",
          "<b>Title:</b> Augmented Q Imitation Learning (AQIL)<br>",
          "<b>Title:</b> Probabilistic Machine Learning for Healthcare<br>",
          "<b>Title:</b> Evaluation Challenges for Geospatial ML<br>",
          "<b>Title:</b> A comprehensive review of Quantum Machine Learning: from NISQ to Fault Tolerance<br>",
          "<b>Title:</b> Towards CRISP-ML(Q): A Machine Learning Process Model with Quality Assurance Methodology<br>",
          "<b>Title:</b> Temporal-related Convolutional-Restricted-Boltzmann-Machine capable of learning relational order via reinforcement learning procedure?<br>",
          "<b>Title:</b> Spatial Transfer Learning with Simple MLP<br>",
          "<b>Title:</b> Proceedings of the 29th International Conference on Machine Learning (ICML-12)<br>",
          "<b>Title:</b> Distributed Multi-Task Learning with Shared Representation<br>",
          "<b>Title:</b> Components of Machine Learning: Binding Bits and FLOPS<br>",
          "<b>Title:</b> Impact of Legal Requirements on Explainability in Machine Learning<br>",
          "<b>Title:</b> Machine Learning Potential Repository<br>",
          "<b>Title:</b> Quantum memristors for neuromorphic quantum machine learning<br>",
          "<b>Title:</b> metric-learn: Metric Learning Algorithms in Python<br>",
          "<b>Title:</b> Theoretical Models of Learning to Learn<br>",
          "<b>Title:</b> On-the-Fly Learning in a Perpetual Learning Machine<br>",
          "<b>Title:</b> An Aggregate and Iterative Disaggregate Algorithm with Proven Optimality in Machine Learning<br>",
          "<b>Title:</b> Human-in-the-loop Machine Learning: A Macro-Micro Perspective<br>",
          "<b>Title:</b> Can Machines Learn the True Probabilities?<br>",
          "<b>Title:</b> Scientific Machine Learning Benchmarks<br>",
          "<b>Title:</b> Some Insights into Lifelong Reinforcement Learning Systems<br>",
          "<b>Title:</b> Bayesian Optimization for Machine Learning : A Practical Guidebook<br>",
          "<b>Title:</b> Towards A Rigorous Science of Interpretable Machine Learning<br>",
          "<b>Title:</b> Infrastructure for Usable Machine Learning: The Stanford DAWN Project<br>",
          "<b>Title:</b> Techniques for Interpretable Machine Learning<br>",
          "<b>Title:</b> Solving machine learning optimization problems using quantum computers<br>",
          "<b>Title:</b> Lale: Consistent Automated Machine Learning<br>",
          "<b>Title:</b> Differential Replication in Machine Learning<br>",
          "<b>Title:</b> Teaching Uncertainty Quantification in Machine Learning through Use Cases<br>",
          "<b>Title:</b> mlr3proba: An R Package for Machine Learning in Survival Analysis<br>",
          "<b>Title:</b> Introduction to Machine Learning for Physicians: A Survival Guide for Data Deluge<br>",
          "<b>Title:</b> Machine learning-assisted close-set X-ray diffraction phase identification of transition metals<br>",
          "<b>Title:</b> Insights From Insurance for Fair Machine Learning<br>",
          "<b>Title:</b> Quantum Dynamics of Machine Learning<br>",
          "<b>Title:</b> On the Conditions for Domain Stability for Machine Learning: a Mathematical Approach<br>",
          "<b>Title:</b> Distributed Multitask Learning<br>",
          "<b>Title:</b> Distributed Stochastic Multi-Task Learning with Graph Regularization<br>",
          "<b>Title:</b> Category Theory in Machine Learning<br>",
          "<b>Title:</b> Energy-Harvesting Distributed Machine Learning<br>",
          "<b>Title:</b> Representation Learning for Electronic Health Records<br>",
          "<b>Title:</b> Meta-Learning: A Survey<br>",
          "<b>Title:</b> Introduction to intelligent computing unit 1<br>",
          "<b>Title:</b> In-Machine-Learning Database: Reimagining Deep Learning with Old-School SQL<br>",
          "<b>Title:</b> Machine Learning Interpretability: A Science rather than a tool<br>",
          "<b>Title:</b> Automated Machine Learning on Graphs: A Survey<br>",
          "<b>Title:</b> Can Machine Learning be Moral?<br>",
          "<b>Title:</b> Compressive Classification (Machine Learning without learning)<br>",
          "<b>Title:</b> A Survey on Resilient Machine Learning<br>",
          "<b>Title:</b> An Introduction to MM Algorithms for Machine Learning and Statistical<br>",
          "<b>Title:</b> Some Requests for Machine Learning Research from the East African Tech Scene<br>",
          "<b>Title:</b> Machine learning and deep learning<br>",
          "<b>Title:</b> Application of Machine Learning Techniques in Aquaculture<br>",
          "<b>Title:</b> TF.Learn: TensorFlow's High-level Module for Distributed Machine Learning<br>",
          "<b>Title:</b> Machine Learning as Ecology<br>",
          "<b>Title:</b> Using Deep Learning and Machine Learning to Detect Epileptic Seizure with Electroencephalography (EEG) Data<br>",
          "<b>Title:</b> SELM: Software Engineering of Machine Learning Models<br>",
          "<b>Title:</b> Machine Learning in Network Security Using KNIME Analytics<br>",
          "<b>Title:</b> Challenges and Opportunities in Quantum Machine Learning<br>",
          "<b>Title:</b> A Theory of Machine Learning<br>",
          "<b>Title:</b> Learning Moore Machines from Input-Output Traces<br>",
          "<b>Title:</b> How Developers Iterate on Machine Learning Workflows -- A Survey of the Applied Machine Learning Literature<br>",
          "<b>Title:</b> Practical Solutions for Machine Learning Safety in Autonomous Vehicles<br>",
          "<b>Title:</b> Julia Language in Machine Learning: Algorithms, Applications, and Open Issues<br>",
          "<b>Title:</b> Modeling Generalization in Machine Learning: A Methodological and Computational Study<br>",
          "<b>Title:</b> Mental Models of Adversarial Machine Learning<br>",
          "<b>Title:</b> Applying Machine Learning to Life Insurance: some knowledge sharing to master it<br>",
          "<b>Title:</b> Machine learning and domain decomposition methods -- a survey<br>",
          "<b>Title:</b> Beyond Model Interpretability: Socio-Structural Explanations in Machine Learning<br>",
          "<b>Title:</b> Aspects of Artificial Intelligence: Transforming Machine Learning Systems Naturally<br>",
          "<b>Title:</b> Learning Theory and Support Vector Machines - a primer<br>",
          "<b>Title:</b> Financial Time Series Data Processing for Machine Learning<br>",
          "<b>Title:</b> Machine Learning using Stata/Python<br>",
          "<b>Title:</b> Pen and Paper Exercises in Machine Learning<br>",
          "<b>Title:</b> Classic machine learning methods<br>",
          "<b>Title:</b> Information Theory and its Relation to Machine Learning<br>"
         ],
         "type": "scattergl",
         "x": {
          "bdata": "1+VEQXJlMEGPukdBMVNHQbrqPEEEPEZBzj09QZVuS0FMATVB3tk+QXtFNkEWID5BKf44QaPsM0GwqztBGeg/QUM8M0FpVjVBjk05QTM8QUGF0zFB0GFIQSQjREEbKTtBPHEyQR32SkHJjEVBArpDQerHTEE6lzhBOIM0QUxnSEFPFD5B7kY6QfFQQ0Ex+jdBXMQuQez7SkFiNEdB4xRBQWqfNUG9pkFBN9U6QVo6PkEZ7EBBasA1QXWsSEFAEDlBWVI6Qe+kN0F1jUpBZlQ1QWngP0HiIjdBolpIQQt3RUGtmUNBJXo4QZ7rTUHDoD9BTXg6QQuDOUEtQT9Bi1g2QWKgRkEUoT5BTEw5QRGGOUE3UDhBsqI0QYEoNUFf4kRBm0MzQZgrSkH/Dj9B40Q2QWDLSkGNpUJBAk5LQZe2RUGuaTtBAhA9Qf2sS0GdeD5BoItGQcIXOkE5GjZBmNY7QdacQEEK+jFBjNxGQcnFQ0GcsDdBRWI+QeluR0E+NklBJ+VHQe4ZRkEuxEZBHKI8QQ==",
          "dtype": "f4"
         },
         "y": {
          "bdata": "WlV+vxWgDMC2MpW/VVoOwEhiz799VJa/LIDhvwLRt78bXxrAaYj3vz1yDMBQWN2/a0Xpv3FOz7+AYbe/c+XUv0q51b8Ye2e/s6yqv8AepL/y5Q7AFDkFwGlOgb9y/Yq/3uQUwJruUEAx5RHADATVvyZxZUDYnALAgClMv+Wmpb8lD4C/d6Mzv0VGs7+EkDHAJkcuv/I1XUB6xKi/iTmkvyDlf7+ewGK/2rTUv+UaDcDwb/K/mLqAvyMnob/VATLAAnb9v1YyK8At41hAFQzIv8JCn78atw3AFxIGwAezAsC5AhrAs/kXwGtQZECVvKS/aVZGvyt7ML9Mc4+/789FvxpCHMAG1rm/dnLLv9Chxb8b1yzAG7LBv4otGcCpx3S/cq0ZwCVFmL+BML+/QibYv5hT3b+QQsG/fXTNv0I/FMCWqum/8xUdwETMX0Aguam/1GCRv6A2u782uBrARCTav16n0b8ULyLAsYsLwArerr+7Jy7AOzObv/3brL+5Jee/Wh3Iv6HEab+A0Xi/2titvw==",
          "dtype": "f4"
         }
        },
        {
         "marker": {
          "color": "#00CC96",
          "line": {
           "width": 0.5
          },
          "opacity": 0.75,
          "size": 8
         },
         "mode": "markers",
         "name": "quantum computing",
         "text": [
          "<b>Title:</b> The Rise of Quantum Internet Computing<br>",
          "<b>Title:</b> Unconventional Quantum Computing Devices<br>",
          "<b>Title:</b> Geometrical perspective on quantum states and quantum computation<br>",
          "<b>Title:</b> Quantum Computation and Quantum Information<br>",
          "<b>Title:</b> Probabilistic Process Algebra to Unifying Quantum and Classical Computing in Closed Systems<br>",
          "<b>Title:</b> Google Quantum AI's Quest for Error-Corrected Quantum Computers<br>",
          "<b>Title:</b> Optimal Stochastic Resource Allocation for Distributed Quantum Computing<br>",
          "<b>Title:</b> Quantum Computational Complexity<br>",
          "<b>Title:</b> Quantum Computers and Quantum Computer Languages: Quantum Assembly Language and Quantum C Language<br>",
          "<b>Title:</b> IBM Quantum Computers: Evolution, Performance, and Future Directions<br>",
          "<b>Title:</b> Duality quantum computer and the efficient quantum simulations<br>",
          "<b>Title:</b> Simulations of Many-Body Quantum Systems by a Quantum Computer<br>",
          "<b>Title:</b> A bird's eye view of quantum computers<br>",
          "<b>Title:</b> A Note on Bulk Quantum Turing Machine<br>",
          "<b>Title:</b> Pulse controlled noise suppressed quantum computation<br>",
          "<b>Title:</b> From Distributed Quantum Computing to Quantum Internet Computing: an Overview<br>",
          "<b>Title:</b> Quantum Cybernetics and Complex Quantum Systems Science - A Quantum Connectionist Exploration<br>",
          "<b>Title:</b> Quantum Computing for Multi Period Asset Allocation<br>",
          "<b>Title:</b> An Introduction to Quantum Computing<br>",
          "<b>Title:</b> Quantum Computing via The Bethe Ansatz<br>",
          "<b>Title:</b> How to Compute Using Quantum Walks<br>",
          "<b>Title:</b> A Uniform Quantum Computing Model Based on Virtual Quantum Processors<br>",
          "<b>Title:</b> Quantum computer: an appliance for playing market games<br>",
          "<b>Title:</b> Integrable Quantum Computation<br>",
          "<b>Title:</b> Quantum Computational Supremacy<br>",
          "<b>Title:</b> Quantum Computation<br>",
          "<b>Title:</b> Post-Hartree-Fock method in Quantum Chemistry for Quantum Computer<br>",
          "<b>Title:</b> Covert Quantum Internet<br>",
          "<b>Title:</b> Phase Information in Quantum Oracle Computing<br>",
          "<b>Title:</b> Photonic Quantum Computing<br>",
          "<b>Title:</b> Photonic Quantum Computers<br>",
          "<b>Title:</b> Quantum Computing in Transport Science: A Review<br>",
          "<b>Title:</b> Quantum computer and its quasiclassical model<br>",
          "<b>Title:</b> Research on quantum compilation of neutral atom quantum computing platform<br>",
          "<b>Title:</b> Quantum computer for dummies (in Russian)<br>",
          "<b>Title:</b> Multiparty Delegated Quantum Computing<br>",
          "<b>Title:</b> What is a quantum computer, and how do we build one?<br>",
          "<b>Title:</b> Fault-Tolerant Postselected Quantum Computation: Threshold Analysis<br>",
          "<b>Title:</b> Why now is the right time to study quantum computing<br>",
          "<b>Title:</b> Simulation of Two-Qubit Grover Algorithm in MBQC with Universal Blind Quantum Computation<br>",
          "<b>Title:</b> Continuous Variable Quantum Algorithms: an Introduction<br>",
          "<b>Title:</b> Quantum computing: principles and applications<br>",
          "<b>Title:</b> Quantum algorithmic information theory<br>",
          "<b>Title:</b> Quantum reservoir computing: a reservoir approach toward quantum machine learning on near-term quantum devices<br>",
          "<b>Title:</b> Efficient Quantum Transforms<br>",
          "<b>Title:</b> Exploring Airline Gate-Scheduling Optimization Using Quantum Computers<br>",
          "<b>Title:</b> Quantum Chaos & Quantum Computers<br>",
          "<b>Title:</b> Review on Quantum Walk Computing: Theory, Implementation, and Application<br>",
          "<b>Title:</b> Quantum memristors for neuromorphic quantum machine learning<br>",
          "<b>Title:</b> DQC$^2$O: Distributed Quantum Computing for Collaborative Optimization in Future Networks<br>",
          "<b>Title:</b> Understanding Quantum Technologies 2024<br>",
          "<b>Title:</b> Quantum Computing Using Crossed Atomic Beams<br>",
          "<b>Title:</b> Quantum Computation: A Computer Science Perspective<br>",
          "<b>Title:</b> Classification of Hybrid Quantum-Classical Computing<br>",
          "<b>Title:</b> Nonlinear Dynamics In Quantum Physics -- Quantum Chaos and Quantum Instantons<br>",
          "<b>Title:</b> Lecture Notes on Quantum Algorithms in Open Quantum Systems<br>",
          "<b>Title:</b> Password authentication schemes on a quantum computer<br>",
          "<b>Title:</b> Bridging Quantum Mechanics and Computing: A Primer for Software Engineers<br>",
          "<b>Title:</b> Authorized quantum computation<br>",
          "<b>Title:</b> Unifying Quantum Computation with Projective Measurements only and One-Way Quantum Computation<br>",
          "<b>Title:</b> Measurement-only verifiable blind quantum computing with quantum input verification<br>",
          "<b>Title:</b> State Stabilization for Gate-Model Quantum Computers<br>",
          "<b>Title:</b> Simulating Grover's Quantum Search in a Classical Computer<br>",
          "<b>Title:</b> Quantum Computation by Quantum Operations on Mixed States<br>",
          "<b>Title:</b> Quantum computation by teleportation and symmetry<br>",
          "<b>Title:</b> Classical computing, quantum computing, and Shor's factoring algorithm<br>",
          "<b>Title:</b> Quantum vs. Symplectic Computers<br>",
          "<b>Title:</b> Accelerated Quantum Amplitude Estimation without QFT<br>",
          "<b>Title:</b> Introduction to topological quantum computation with non-Abelian anyons<br>",
          "<b>Title:</b> Mimicking Time Evolution within a Quantum Ground State: Ground-State Quantum Computation, Cloning, and Teleportation<br>",
          "<b>Title:</b> Quantum Computing: a Quantum Group Approach<br>",
          "<b>Title:</b> A Practitioner's Guide to Quantum Algorithms for Optimisation Problems<br>",
          "<b>Title:</b> The role of Quantum Interference in Quantum Computing<br>",
          "<b>Title:</b> Quantum computation and complexity theory<br>",
          "<b>Title:</b> Comment on 'Resilient Quantum Computation in Correlated Environments: A Quantum Phase Transition Perspective' and 'Fault-tolerant Quantum Computation with Longe-range Correlated Noise'<br>",
          "<b>Title:</b> Classical signal-flow in cluster-state quantum computation<br>",
          "<b>Title:</b> The Power of Adiabatic Quantum Computation with No Sign Problem<br>",
          "<b>Title:</b> Hybrid quantum computing<br>",
          "<b>Title:</b> The quantum algorithm of Kieu does not solve the Hilbert's tenth problem<br>",
          "<b>Title:</b> Computational Methods for Simulating Quantum Computers<br>",
          "<b>Title:</b> Universal Quantum Computation by a Single Photon<br>",
          "<b>Title:</b> Universal quantum computation using quantum annealing with the transverse-field Ising Hamiltonian<br>",
          "<b>Title:</b> A Parallel Quantum Computer Simulator<br>",
          "<b>Title:</b> Parallel Quantum Computing in a Single Ensemble Quantum Computer<br>",
          "<b>Title:</b> QHDL: a Low-Level Circuit Description Language for Quantum Computing<br>",
          "<b>Title:</b> Variance of the sum of independent quantum computing errors<br>",
          "<b>Title:</b> I, Quantum Robot: Quantum Mind control on a Quantum Computer<br>",
          "<b>Title:</b> The Physics of Quantum Information<br>",
          "<b>Title:</b> An Introduction to Quantum Computers<br>",
          "<b>Title:</b> A quantum cellular automaton for universal quantum computation<br>",
          "<b>Title:</b> Quantum Kolmogorov-Arnold networks by combining quantum signal processing circuits<br>",
          "<b>Title:</b> Experimental verification of quantum computations<br>",
          "<b>Title:</b> A quantum walk control plane for distributed quantum computing in quantum networks<br>",
          "<b>Title:</b> Duality and Recycling Computing in Quantum Computers<br>",
          "<b>Title:</b> The universal quantum driving force to speed up a quantum computation -- The unitary quantum dynamics<br>",
          "<b>Title:</b> Topologization of electron liquids with Chern-Simons theory and quantum computation<br>",
          "<b>Title:</b> Quantum logic as motivated by quantum computing<br>",
          "<b>Title:</b> Digital-analog quantum algorithm for the quantum Fourier transform<br>",
          "<b>Title:</b> Prospective Algorithms for Quantum Evolutionary Computation<br>",
          "<b>Title:</b> Quantum Circuit Design for Objective Function Maximization in Gate-Model Quantum Computers<br>"
         ],
         "type": "scattergl",
         "x": {
          "bdata": "QWhOQRKxX0EboF1BdM9bQUWCXEGZYU1BVBNWQYubW0E6DVRBGqlLQSA3Y0Fny2NB3CZTQfKmVEEsgFlB3hVNQa9TT0G7oVxBcZJWQacmX0HEm1VBJY5cQSc2WkEyK11BQEtfQXEwVUGzFl5BPKJQQeQ6X0FisVZBj/RLQVDoUkFEjF5BF29YQQE/UUFrEE9BBNdXQYlOU0HRkk9BIAlRQaRuWkFmelVBS/9aQUXeTUFkvVpBIEtbQYqIZkH7xFNBbKlKQb7oUkG/Tk5B4hlcQTN5WEHz615BZOZhQV23U0GjR1BBUMtQQTtiT0GKkF1BwvBQQWWYXUEyqWJBAgJfQfLKXEFAaVpBmmJWQdUkYUF+B19B8ZlVQdVmT0FgullB3DFbQXY0XEFk+VJBZmheQdYjX0Hj/15BHWhZQd5qX0FEmGFBCmFbQaROZEFd1GZBGldVQcKiV0EPn1FBoupNQffNU0F0jmJBqaRSQSWYUkGIaU9BOHhkQdtUZEGDMlhBc59WQT+kX0G0VFlBIZhbQQ==",
          "dtype": "f4"
         },
         "y": {
          "bdata": "LUejQEMaqUCGQpBA8AWhQPKikEDaGplAms+xQH+5hkAk85tAqlOfQK7upEDwkaVAOkmSQPjNkUBuy7ZAD7KhQKidpUAA3KJAlBWSQMyYj0BYzaBA4aOxQPUPn0DCr41AHqKmQCllj0CrmJ1ASC63QN5mjEC8LYtA4smbQFBDkUC+D6NA3BebQPhdmkC7zrtAyCumQA+mgUAHao9ALD3AQEuXlkCwyKFAC5aIQPRfbECSjZlAB3SwQMHQlECA9aBAXqFXQB/Ar0AfPJFATGqeQEfCjkBcwKxAIoiEQB9GhEDtirZAibqKQJcZuEC6B5BA4JG+QOdZsUDTkaVA7teOQD4QhkBxzYFAdFimQP+tmkCtDpBAssmtQAgTlkB1PK1AiuOyQGjog0BvKX9AGZiNQOFIg0C3ja5AFBOFQIJKpUAr4pFAw1SvQGZ+p0BOfq5AoQekQFZnhUBU4KJAVfqMQOFkmEAF8pVANIysQOesvUDQPLBAKnOnQKrQmEC1g4NAgBSXQIoQrUBRf6xAlpSvQA==",
          "dtype": "f4"
         }
        },
        {
         "marker": {
          "color": "#AB63FA",
          "line": {
           "width": 0.5
          },
          "opacity": 0.75,
          "size": 8
         },
         "mode": "markers",
         "name": "biomolecular modeling",
         "text": [
          "<b>Title:</b> Computing Biomolecular System Steady-states<br>",
          "<b>Title:</b> Predicting biomolecular binding kinetics: A review<br>",
          "<b>Title:</b> Energy-based Analysis of Biomolecular Pathways<br>",
          "<b>Title:</b> Dynamical Response of Nanomechanical Resonators to Biomolecular Interactions<br>",
          "<b>Title:</b> Period-Amplitude Co-variation in Biomolecular Oscillators<br>",
          "<b>Title:</b> Mol-Instructions: A Large-Scale Biomolecular Instruction Dataset for Large Language Models<br>",
          "<b>Title:</b> Theory and simulation of multiphase coexistence in biomolecular mixtures<br>",
          "<b>Title:</b> More powerful biomolecular computers<br>",
          "<b>Title:</b> A review of geometric, topological and graph theory apparatuses for the modeling and analysis of biomolecular data<br>",
          "<b>Title:</b> Multiscale virtual particle based elastic network model (MVP-ENM) for biomolecular normal mode analysis<br>",
          "<b>Title:</b> Biomolecular resource utilization in elementary cell-free gene circuits<br>",
          "<b>Title:</b> Error-Control and Digitalization Concepts for Chemical and Biomolecular Information Processing Systems<br>",
          "<b>Title:</b> Algebraic graph learning of protein-ligand binding affinity<br>",
          "<b>Title:</b> SVSBI: Sequence-based virtual screening of biomolecular interactions<br>",
          "<b>Title:</b> Modular Bond-graph Modelling and Analysis of Biomolecular Systems<br>",
          "<b>Title:</b> Bond Graph Modelling of Chemiosmotic Biomolecular Energy Transduction<br>",
          "<b>Title:</b> Quantum-assisted biomolecular modelling<br>",
          "<b>Title:</b> Coordinated Spatial Pattern Formation in Biomolecular Communication Networks<br>",
          "<b>Title:</b> Non-normality Can Facilitate Pulsing in Biomolecular Circuits<br>",
          "<b>Title:</b> Mesoscopic heterogeneity in biomolecular condensates from sequence patterning<br>",
          "<b>Title:</b> Rejection-free kinetic Monte Carlo simulation of multivalent biomolecular interactions<br>",
          "<b>Title:</b> Improvements to the APBS biomolecular solvation software suite<br>",
          "<b>Title:</b> InstructBioMol: Advancing Biomolecule Understanding and Design Following Human Instructions<br>",
          "<b>Title:</b> The Martini Model in Materials Science<br>",
          "<b>Title:</b> Biomolecular System Energetics<br>",
          "<b>Title:</b> Energy-based Modelling of the Feedback Control of Biomolecular Systems with Cyclic Flow Modulation<br>",
          "<b>Title:</b> Bond Graphs Unify Stoichiometric Analysis and Thermodynamics<br>",
          "<b>Title:</b> An explanation of unexpected Hoxd expressions in mutant mice<br>",
          "<b>Title:</b> Improvements in continuum modeling for biomolecular systems<br>",
          "<b>Title:</b> Effective dissipation: breaking time-reversal symmetry in driven microscopic energy transmission<br>",
          "<b>Title:</b> NepoIP/MM: Towards Accurate Biomolecular Simulation with a Machine Learning/Molecular Mechanics Model Incorporating Polarization Effects<br>",
          "<b>Title:</b> Efficient Formulation of Polarizable Gaussian Multipole Electrostatics for Biomolecular Simulations<br>",
          "<b>Title:</b> Autonomous push-down automaton built on DNA<br>",
          "<b>Title:</b> Sonifying stochastic walks on biomolecular energy landscapes<br>",
          "<b>Title:</b> A Kalman Filter Approach for Biomolecular Systems with Noise Covariance Updating<br>",
          "<b>Title:</b> Flow Matching for Optimal Reaction Coordinates of Biomolecular System<br>",
          "<b>Title:</b> Hamiltonian replica exchange augmented with diffusion-based generative models and importance sampling to assess biomolecular conformational basins and barriers<br>",
          "<b>Title:</b> Variational Methods for Biomolecular Modeling<br>",
          "<b>Title:</b> Non-Markovian theory of vibrational energy relaxation and its applications to biomolecular systems<br>",
          "<b>Title:</b> Biomolecular imaging and electronic damage using X-ray free-electron lasers<br>",
          "<b>Title:</b> Controlling biomolecular condensates via chemical reactions<br>",
          "<b>Title:</b> Natural Light Harvesting Systems: Unraveling the quantum puzzles<br>",
          "<b>Title:</b> Do-calculus enables estimation of causal effects in partially observed biomolecular pathways<br>",
          "<b>Title:</b> Biochemical Filter with Sigmoidal Response: Increasing the Complexity of Biomolecular Logic<br>",
          "<b>Title:</b> Enhanced Sampling Algorithms<br>",
          "<b>Title:</b> Energy fluctuations shape free energy of nonspecific biomolecular interactions<br>",
          "<b>Title:</b> Improving RNA Secondary Structure Design using Deep Reinforcement Learning<br>",
          "<b>Title:</b> Self-assembly of biomolecular condensates with shared components<br>",
          "<b>Title:</b> Non-equilibrium physics of multi-species assembly: From inhibition of fibrils in biomolecular condensates to growth of online distrust<br>",
          "<b>Title:</b> Matching biomolecular structures by registration of point clouds<br>",
          "<b>Title:</b> Technical Report of HelixFold3 for Biomolecular Structure Prediction<br>",
          "<b>Title:</b> Anomalous Long-range Hard-wall Repulsion between Polymers in Solvent Mixtures and Its Implication for Biomolecular Condensates<br>",
          "<b>Title:</b> Weighted persistent homology for biomolecular data analysis<br>",
          "<b>Title:</b> Differential geometry-based solvation and electrolyte transport models for biomolecular modeling: a review<br>",
          "<b>Title:</b> Computing Long Timescale Biomolecular Dynamics using Quasi-Stationary Distribution Kinetic Monte Carlo (QSD-KMC)<br>",
          "<b>Title:</b> Multiscale persistent functions for biomolecular structure characterization<br>",
          "<b>Title:</b> Quantum entanglement phenomena in photosynthetic light harvesting complexes<br>",
          "<b>Title:</b> Theoretical restrictions on longest implicit timescales in Markov state models of biomolecular dynamics<br>",
          "<b>Title:</b> Autonomous free-energy transducer working under thermal fluctuations<br>",
          "<b>Title:</b> Reliable computer simulation methods for electrostatic biomolecular models based on the Poisson-Boltzmann equation<br>",
          "<b>Title:</b> Machine Learning Potentials: A Roadmap Toward Next-Generation Biomolecular Simulations<br>",
          "<b>Title:</b> Markov Field Models: scaling molecular kinetics approaches to large molecular machines<br>",
          "<b>Title:</b> Theory of the center-of-mass diffusion and viscosity of microstructured and variable sequence copolymer liquids<br>",
          "<b>Title:</b> Electrostatics of Salt-Dependent Reentrant Phase Behaviors Highlights Diverse Roles of ATP in Biomolecular Condensates<br>",
          "<b>Title:</b> On the First-Passage Time Fluctuation Theorem in Complex Biomolecular Networks<br>",
          "<b>Title:</b> Diffusion priors for Bayesian 3D reconstruction from incomplete measurements<br>",
          "<b>Title:</b> Modeling of biomolecular machines in non-equilibrium steady states<br>",
          "<b>Title:</b> CryoFM: A Flow-based Foundation Model for Cryo-EM Densities<br>",
          "<b>Title:</b> Enhanced condensate fluidity in modified patchy particle models<br>",
          "<b>Title:</b> Perspective: Markov Models for Long-Timescale Biomolecular Dynamics<br>",
          "<b>Title:</b> Model order reduction for Linear Noise Approximation using time-scale separation (Extended Version)<br>",
          "<b>Title:</b> Design of Experiments for Verifying Biomolecular Networks<br>",
          "<b>Title:</b> Curvature-enhanced Graph Convolutional Network for Biomolecular Interaction Prediction<br>",
          "<b>Title:</b> Bio2Token: All-atom tokenization of any biomolecular structure with Mamba<br>",
          "<b>Title:</b> Learning Biomolecular Models using Signal Temporal Logic<br>",
          "<b>Title:</b> Microvasculature Segmentation in Human BioMolecular Atlas Program (HuBMAP)<br>",
          "<b>Title:</b> Predicting the morphology of multiphase biomolecular condensates from protein interaction networks<br>",
          "<b>Title:</b> A computational framework for optimal and Model Predictive Control of stochastic gene regulatory networks<br>",
          "<b>Title:</b> NeuralPLexer3: Accurate Biomolecular Complex Structure Prediction with Flow Models<br>",
          "<b>Title:</b> Deep Learning-Driven Protein Structure Prediction and Design: Key Model Developments by Nobel Laureates and Multi-Domain Applications<br>",
          "<b>Title:</b> Towards local electromechanical probing of cellular and biomolecular systems in a liquid environment<br>",
          "<b>Title:</b> Plant responses to auxin signals: an operating principle for dynamical sensitivity yet high resilience<br>",
          "<b>Title:</b> Note: Variational Encoding of Protein Dynamics Benefits from Maximizing Latent Autocorrelation<br>",
          "<b>Title:</b> Maximizing Information Gain for the Characterization of Biomolecular Circuits<br>",
          "<b>Title:</b> Molecular Simulations of Liquid Jet Explosions and Shock Waves Induced by X-Ray Free-Electron Lasers<br>",
          "<b>Title:</b> Using Signal Processing in Tandem With Adapted Mixture Models for Classifying Genomic Signals<br>",
          "<b>Title:</b> Internal and interfacial friction in the dynamics of soft/solid interfaces<br>",
          "<b>Title:</b> Quantum coherent biomolecular energy transfer with spatially correlated fluctuations<br>",
          "<b>Title:</b> Interplay between excitation kinetics and reaction-center dynamics in purple bacteria<br>",
          "<b>Title:</b> Non-equilibrium phase transitions in biomolecular signal transduction<br>",
          "<b>Title:</b> Experimental assessment of the contribution of electrodynamic interactions to long-distance recruitment of biomolecular partners: Theoretical basis<br>",
          "<b>Title:</b> *K-means and Cluster Models for Cancer Signatures<br>",
          "<b>Title:</b> A Convex Approach to Steady State Moment Analysis for Stochastic Chemical Reactions<br>",
          "<b>Title:</b> Generalized Charge Energy Rate for Organic Solids and Biomolecular Aggregates Through Drift-Diffusion and Hopping Transport Equations: A Unified Theory<br>",
          "<b>Title:</b> Uncovering the Folding Landscape of RNA Secondary Structure with Deep Graph Embeddings<br>",
          "<b>Title:</b> Controlling the size and adhesion of DNA droplets using surface-active DNA molecules<br>",
          "<b>Title:</b> DeepLNE++ leveraging knowledge distillation for accelerated multi-state path-like collective variables<br>",
          "<b>Title:</b> Condensation and activator/repressor control of a transcription-regulated biomolecular liquid<br>",
          "<b>Title:</b> Iterative variational learning of committor-consistent transition pathways using artificial neural networks<br>",
          "<b>Title:</b> Perfect Stabilization of Biomolecular Adhesions under Load<br>"
         ],
         "type": "scattergl",
         "x": {
          "bdata": "1+2OQJWtPUALXo5A1mQEQLKXJUCKfVtAkQDYP0VEfUCRC4ZAlJJEQCr6dUDCK3lA6AiEQDZ3Z0BXUY5AfPuNQJqZV0CvwHFAyhUuQHRkzz8qpz5AbA43QA02X0BwwDlAiqmPQIR9iEDqMJFAJMkSQJldQUCivRdAi5A/QEiKPUCbbnpAxXdCQG6DUUC822FADnFPQJqlLUB1mxlAUzQHQBcX3j9i8Q9AO8pqQENcekCInUpAxSkhQGdMZ0D4qck/6MHrP/MEb0B+4HBAIDTGP5aLf0DCkTRAFelDQPUKgECO8w1AthhDQJdzF0A+gUVALYRfQMsNOUBSP8g/7TrQP9M6IkC781tAEEM2QCuQW0B+jco/klxDQIiZRkBIg2lAGmWBQBHyY0CyY31A5bZ9QN3yyz/99XNAJ+dvQEOvaUDUdQNATMN9QDqRT0ArVGdAk9zoP88BhEBoOeE/m1QMQB2GDUC8kxxAl7INQBTBQEGo8WVA8MCYvrBBfEDBEKo/RLpXQMTUvT9yQlZAdyu5Pw==",
          "dtype": "f4"
         },
         "y": {
          "bdata": "3FRYQGrDWkB+P15AbEp8QJIkaEDRizZAcO41QDPDgUCSQEBA8J6CQH+6fkAwBXRAtKpKQHssKkD/4lpAxLlaQJTieEDm7HRAKZVlQBtpM0A3AVtAPciNQHqoMEDP8IZAondeQEeja0DIeVdAszRJQL0vhUCBu3dAyYKEQJe3hUAYQ35A/NxfQN+UZkDp/VBAN29TQLfGiEDXXYBAjgd0QP90SUDIYndArRlWQHZtbEACOWNAfpmAQBB2LkAbYjlAl75HQNAHN0C5bCdAgwE+QB5mMkBJDI9AL5VkQPwlN0CVt3NA0p1jQHQee0DdroZAo4E/QPCjYUDMeDxAOoo6QPJxbED7n0ZAZsptQD3kQEDPBjpAAtJaQHnxZ0DCiFdAaJU2QFVQLECd6VlAPYEuQBdwQUDt621Ac10iQBtjJkAd4YtAbCp0QCgoT0BSLWRAElJkQOYXOkB9m4VA54pyQG6xdEBRi2NAgxd5QE66FcDfgWNAS7vBQFyeLEAM1UpAzUpCQNZcS0BhuE1A/zVOQA==",
          "dtype": "f4"
         }
        }
       ],
       "layout": {
        "height": 600,
        "hovermode": "closest",
        "template": {
         "data": {
          "bar": [
           {
            "error_x": {
             "color": "#2a3f5f"
            },
            "error_y": {
             "color": "#2a3f5f"
            },
            "marker": {
             "line": {
              "color": "#E5ECF6",
              "width": 0.5
             },
             "pattern": {
              "fillmode": "overlay",
              "size": 10,
              "solidity": 0.2
             }
            },
            "type": "bar"
           }
          ],
          "barpolar": [
           {
            "marker": {
             "line": {
              "color": "#E5ECF6",
              "width": 0.5
             },
             "pattern": {
              "fillmode": "overlay",
              "size": 10,
              "solidity": 0.2
             }
            },
            "type": "barpolar"
           }
          ],
          "carpet": [
           {
            "aaxis": {
             "endlinecolor": "#2a3f5f",
             "gridcolor": "white",
             "linecolor": "white",
             "minorgridcolor": "white",
             "startlinecolor": "#2a3f5f"
            },
            "baxis": {
             "endlinecolor": "#2a3f5f",
             "gridcolor": "white",
             "linecolor": "white",
             "minorgridcolor": "white",
             "startlinecolor": "#2a3f5f"
            },
            "type": "carpet"
           }
          ],
          "choropleth": [
           {
            "colorbar": {
             "outlinewidth": 0,
             "ticks": ""
            },
            "type": "choropleth"
           }
          ],
          "contour": [
           {
            "colorbar": {
             "outlinewidth": 0,
             "ticks": ""
            },
            "colorscale": [
             [
              0,
              "#0d0887"
             ],
             [
              0.1111111111111111,
              "#46039f"
             ],
             [
              0.2222222222222222,
              "#7201a8"
             ],
             [
              0.3333333333333333,
              "#9c179e"
             ],
             [
              0.4444444444444444,
              "#bd3786"
             ],
             [
              0.5555555555555556,
              "#d8576b"
             ],
             [
              0.6666666666666666,
              "#ed7953"
             ],
             [
              0.7777777777777778,
              "#fb9f3a"
             ],
             [
              0.8888888888888888,
              "#fdca26"
             ],
             [
              1,
              "#f0f921"
             ]
            ],
            "type": "contour"
           }
          ],
          "contourcarpet": [
           {
            "colorbar": {
             "outlinewidth": 0,
             "ticks": ""
            },
            "type": "contourcarpet"
           }
          ],
          "heatmap": [
           {
            "colorbar": {
             "outlinewidth": 0,
             "ticks": ""
            },
            "colorscale": [
             [
              0,
              "#0d0887"
             ],
             [
              0.1111111111111111,
              "#46039f"
             ],
             [
              0.2222222222222222,
              "#7201a8"
             ],
             [
              0.3333333333333333,
              "#9c179e"
             ],
             [
              0.4444444444444444,
              "#bd3786"
             ],
             [
              0.5555555555555556,
              "#d8576b"
             ],
             [
              0.6666666666666666,
              "#ed7953"
             ],
             [
              0.7777777777777778,
              "#fb9f3a"
             ],
             [
              0.8888888888888888,
              "#fdca26"
             ],
             [
              1,
              "#f0f921"
             ]
            ],
            "type": "heatmap"
           }
          ],
          "histogram": [
           {
            "marker": {
             "pattern": {
              "fillmode": "overlay",
              "size": 10,
              "solidity": 0.2
             }
            },
            "type": "histogram"
           }
          ],
          "histogram2d": [
           {
            "colorbar": {
             "outlinewidth": 0,
             "ticks": ""
            },
            "colorscale": [
             [
              0,
              "#0d0887"
             ],
             [
              0.1111111111111111,
              "#46039f"
             ],
             [
              0.2222222222222222,
              "#7201a8"
             ],
             [
              0.3333333333333333,
              "#9c179e"
             ],
             [
              0.4444444444444444,
              "#bd3786"
             ],
             [
              0.5555555555555556,
              "#d8576b"
             ],
             [
              0.6666666666666666,
              "#ed7953"
             ],
             [
              0.7777777777777778,
              "#fb9f3a"
             ],
             [
              0.8888888888888888,
              "#fdca26"
             ],
             [
              1,
              "#f0f921"
             ]
            ],
            "type": "histogram2d"
           }
          ],
          "histogram2dcontour": [
           {
            "colorbar": {
             "outlinewidth": 0,
             "ticks": ""
            },
            "colorscale": [
             [
              0,
              "#0d0887"
             ],
             [
              0.1111111111111111,
              "#46039f"
             ],
             [
              0.2222222222222222,
              "#7201a8"
             ],
             [
              0.3333333333333333,
              "#9c179e"
             ],
             [
              0.4444444444444444,
              "#bd3786"
             ],
             [
              0.5555555555555556,
              "#d8576b"
             ],
             [
              0.6666666666666666,
              "#ed7953"
             ],
             [
              0.7777777777777778,
              "#fb9f3a"
             ],
             [
              0.8888888888888888,
              "#fdca26"
             ],
             [
              1,
              "#f0f921"
             ]
            ],
            "type": "histogram2dcontour"
           }
          ],
          "mesh3d": [
           {
            "colorbar": {
             "outlinewidth": 0,
             "ticks": ""
            },
            "type": "mesh3d"
           }
          ],
          "parcoords": [
           {
            "line": {
             "colorbar": {
              "outlinewidth": 0,
              "ticks": ""
             }
            },
            "type": "parcoords"
           }
          ],
          "pie": [
           {
            "automargin": true,
            "type": "pie"
           }
          ],
          "scatter": [
           {
            "fillpattern": {
             "fillmode": "overlay",
             "size": 10,
             "solidity": 0.2
            },
            "type": "scatter"
           }
          ],
          "scatter3d": [
           {
            "line": {
             "colorbar": {
              "outlinewidth": 0,
              "ticks": ""
             }
            },
            "marker": {
             "colorbar": {
              "outlinewidth": 0,
              "ticks": ""
             }
            },
            "type": "scatter3d"
           }
          ],
          "scattercarpet": [
           {
            "marker": {
             "colorbar": {
              "outlinewidth": 0,
              "ticks": ""
             }
            },
            "type": "scattercarpet"
           }
          ],
          "scattergeo": [
           {
            "marker": {
             "colorbar": {
              "outlinewidth": 0,
              "ticks": ""
             }
            },
            "type": "scattergeo"
           }
          ],
          "scattergl": [
           {
            "marker": {
             "colorbar": {
              "outlinewidth": 0,
              "ticks": ""
             }
            },
            "type": "scattergl"
           }
          ],
          "scattermap": [
           {
            "marker": {
             "colorbar": {
              "outlinewidth": 0,
              "ticks": ""
             }
            },
            "type": "scattermap"
           }
          ],
          "scattermapbox": [
           {
            "marker": {
             "colorbar": {
              "outlinewidth": 0,
              "ticks": ""
             }
            },
            "type": "scattermapbox"
           }
          ],
          "scatterpolar": [
           {
            "marker": {
             "colorbar": {
              "outlinewidth": 0,
              "ticks": ""
             }
            },
            "type": "scatterpolar"
           }
          ],
          "scatterpolargl": [
           {
            "marker": {
             "colorbar": {
              "outlinewidth": 0,
              "ticks": ""
             }
            },
            "type": "scatterpolargl"
           }
          ],
          "scatterternary": [
           {
            "marker": {
             "colorbar": {
              "outlinewidth": 0,
              "ticks": ""
             }
            },
            "type": "scatterternary"
           }
          ],
          "surface": [
           {
            "colorbar": {
             "outlinewidth": 0,
             "ticks": ""
            },
            "colorscale": [
             [
              0,
              "#0d0887"
             ],
             [
              0.1111111111111111,
              "#46039f"
             ],
             [
              0.2222222222222222,
              "#7201a8"
             ],
             [
              0.3333333333333333,
              "#9c179e"
             ],
             [
              0.4444444444444444,
              "#bd3786"
             ],
             [
              0.5555555555555556,
              "#d8576b"
             ],
             [
              0.6666666666666666,
              "#ed7953"
             ],
             [
              0.7777777777777778,
              "#fb9f3a"
             ],
             [
              0.8888888888888888,
              "#fdca26"
             ],
             [
              1,
              "#f0f921"
             ]
            ],
            "type": "surface"
           }
          ],
          "table": [
           {
            "cells": {
             "fill": {
              "color": "#EBF0F8"
             },
             "line": {
              "color": "white"
             }
            },
            "header": {
             "fill": {
              "color": "#C8D4E3"
             },
             "line": {
              "color": "white"
             }
            },
            "type": "table"
           }
          ]
         },
         "layout": {
          "annotationdefaults": {
           "arrowcolor": "#2a3f5f",
           "arrowhead": 0,
           "arrowwidth": 1
          },
          "autotypenumbers": "strict",
          "coloraxis": {
           "colorbar": {
            "outlinewidth": 0,
            "ticks": ""
           }
          },
          "colorscale": {
           "diverging": [
            [
             0,
             "#8e0152"
            ],
            [
             0.1,
             "#c51b7d"
            ],
            [
             0.2,
             "#de77ae"
            ],
            [
             0.3,
             "#f1b6da"
            ],
            [
             0.4,
             "#fde0ef"
            ],
            [
             0.5,
             "#f7f7f7"
            ],
            [
             0.6,
             "#e6f5d0"
            ],
            [
             0.7,
             "#b8e186"
            ],
            [
             0.8,
             "#7fbc41"
            ],
            [
             0.9,
             "#4d9221"
            ],
            [
             1,
             "#276419"
            ]
           ],
           "sequential": [
            [
             0,
             "#0d0887"
            ],
            [
             0.1111111111111111,
             "#46039f"
            ],
            [
             0.2222222222222222,
             "#7201a8"
            ],
            [
             0.3333333333333333,
             "#9c179e"
            ],
            [
             0.4444444444444444,
             "#bd3786"
            ],
            [
             0.5555555555555556,
             "#d8576b"
            ],
            [
             0.6666666666666666,
             "#ed7953"
            ],
            [
             0.7777777777777778,
             "#fb9f3a"
            ],
            [
             0.8888888888888888,
             "#fdca26"
            ],
            [
             1,
             "#f0f921"
            ]
           ],
           "sequentialminus": [
            [
             0,
             "#0d0887"
            ],
            [
             0.1111111111111111,
             "#46039f"
            ],
            [
             0.2222222222222222,
             "#7201a8"
            ],
            [
             0.3333333333333333,
             "#9c179e"
            ],
            [
             0.4444444444444444,
             "#bd3786"
            ],
            [
             0.5555555555555556,
             "#d8576b"
            ],
            [
             0.6666666666666666,
             "#ed7953"
            ],
            [
             0.7777777777777778,
             "#fb9f3a"
            ],
            [
             0.8888888888888888,
             "#fdca26"
            ],
            [
             1,
             "#f0f921"
            ]
           ]
          },
          "colorway": [
           "#636efa",
           "#EF553B",
           "#00cc96",
           "#ab63fa",
           "#FFA15A",
           "#19d3f3",
           "#FF6692",
           "#B6E880",
           "#FF97FF",
           "#FECB52"
          ],
          "font": {
           "color": "#2a3f5f"
          },
          "geo": {
           "bgcolor": "white",
           "lakecolor": "white",
           "landcolor": "#E5ECF6",
           "showlakes": true,
           "showland": true,
           "subunitcolor": "white"
          },
          "hoverlabel": {
           "align": "left"
          },
          "hovermode": "closest",
          "mapbox": {
           "style": "light"
          },
          "paper_bgcolor": "white",
          "plot_bgcolor": "#E5ECF6",
          "polar": {
           "angularaxis": {
            "gridcolor": "white",
            "linecolor": "white",
            "ticks": ""
           },
           "bgcolor": "#E5ECF6",
           "radialaxis": {
            "gridcolor": "white",
            "linecolor": "white",
            "ticks": ""
           }
          },
          "scene": {
           "xaxis": {
            "backgroundcolor": "#E5ECF6",
            "gridcolor": "white",
            "gridwidth": 2,
            "linecolor": "white",
            "showbackground": true,
            "ticks": "",
            "zerolinecolor": "white"
           },
           "yaxis": {
            "backgroundcolor": "#E5ECF6",
            "gridcolor": "white",
            "gridwidth": 2,
            "linecolor": "white",
            "showbackground": true,
            "ticks": "",
            "zerolinecolor": "white"
           },
           "zaxis": {
            "backgroundcolor": "#E5ECF6",
            "gridcolor": "white",
            "gridwidth": 2,
            "linecolor": "white",
            "showbackground": true,
            "ticks": "",
            "zerolinecolor": "white"
           }
          },
          "shapedefaults": {
           "line": {
            "color": "#2a3f5f"
           }
          },
          "ternary": {
           "aaxis": {
            "gridcolor": "white",
            "linecolor": "white",
            "ticks": ""
           },
           "baxis": {
            "gridcolor": "white",
            "linecolor": "white",
            "ticks": ""
           },
           "bgcolor": "#E5ECF6",
           "caxis": {
            "gridcolor": "white",
            "linecolor": "white",
            "ticks": ""
           }
          },
          "title": {
           "x": 0.05
          },
          "xaxis": {
           "automargin": true,
           "gridcolor": "white",
           "linecolor": "white",
           "ticks": "",
           "title": {
            "standoff": 15
           },
           "zerolinecolor": "white",
           "zerolinewidth": 2
          },
          "yaxis": {
           "automargin": true,
           "gridcolor": "white",
           "linecolor": "white",
           "ticks": "",
           "title": {
            "standoff": 15
           },
           "zerolinecolor": "white",
           "zerolinewidth": 2
          }
         }
        },
        "title": {
         "text": "2D UMAP Embeddings"
        },
        "width": 800
       }
      }
     },
     "metadata": {},
     "output_type": "display_data"
    }
   ],
   "source": [
    "colors = cycle(plotly.colors.sequential.Viridis)\n",
    "import plotly.express as px\n",
    "\n",
    "colors = cycle(px.colors.qualitative.Plotly)\n",
    "layout = {\n",
    "    \"title\": \"2D UMAP Embeddings\",\n",
    "    \"width\": 800,\n",
    "    \"height\": 600,\n",
    "    \"hovermode\": \"closest\",\n",
    "}\n",
    "\n",
    "fig = go.Figure(layout=layout)\n",
    "for label in papers[\"query\"].unique():\n",
    "    color = next(colors)\n",
    "    subset = papers[papers[\"query\"] == label]\n",
    "    trace = go.Scattergl(\n",
    "        x = subset[\"umap_x\"],\n",
    "        y = subset[\"umap_y\"],\n",
    "        name = label,\n",
    "        mode = \"markers\",\n",
    "        marker = dict(\n",
    "            color = color,\n",
    "            size = 8,\n",
    "            line = dict(width=0.5),\n",
    "            opacity=0.75\n",
    "        ),\n",
    "        text=subset[\"tooltip\"]\n",
    "    )\n",
    "    fig.add_trace(trace)\n",
    "\n",
    "fig.show()"
   ]
  },
  {
   "cell_type": "code",
   "execution_count": null,
   "id": "0371e189",
   "metadata": {},
   "outputs": [],
   "source": []
  }
 ],
 "metadata": {
  "kernelspec": {
   "display_name": ".venv",
   "language": "python",
   "name": "python3"
  },
  "language_info": {
   "codemirror_mode": {
    "name": "ipython",
    "version": 3
   },
   "file_extension": ".py",
   "mimetype": "text/x-python",
   "name": "python",
   "nbconvert_exporter": "python",
   "pygments_lexer": "ipython3",
   "version": "3.12.1"
  }
 },
 "nbformat": 4,
 "nbformat_minor": 5
}
