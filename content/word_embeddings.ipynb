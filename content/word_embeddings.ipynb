{
 "cells": [
  {
   "cell_type": "markdown",
   "id": "bc9b4ce3",
   "metadata": {},
   "source": [
    "# Word embeddings\n",
    "\n",
    "*This activity has been inspired from the [Word embeddings demo](https://gist.github.com/fgiobergia/b3a20e097f9b697d0a02fb17685cfd5a) by Flavio Giobergia*\n",
    "\n",
    "For this example, we will use the `gensim` library to manipulate word embeddings. "
   ]
  },
  {
   "cell_type": "code",
   "execution_count": 82,
   "id": "0c2dc32f",
   "metadata": {},
   "outputs": [],
   "source": [
    "from gensim.models import KeyedVectors\n",
    "import matplotlib.pyplot as plt\n",
    "from sklearn.decomposition import PCA"
   ]
  },
  {
   "cell_type": "markdown",
   "id": "475af1d4",
   "metadata": {},
   "source": [
    "Download pre-trained word embedding vector from the [fastText](https://fasttext.cc/) website:\n",
    "\n",
    "The file contains 1 million word vectors train on Wikipedia 2017, UMBC corpus and statmt.org news dataset. Be carefull, the file is large (about 650 MB)."
   ]
  },
  {
   "cell_type": "code",
   "execution_count": null,
   "id": "a1ffd37f",
   "metadata": {},
   "outputs": [
    {
     "name": "stdout",
     "output_type": "stream",
     "text": [
      "--2025-05-26 00:21:36--  https://dl.fbaipublicfiles.com/fasttext/vectors-english/wiki-news-300d-1M.vec.zip\n",
      "Résolution de dl.fbaipublicfiles.com (dl.fbaipublicfiles.com)… 2600:9000:2117:bc00:13:6e38:acc0:93a1, 2600:9000:2117:d400:13:6e38:acc0:93a1, 2600:9000:2117:e200:13:6e38:acc0:93a1, ...\n",
      "Connexion à dl.fbaipublicfiles.com (dl.fbaipublicfiles.com)|2600:9000:2117:bc00:13:6e38:acc0:93a1|:443… connecté.\n",
      "requête HTTP transmise, en attente de la réponse… 200 OK\n",
      "Taille : 681808098 (650M) [application/zip]\n",
      "Enregistre : ‘wiki-news-300d-1M.vec.zip.4’\n",
      "\n",
      "wiki-news-300d-1M.v 100%[===================>] 650,22M   105MB/s    ds 6,4s    \n",
      "\n",
      "2025-05-26 00:21:43 (102 MB/s) - ‘wiki-news-300d-1M.vec.zip.4’ enregistré [681808098/681808098]\n",
      "\n",
      "Archive:  wiki-news-300d-1M.vec.zip\n"
     ]
    }
   ],
   "source": [
    "!wget -N https://dl.fbaipublicfiles.com/fasttext/vectors-english/wiki-news-300d-1M.vec.zip\n",
    "!unzip -f wiki-news-300d-1M.vec.zip"
   ]
  },
  {
   "cell_type": "markdown",
   "id": "3da29a80",
   "metadata": {},
   "source": [
    "Load the model into memory. This may take a while (about 4-5 min)."
   ]
  },
  {
   "cell_type": "code",
   "execution_count": 74,
   "id": "863f2c76",
   "metadata": {},
   "outputs": [],
   "source": [
    "word_vectors = KeyedVectors.load_word2vec_format(\"wiki-news-300d-1M.vec\", binary=False)\n",
    "\n"
   ]
  },
  {
   "cell_type": "markdown",
   "id": "21eeb92a",
   "metadata": {},
   "source": [
    "Print vocabulary size (number of words known by the model) and the first 10 words in the vocabulary:"
   ]
  },
  {
   "cell_type": "code",
   "execution_count": 108,
   "id": "e1992356",
   "metadata": {},
   "outputs": [
    {
     "name": "stdout",
     "output_type": "stream",
     "text": [
      "Vocabulary size: 400000\n",
      "Ten first words:\n",
      "the\n",
      ",\n",
      ".\n",
      "of\n",
      "to\n",
      "and\n",
      "in\n",
      "a\n",
      "\"\n",
      "'s\n"
     ]
    }
   ],
   "source": [
    "print(f\"Vocabulary size: {len(word_vectors.index_to_key)}\")\n",
    "print(\"Ten first words:\")\n",
    "for word in word_vectors.index_to_key[:10]:\n",
    "    print(word)"
   ]
  },
  {
   "cell_type": "markdown",
   "id": "d62bf681",
   "metadata": {},
   "source": [
    "Here a *word* is an usual word like `the`, `and`... but also punctuation marks like `,`, `.` or `\"`."
   ]
  },
  {
   "cell_type": "code",
   "execution_count": 109,
   "id": "f470abcc",
   "metadata": {},
   "outputs": [],
   "source": [
    "def print_word_info(word: str) -> None:\n",
    "    try:\n",
    "        vector = word_vectors.get_vector(word)\n",
    "        print(f\"Vector for the '{word}': {vector[:5]}...\")\n",
    "        print(f\"Vector length: {len(vector)}\")\n",
    "    except KeyError:\n",
    "        print(f\"'{word}' not found in vocabulary.\")"
   ]
  },
  {
   "cell_type": "markdown",
   "id": "bca7c473",
   "metadata": {},
   "source": [
    "Print vector size and first coordinates for a couple of words:"
   ]
  },
  {
   "cell_type": "code",
   "execution_count": 110,
   "id": "ee7c0f03",
   "metadata": {},
   "outputs": [
    {
     "name": "stdout",
     "output_type": "stream",
     "text": [
      "Vector for the 'simulation': [-0.51781   0.069206 -0.092875  0.44081  -0.57836 ]...\n",
      "Vector length: 100\n",
      "Vector for the 'science': [-0.13322  0.48858  0.18867  0.33791  0.54542]...\n",
      "Vector length: 100\n",
      "Vector for the 'material': [-0.37457  0.73467  0.56799 -0.53387  0.30161]...\n",
      "Vector length: 100\n"
     ]
    }
   ],
   "source": [
    "print_word_info(\"simulation\")\n",
    "print_word_info(\"science\")\n",
    "print_word_info(\"material\")"
   ]
  },
  {
   "cell_type": "markdown",
   "id": "7e682b5c",
   "metadata": {},
   "source": [
    "Unfortunately, all words are not in the vocabulary:"
   ]
  },
  {
   "cell_type": "code",
   "execution_count": 111,
   "id": "5e9b6e84",
   "metadata": {},
   "outputs": [
    {
     "name": "stdout",
     "output_type": "stream",
     "text": [
      "'CECAM' not found in vocabulary.\n"
     ]
    }
   ],
   "source": [
    "print_word_info(\"CECAM\")\n"
   ]
  },
  {
   "cell_type": "markdown",
   "id": "c5870f64",
   "metadata": {},
   "source": [
    "For a given word, the `similar_by_word()` method returns the most similar words in the vocabulary, together with their similarity score:"
   ]
  },
  {
   "cell_type": "code",
   "execution_count": 112,
   "id": "bd845477",
   "metadata": {},
   "outputs": [
    {
     "data": {
      "text/plain": [
       "[('simulation', 1.0),\n",
       " ('simulations', 0.8206844329833984),\n",
       " ('simulator', 0.7404708862304688),\n",
       " ('modeling', 0.7228801846504211),\n",
       " ('visualization', 0.7066413760185242),\n",
       " ('real-time', 0.6895408630371094),\n",
       " ('modelling', 0.6483812928199768),\n",
       " ('algorithms', 0.6401902437210083),\n",
       " ('computing', 0.6401691436767578),\n",
       " ('simulated', 0.6365459561347961)]"
      ]
     },
     "execution_count": 112,
     "metadata": {},
     "output_type": "execute_result"
    }
   ],
   "source": [
    "word_vectors.similar_by_vector(word_vectors.get_vector(\"simulation\"), topn=10)"
   ]
  },
  {
   "cell_type": "code",
   "execution_count": 113,
   "id": "cfa68334",
   "metadata": {},
   "outputs": [
    {
     "data": {
      "text/plain": [
       "[('learning', 1.0000001192092896),\n",
       " ('teaching', 0.7720069289207458),\n",
       " ('knowledge', 0.76064133644104),\n",
       " ('experience', 0.7378624081611633),\n",
       " ('skills', 0.734375),\n",
       " ('learn', 0.7340658903121948),\n",
       " ('understanding', 0.699902355670929),\n",
       " ('education', 0.6989467740058899),\n",
       " ('educational', 0.6864885687828064),\n",
       " ('lessons', 0.681064784526825)]"
      ]
     },
     "execution_count": 113,
     "metadata": {},
     "output_type": "execute_result"
    }
   ],
   "source": [
    "word_vectors.similar_by_vector(word_vectors.get_vector(\"learning\"), topn=10)"
   ]
  },
  {
   "cell_type": "code",
   "execution_count": null,
   "id": "f666843b",
   "metadata": {},
   "outputs": [],
   "source": []
  },
  {
   "cell_type": "code",
   "execution_count": 114,
   "id": "688a7f76",
   "metadata": {},
   "outputs": [
    {
     "data": {
      "text/plain": [
       "[('king', 0.8551837205886841),\n",
       " ('queen', 0.783441424369812),\n",
       " ('monarch', 0.6933802366256714),\n",
       " ('throne', 0.6833109855651855),\n",
       " ('daughter', 0.6809081435203552),\n",
       " ('prince', 0.6713141798973083),\n",
       " ('princess', 0.664408266544342),\n",
       " ('mother', 0.6579325795173645),\n",
       " ('elizabeth', 0.6563301086425781),\n",
       " ('father', 0.6392418742179871)]"
      ]
     },
     "execution_count": 114,
     "metadata": {},
     "output_type": "execute_result"
    }
   ],
   "source": [
    "target = word_vectors.get_vector(\"king\") - word_vectors.get_vector(\"man\") + word_vectors.get_vector(\"woman\")\n",
    "word_vectors.similar_by_vector(target, topn=10)"
   ]
  },
  {
   "cell_type": "code",
   "execution_count": 115,
   "id": "6d0cf310",
   "metadata": {},
   "outputs": [],
   "source": [
    "countries = [\"norway\", \"germany\", \"france\", \"italy\", \"greece\", \"portugal\"]\n",
    "capitals  = [\"oslo\", \"berlin\",  \"paris\",  \"rome\",  \"athens\", \"lisbon\"]"
   ]
  },
  {
   "cell_type": "code",
   "execution_count": 116,
   "id": "91687552",
   "metadata": {},
   "outputs": [
    {
     "data": {
      "image/png": "[encoded data removed]",
      "text/plain": [
       "<Figure size 1000x1000 with 1 Axes>"
      ]
     },
     "metadata": {},
     "output_type": "display_data"
    }
   ],
   "source": [
    "def plot_pairs(wv, word_list_1, word_list_2):\n",
    "    wv_1 = [ wv.get_vector(word) for word in word_list_1 ]\n",
    "    wv_2 = [ wv.get_vector(word) for word in word_list_2 ]\n",
    "    \n",
    "    pca = PCA(2)\n",
    "    wv_pca = pca.fit_transform(wv_1 + wv_2)\n",
    "    \n",
    "    wv_pca_1 = wv_pca[:len(wv_1)]\n",
    "    wv_pca_2 = wv_pca[len(wv_1):]\n",
    "    \n",
    "    plt.figure(figsize=(10,10))\n",
    "    plt.scatter(wv_pca_1[:,0], wv_pca_1[:,1])\n",
    "    plt.scatter(wv_pca_2[:,0], wv_pca_2[:,1])\n",
    "    \n",
    "    for i, (word_1, word_2) in enumerate(zip(word_list_1, word_list_2)):\n",
    "        plt.annotate(word_1, wv_pca_1[i], xytext=(-10,-15), textcoords=\"offset pixels\")\n",
    "        plt.annotate(word_2, wv_pca_2[i], xytext=(-10,12), textcoords=\"offset pixels\")\n",
    "        \n",
    "    for i in range(len(wv_pca_1)):\n",
    "        plt.arrow(wv_pca_1[i,0], wv_pca_1[i,1], wv_pca_2[i,0]-wv_pca_1[i,0], wv_pca_2[i,1]-wv_pca_1[i,1], shape=\"left\")\n",
    "\n",
    "plot_pairs(word_vectors, countries, capitals)"
   ]
  },
  {
   "cell_type": "code",
   "execution_count": 99,
   "id": "cbdfa1c7",
   "metadata": {},
   "outputs": [],
   "source": [
    "import gensim.downloader"
   ]
  },
  {
   "cell_type": "code",
   "execution_count": 107,
   "id": "7d77e6b1",
   "metadata": {},
   "outputs": [],
   "source": [
    "word_vectors = gensim.downloader.load(\"glove-wiki-gigaword-100\")"
   ]
  },
  {
   "cell_type": "code",
   "execution_count": null,
   "id": "54a23dd8",
   "metadata": {},
   "outputs": [],
   "source": []
  }
 ],
 "metadata": {
  "kernelspec": {
   "display_name": ".venv",
   "language": "python",
   "name": "python3"
  },
  "language_info": {
   "codemirror_mode": {
    "name": "ipython",
    "version": 3
   },
   "file_extension": ".py",
   "mimetype": "text/x-python",
   "name": "python",
   "nbconvert_exporter": "python",
   "pygments_lexer": "ipython3",
   "version": "3.13.3"
  }
 },
 "nbformat": 4,
 "nbformat_minor": 5
}
