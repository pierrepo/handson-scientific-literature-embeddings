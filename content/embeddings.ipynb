{
 "cells": [
  {
   "cell_type": "markdown",
   "id": "bcbc1f82",
   "metadata": {},
   "source": [
    "# Embeddings"
   ]
  },
  {
   "cell_type": "code",
   "execution_count": 19,
   "id": "537ac36e",
   "metadata": {},
   "outputs": [],
   "source": [
    "from fastembed import TextEmbedding\n",
    "import numpy as np"
   ]
  },
  {
   "cell_type": "code",
   "execution_count": 20,
   "id": "e8aa2335",
   "metadata": {},
   "outputs": [
    {
     "name": "stderr",
     "output_type": "stream",
     "text": [
      "/tmp/ipykernel_21455/8704592.py:1: UserWarning: The model 'nomic-ai/nomic-embed-text-v1.5-Q' has been updated on HuggingFace. Please review the latest documentation on HF and release notes to ensure compatibility with your workflow. \n",
      "  model = TextEmbedding(\"nomic-ai/nomic-embed-text-v1.5-Q\")\n"
     ]
    }
   ],
   "source": [
    "model = TextEmbedding(\"nomic-ai/nomic-embed-text-v1.5-Q\")"
   ]
  },
  {
   "cell_type": "code",
   "execution_count": 36,
   "id": "2ebf9e9e",
   "metadata": {},
   "outputs": [
    {
     "name": "stdout",
     "output_type": "stream",
     "text": [
      "[[ 0.70329978  0.02525277 -4.40054187 ... -0.17826884 -0.80318859\n",
      "   0.23847118]\n",
      " [-0.06255058  0.13147501 -4.58792774 ... -0.71538995 -0.44876148\n",
      "  -0.10093051]\n",
      " [ 1.25304838  1.40500208 -3.2893273  ... -0.65090753 -0.96511991\n",
      "   0.75159575]\n",
      " [ 0.34926691  1.47190462 -3.88811466 ... -0.2833063  -0.72235805\n",
      "   0.69709539]\n",
      " [ 1.01016351  2.40784875 -2.92780794 ... -0.53184041 -1.6033492\n",
      "  -0.08021339]]\n",
      "(5, 768)\n"
     ]
    }
   ],
   "source": [
    "sentences = [\n",
    "    \"The weather is lovely today.\",\n",
    "    \"It's very sunny outside!\",\n",
    "    \"Are you watching the soccer game on TV?\",\n",
    "    \"I love playing football.\",\n",
    "    \"Are you studying nanoporous materials?\",\n",
    "]\n",
    "embeddings = np.array(list(model.embed(sentences)))\n",
    "print(embeddings)\n",
    "print(embeddings.shape)\n"
   ]
  },
  {
   "cell_type": "code",
   "execution_count": 40,
   "id": "f9f391e8",
   "metadata": {},
   "outputs": [
    {
     "data": {
      "text/plain": [
       "array([[1.        , 0.77348657, 0.46430899, 0.48702773, 0.34210545],\n",
       "       [0.77348657, 1.        , 0.54587678, 0.49601083, 0.32882801],\n",
       "       [0.46430899, 0.54587678, 1.        , 0.57748252, 0.42942115],\n",
       "       [0.48702773, 0.49601083, 0.57748252, 1.        , 0.36879339],\n",
       "       [0.34210545, 0.32882801, 0.42942115, 0.36879339, 1.        ]])"
      ]
     },
     "execution_count": 40,
     "metadata": {},
     "output_type": "execute_result"
    }
   ],
   "source": [
    "# Normalize embeddings\n",
    "norms = np.linalg.norm(embeddings, axis=1, keepdims=True)\n",
    "embeddings_normalized = embeddings / norms\n",
    "# Compute cosine similarity matrix\n",
    "similarity_matrix = np.dot(embeddings_normalized, embeddings_normalized.T)\n",
    "similarity_matrix"
   ]
  },
  {
   "cell_type": "code",
   "execution_count": 44,
   "id": "3f908732",
   "metadata": {},
   "outputs": [
    {
     "name": "stdout",
     "output_type": "stream",
     "text": [
      "Sentence: The weather is lovely today.\n",
      "Most similar: It's very sunny outside!\n",
      "Cosine similarity: 0.773\n",
      "----------------------------------------\n",
      "Sentence: It's very sunny outside!\n",
      "Most similar: The weather is lovely today.\n",
      "Cosine similarity: 0.773\n",
      "----------------------------------------\n",
      "Sentence: Are you watching the soccer game on TV?\n",
      "Most similar: I love to play football.\n",
      "Cosine similarity: 0.577\n",
      "----------------------------------------\n",
      "Sentence: I love to play football.\n",
      "Most similar: Are you watching the soccer game on TV?\n",
      "Cosine similarity: 0.577\n",
      "----------------------------------------\n",
      "Sentence: Are you studying nanoporous materials?\n",
      "Most similar: Are you watching the soccer game on TV?\n",
      "Cosine similarity: 0.429\n",
      "----------------------------------------\n"
     ]
    }
   ],
   "source": [
    "# Set the diagonal to -inf to exclude self-similarity\n",
    "np.fill_diagonal(similarity_matrix, -np.inf)\n",
    "\n",
    "for i, sentence in enumerate(sentences):\n",
    "    # Exclure la similarité avec soi-même\n",
    "    row = similarity_matrix[i]\n",
    "    most_sim_idx = np.argmax(row)\n",
    "    print(f\"Sentence: {sentence}\")\n",
    "    print(f\"Most similar: {sentences[most_sim_idx]}\")\n",
    "    print(f\"Cosine similarity: {row[most_sim_idx]:.3f}\")\n",
    "    print(\"-\" * 40)"
   ]
  }
 ],
 "metadata": {
  "kernelspec": {
   "display_name": ".venv",
   "language": "python",
   "name": "python3"
  },
  "language_info": {
   "codemirror_mode": {
    "name": "ipython",
    "version": 3
   },
   "file_extension": ".py",
   "mimetype": "text/x-python",
   "name": "python",
   "nbconvert_exporter": "python",
   "pygments_lexer": "ipython3",
   "version": "3.13.3"
  }
 },
 "nbformat": 4,
 "nbformat_minor": 5
}
