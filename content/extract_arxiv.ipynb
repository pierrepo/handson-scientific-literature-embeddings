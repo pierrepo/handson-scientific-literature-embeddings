{
 "cells": [
  {
   "cell_type": "markdown",
   "id": "cf0c1095",
   "metadata": {},
   "source": [
    "# Extract paper titles and abstracts from arXiv"
   ]
  },
  {
   "cell_type": "code",
   "execution_count": 8,
   "id": "0ab0e9cd",
   "metadata": {},
   "outputs": [],
   "source": [
    "import json\n",
    "import re\n",
    "import xml.etree.ElementTree as ET\n",
    "\n",
    "import requests"
   ]
  },
  {
   "cell_type": "code",
   "execution_count": 9,
   "id": "90357eba",
   "metadata": {},
   "outputs": [],
   "source": [
    "def clean_text(text: str) -> str:\n",
    "    \"\"\"Remove unwanted characters from text.\"\"\"\n",
    "    # Replace \\\" with `\n",
    "    text = text.replace('\\\"', \"'\")\n",
    "    # Replace newlines by spaces\n",
    "    text = text.strip().replace(\"\\n\", \" \")\n",
    "    # Remove extra spaces\n",
    "    text = re.sub(r\"\\s+\", \" \", text)\n",
    "    return text"
   ]
  },
  {
   "cell_type": "markdown",
   "id": "66f5e289",
   "metadata": {},
   "source": [
    "arXiv API [documentation](https://info.arxiv.org/help/api/basics.html) and [user's manual](https://info.arxiv.org/help/api/user-manual.html)"
   ]
  },
  {
   "cell_type": "code",
   "execution_count": 10,
   "id": "72429eef",
   "metadata": {},
   "outputs": [],
   "source": [
    "queries = [\n",
    "    \"nanoporous materials\",\n",
    "    \"many-body\",\n",
    "    \"machine learning\",\n",
    "    \"quantum computing\",\n",
    "    \"biomolecular modeling\",\n",
    "]"
   ]
  },
  {
   "cell_type": "code",
   "execution_count": 11,
   "id": "a7dd4f47",
   "metadata": {},
   "outputs": [],
   "source": [
    "def query_arxiv(query: str, max_results: int = 10) -> str:\n",
    "    \"\"\"Query the arXiv API for a given search term.\"\"\"\n",
    "    print(f\"Querying {max_results} papers from arXiv for: {query}\")\n",
    "    BASE_URL = \"http://export.arxiv.org/api/query\"\n",
    "    params = {\n",
    "        \"search_query\": f\"all:{query}\",\n",
    "        \"sortBy\": \"relevance\",\n",
    "        \"sortOrder\": \"descending\",\n",
    "        \"start\": 0,\n",
    "        \"max_results\": max_results\n",
    "    }\n",
    "    response = requests.get(BASE_URL, params=params)\n",
    "    if response.status_code != 200:\n",
    "        print(f\"Error querying arXiv: {response.status_code}\")\n",
    "        return \"\"\n",
    "    return response.text\n",
    "\n",
    "def parse_arxiv_response(query: str, response: str) -> list:\n",
    "    if not response:\n",
    "        return []\n",
    "    root = ET.fromstring(response)\n",
    "    namespace = {\"atom\": \"http://www.w3.org/2005/Atom\"}\n",
    "    entries = []\n",
    "    for entry in root.findall(\"atom:entry\", namespace):\n",
    "        paper_id = entry.find(\"atom:id\", namespace).text\n",
    "        date = entry.find(\"atom:published\", namespace).text\n",
    "        title = clean_text(entry.find(\"atom:title\", namespace).text)\n",
    "        abstract = clean_text(entry.find(\"atom:summary\", namespace).text)\n",
    "        entries.append({\n",
    "            \"id\": paper_id,\n",
    "            \"date\": date,\n",
    "            \"title\": title,\n",
    "            \"abstract\": abstract,\n",
    "            \"category\": query,\n",
    "        })\n",
    "    return entries"
   ]
  },
  {
   "cell_type": "code",
   "execution_count": 12,
   "id": "76d4a126",
   "metadata": {},
   "outputs": [
    {
     "name": "stdout",
     "output_type": "stream",
     "text": [
      "Querying 100 papers from arXiv for: nanoporous materials\n",
      "Querying 100 papers from arXiv for: many-body\n",
      "Querying 100 papers from arXiv for: machine learning\n",
      "Querying 100 papers from arXiv for: quantum computing\n",
      "Querying 100 papers from arXiv for: biomolecular modeling\n"
     ]
    }
   ],
   "source": [
    "entries = []\n",
    "for query in queries:\n",
    "    query_result = query_arxiv(query, max_results=100)\n",
    "    entries += parse_arxiv_response(query, query_result)\n",
    "\n",
    "with open(\"arxiv_papers.json\", \"w\", encoding=\"utf-8\") as file_out:\n",
    "    json.dump(entries, file_out, indent=2, ensure_ascii=False)\n"
   ]
  },
  {
   "cell_type": "code",
   "execution_count": null,
   "id": "1c0253f9",
   "metadata": {},
   "outputs": [],
   "source": []
  }
 ],
 "metadata": {
  "kernelspec": {
   "display_name": ".venv",
   "language": "python",
   "name": "python3"
  },
  "language_info": {
   "codemirror_mode": {
    "name": "ipython",
    "version": 3
   },
   "file_extension": ".py",
   "mimetype": "text/x-python",
   "name": "python",
   "nbconvert_exporter": "python",
   "pygments_lexer": "ipython3",
   "version": "3.12.1"
  }
 },
 "nbformat": 4,
 "nbformat_minor": 5
}
